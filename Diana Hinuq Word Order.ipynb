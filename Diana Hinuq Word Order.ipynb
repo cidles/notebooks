{
 "metadata": {
  "name": "",
  "signature": "sha256:7f648e2216019f2bd9da0c118c5ffce01d7409438cb8152960c19f0ee776ca5b"
 },
 "nbformat": 3,
 "nbformat_minor": 0,
 "worksheets": [
  {
   "cells": [
    {
     "cell_type": "markdown",
     "metadata": {},
     "source": [
      "# 0. Loading the data"
     ]
    },
    {
     "cell_type": "markdown",
     "metadata": {},
     "source": [
      "The data was exported from an Excel file, in Open Office, with \"Save As\"->\"Text CSV\", as \"UTF-8\", \"{Tabulator}\" as field seperator and double quotes (\") as text seperator."
     ]
    },
    {
     "cell_type": "code",
     "collapsed": false,
     "input": [
      "%load_ext autoreload\n",
      "%autoreload 2"
     ],
     "language": "python",
     "metadata": {},
     "outputs": [],
     "prompt_number": 1
    },
    {
     "cell_type": "code",
     "collapsed": false,
     "input": [
      "import helpers.diana\n",
      "\n",
      "tier_numbers = {\n",
      "    \"clause_id\": 2,\n",
      "    \"clause_type\": 3,\n",
      "    \"grammatical_relation\": 4,\n",
      "    \"pos_agreement\": 5,\n",
      "    \"last_line\": 7\n",
      "}\n",
      "ag = helpers.diana.from_excel(\"data/Hinuq3.csv\", tier_numbers=tier_numbers)"
     ],
     "language": "python",
     "metadata": {},
     "outputs": [],
     "prompt_number": 2
    },
    {
     "cell_type": "markdown",
     "metadata": {},
     "source": [
      "# 1. Linear order"
     ]
    },
    {
     "cell_type": "code",
     "collapsed": false,
     "input": [
      "import collections\n",
      "\n",
      "verbs = [ 'COP', 'SAY', 'v.tr', 'v.intr', 'v.aff' ]\n",
      "verb_map = { v: \"V\" for v in verbs}\n",
      "others = [ 'A', 'S', 'P', 'EXP', 'STIM', 'zero-A', 'zero-S', 'zero-P', 'zero-EXP', 'zero-STIM' ]\n",
      "search_terms = verbs + others\n",
      "\n",
      "word_orders = collections.defaultdict(int)\n",
      "word_orders_ids = collections.defaultdict(list)\n",
      "\n",
      "for wo in helpers.diana.word_orders(ag, search_terms):\n",
      "    word_orders[tuple(wo.word_order)] += 1\n",
      "    word_orders_ids[tuple(wo.word_order)].append(wo.clause_id)\n",
      "\n",
      "for word_order, count in word_orders.items():\n",
      "    print(\"{0} => {1}\".format(word_order, count))\n",
      "    if count < 5:\n",
      "        print(\"    {1}\".format(word_order, word_orders_ids[word_order]))"
     ],
     "language": "python",
     "metadata": {},
     "outputs": [
      {
       "output_type": "stream",
       "stream": "stdout",
       "text": [
        "('zero-EXP', 'v.aff', 'STIM') => 8\n",
        "('zero-A', 'v.tr', 'P') => 42\n",
        "('COP', 'S') => 33\n",
        "('zero-EXP', 'STIM', 'v.aff') => 26\n",
        "('EXP', 'v.aff', 'zero-STIM') => 1\n",
        "    ['clause_id..n#1024']\n",
        "('S', 'COP') => 94\n",
        "('v.tr', 'P', 'A') => 3\n",
        "    ['clause_id..n#747', 'clause_id..n#798', 'clause_id..n#772']\n",
        "('zero-S', 'v.intr') => 273\n",
        "('STIM', 'v.aff', 'EXP') => 7\n",
        "('v.intr', 'S') => 142\n",
        "('A', 'SAY') => 88\n",
        "('A', 'zero-P', 'v.tr') => 24\n",
        "('STIM', 'EXP', 'v.aff') => 6\n",
        "('v.aff', 'EXP', 'STIM') => 10\n",
        "('zero-S', 'COP') => 2\n",
        "    ['clause_id..n#786', 'clause_id..n#1087']\n",
        "('A', 'v.tr', 'P') => 38\n",
        "('COP', 'zero-S') => 1\n",
        "    ['clause_id..n#187']\n",
        "('v.aff', 'STIM', 'EXP') => 1\n",
        "    ['clause_id..n#1603']\n",
        "('EXP', 'STIM', 'v.aff') => 28\n",
        "('zero-STIM', 'v.aff', 'EXP') => 4\n",
        "    ['clause_id..n#41', 'clause_id..n#872', 'clause_id..n#1225', 'clause_id..n#1663']\n",
        "('P', 'A', 'v.tr') => 25\n",
        "('v.tr', 'A', 'P') => 10\n",
        "('zero-A', 'P', 'v.tr') => 253\n",
        "('A', 'v.tr', 'zero-P') => 1\n",
        "    ['clause_id..n#1278']\n",
        "('S', 'v.intr') => 406\n",
        "('zero-A', 'zero-P', 'v.tr') => 94\n",
        "('zero-P', 'A', 'v.tr') => 4\n",
        "    ['clause_id..n#957', 'clause_id..n#1472', 'clause_id..n#1526', 'clause_id..n#1518']\n",
        "('COP',) => 1\n",
        "    ['clause_id..n#478']\n",
        "('zero-EXP', 'zero-STIM', 'v.aff') => 15\n",
        "('P', 'v.tr', 'A') => 34\n",
        "('A', 'P', 'v.tr') => 112\n",
        "('EXP', 'v.aff', 'STIM') => 19\n",
        "('zero-A', 'SAY') => 22\n",
        "('zero-P', 'v.tr', 'A') => 4\n",
        "    ['clause_id..n#1465', 'clause_id..n#265', 'clause_id..n#948', 'clause_id..n#1375']\n",
        "('EXP', 'zero-STIM', 'v.aff') => 9\n",
        "('SAY', 'A') => 31\n"
       ]
      }
     ],
     "prompt_number": 3
    },
    {
     "cell_type": "markdown",
     "metadata": {},
     "source": [
      "## 1.1. Are subordinate clauses significantly more often verb-final than main clauses?"
     ]
    },
    {
     "cell_type": "code",
     "collapsed": false,
     "input": [
      "word_orders_main = []\n",
      "word_orders_main_count = collections.defaultdict(int)\n",
      "word_orders_sub = []\n",
      "word_orders_sub_count = collections.defaultdict(int)\n",
      "main_clause_types = [ \"m\", \"m.rs\" ]\n",
      "sub_clause_types = [ \"sub\", \"sub.rs\" ]\n",
      "clause_types = main_clause_types + sub_clause_types\n",
      "search_terms = verbs + ['A', 'S', 'P', 'EXP', 'STIM']\n",
      "\n",
      "for wo in helpers.diana.word_orders(ag, search_terms, verb_map):\n",
      "    if \"V\" in wo.word_order and wo.clause_type in clause_types and len(wo.word_order) > 1:\n",
      "        if wo.clause_type in sub_clause_types:\n",
      "            word_orders_sub.append(wo.word_order)\n",
      "            word_orders_sub_count[tuple(wo.word_order)] += 1\n",
      "        else:\n",
      "            word_orders_main.append(wo.word_order)\n",
      "            word_orders_main_count[tuple(wo.word_order)] += 1 "
     ],
     "language": "python",
     "metadata": {},
     "outputs": [],
     "prompt_number": 4
    },
    {
     "cell_type": "markdown",
     "metadata": {},
     "source": [
      "### Statistical test"
     ]
    },
    {
     "cell_type": "markdown",
     "metadata": {},
     "source": [
      "Hypothesis H0: It does not depend on the clause type (sub vs. main) whether the clause unit is verb final."
     ]
    },
    {
     "cell_type": "code",
     "collapsed": false,
     "input": [
      "main_v_fin = 0; main_v_nonfin = 0; sub_v_fin = 0; sub_v_nonfin = 0;\n",
      "for wo, c in word_orders_main_count.items():\n",
      "    if wo[-1] == \"V\":\n",
      "        main_v_fin += c\n",
      "    else:\n",
      "        main_v_nonfin += c\n",
      "for wo, c in word_orders_sub_count.items():\n",
      "    if wo[-1] == \"V\":\n",
      "        sub_v_fin += c\n",
      "    else:\n",
      "        sub_v_nonfin += c\n",
      "cont_table = [ [main_v_fin, main_v_nonfin], [sub_v_fin, sub_v_nonfin] ]\n",
      "cont_table"
     ],
     "language": "python",
     "metadata": {},
     "outputs": [
      {
       "metadata": {},
       "output_type": "pyout",
       "prompt_number": 5,
       "text": [
        "[[734, 346], [343, 38]]"
       ]
      }
     ],
     "prompt_number": 5
    },
    {
     "cell_type": "code",
     "collapsed": false,
     "input": [
      "import scipy.stats\n",
      "oddsratio, pvalue = scipy.stats.fisher_exact(cont_table)\n",
      "pvalue"
     ],
     "language": "python",
     "metadata": {},
     "outputs": [
      {
       "metadata": {},
       "output_type": "pyout",
       "prompt_number": 6,
       "text": [
        "3.7177758031965255e-19"
       ]
      }
     ],
     "prompt_number": 6
    },
    {
     "cell_type": "markdown",
     "metadata": {},
     "source": [
      "We reject the null hypothesis, as the chances of getting a distribution as the observed one are p < 0.05. The clause type affects the verb \"finalness\". In this case subordinate clauses have a sifgnificant higher count of verb final word orders."
     ]
    },
    {
     "cell_type": "markdown",
     "metadata": {},
     "source": [
      "## 1.2. How differ main clauses and subordinate clauses in their word orders?"
     ]
    },
    {
     "cell_type": "markdown",
     "metadata": {},
     "source": [
      "Here are are the basic counts:"
     ]
    },
    {
     "cell_type": "code",
     "collapsed": false,
     "input": [
      "print(\"Counts for main clauses:\")\n",
      "for wo, c in word_orders_main_count.items():\n",
      "    print(\"{0} => {1}\".format(wo, c))\n",
      "print(\"\\nCounts for sub clauses:\")\n",
      "for wo, c in word_orders_sub_count.items():\n",
      "    print(\"{0} => {1}\".format(wo, c))\n"
     ],
     "language": "python",
     "metadata": {},
     "outputs": [
      {
       "output_type": "stream",
       "stream": "stdout",
       "text": [
        "Counts for main clauses:\n",
        "('S', 'V') => 377\n",
        "('V', 'STIM', 'EXP') => 1\n",
        "('V', 'S') => 163\n",
        "('A', 'P', 'V') => 88\n",
        "('STIM', 'V', 'EXP') => 4\n",
        "('V', 'STIM') => 8\n",
        "('EXP', 'STIM', 'V') => 26\n",
        "('P', 'A', 'V') => 21\n",
        "('EXP', 'V', 'STIM') => 19\n",
        "('V', 'EXP') => 4\n",
        "('A', 'V') => 106\n",
        "('STIM', 'V') => 16\n",
        "('V', 'P') => 24\n",
        "('A', 'V', 'P') => 35\n",
        "('V', 'EXP', 'STIM') => 10\n",
        "('V', 'A') => 35\n",
        "('EXP', 'V') => 7\n",
        "('P', 'V') => 87\n",
        "('V', 'P', 'A') => 3\n",
        "('P', 'V', 'A') => 30\n",
        "('V', 'A', 'P') => 10\n",
        "('STIM', 'EXP', 'V') => 6\n",
        "\n",
        "Counts for sub clauses:\n",
        "('S', 'V') => 123\n",
        "('STIM', 'V') => 10\n",
        "('V', 'S') => 10\n",
        "('P', 'V', 'A') => 4\n",
        "('STIM', 'V', 'EXP') => 3\n",
        "('EXP', 'STIM', 'V') => 2\n",
        "('P', 'A', 'V') => 4\n",
        "('EXP', 'V') => 3\n",
        "('A', 'V', 'P') => 3\n",
        "('P', 'V') => 166\n",
        "('A', 'V') => 11\n",
        "('A', 'P', 'V') => 24\n",
        "('V', 'P') => 18\n"
       ]
      }
     ],
     "prompt_number": 7
    },
    {
     "cell_type": "markdown",
     "metadata": {},
     "source": [
      "## 1.3. Where are G, BEN, G, TIME, LOC, ADD usually positioned? (e.g. before or after the verb)"
     ]
    },
    {
     "cell_type": "code",
     "collapsed": false,
     "input": [
      "particles = [ 'G', 'BEN', 'TIME', 'LOC', 'ADD' ]\n",
      "pos_counts = [ [0, 0] for _ in particles ]\n",
      "search_terms = verbs + particles\n",
      "\n",
      "for wo in helpers.diana.word_orders(ag, search_terms, verb_map):\n",
      "    for i, p in enumerate(particles):\n",
      "        if \"V\" in wo.word_order and p in wo.word_order:\n",
      "            if wo.word_order.index(\"V\") < wo.word_order.index(p):\n",
      "                pos_counts[i][0] += 1\n",
      "            else:\n",
      "                pos_counts[i][1] += 1\n",
      "                \n",
      "for i, p in enumerate(particles):\n",
      "    print(p)\n",
      "    print(\"    Count after verb:  {0}\".format(pos_counts[i][0]))\n",
      "    print(\"    Count before verb: {0}\".format(pos_counts[i][1]))"
     ],
     "language": "python",
     "metadata": {},
     "outputs": [
      {
       "output_type": "stream",
       "stream": "stdout",
       "text": [
        "G\n",
        "    Count after verb:  111\n",
        "    Count before verb: 252\n",
        "BEN\n",
        "    Count after verb:  17\n",
        "    Count before verb: 68\n",
        "TIME\n",
        "    Count after verb:  9\n",
        "    Count before verb: 99\n",
        "LOC\n",
        "    Count after verb:  28\n",
        "    Count before verb: 122\n",
        "ADD\n",
        "    Count after verb:  29\n",
        "    Count before verb: 33\n"
       ]
      }
     ],
     "prompt_number": 8
    },
    {
     "cell_type": "markdown",
     "metadata": {},
     "source": [
      "## 1.4. In main clauses: are BEN arguments significantly more often positioned before the verb than after the verb?"
     ]
    },
    {
     "cell_type": "code",
     "collapsed": false,
     "input": [
      "particles = [ 'BEN', 'G', 'ADD' ]\n",
      "pos_counts = [ [0, 0] for _ in particles ]\n",
      "search_terms = verbs + particles\n",
      "\n",
      "before = 0\n",
      "after = 0\n",
      "for wo in helpers.diana.word_orders(ag, search_terms, verb_map):\n",
      "    for i, p in enumerate(particles):\n",
      "        if wo.clause_type in main_clause_types and \"V\" in wo.word_order and p in wo.word_order:\n",
      "            if wo.word_order.index(\"V\") < wo.word_order.index(p):\n",
      "                pos_counts[i][0] += 1\n",
      "            else:\n",
      "                pos_counts[i][1] += 1\n",
      "\n",
      "for i, p in enumerate(particles):\n",
      "    print(p)\n",
      "    print(\"    Count after verb:  {0}\".format(pos_counts[i][0]))\n",
      "    print(\"    Count before verb: {0}\".format(pos_counts[i][1]))"
     ],
     "language": "python",
     "metadata": {},
     "outputs": [
      {
       "output_type": "stream",
       "stream": "stdout",
       "text": [
        "BEN\n",
        "    Count after verb:  14\n",
        "    Count before verb: 54\n",
        "G\n",
        "    Count after verb:  103\n",
        "    Count before verb: 151\n",
        "ADD\n",
        "    Count after verb:  28\n",
        "    Count before verb: 29\n"
       ]
      }
     ],
     "prompt_number": 9
    },
    {
     "cell_type": "markdown",
     "metadata": {},
     "source": [
      "### Statistical test\n",
      "\n",
      "I am using a binomial test here: http://docs.scipy.org/doc/scipy/reference/generated/scipy.stats.binom_test.html#scipy.stats.binom_test"
     ]
    },
    {
     "cell_type": "code",
     "collapsed": false,
     "input": [
      "part_sum = [ 0, 0 ]\n",
      "for i, p in enumerate(particles):\n",
      "    part_sum[0] += pos_counts[i][0]\n",
      "    part_sum[1] += pos_counts[i][1]\n",
      "    print(\"Test for '{0}'\".format(p))\n",
      "    print(scipy.stats.binom_test(pos_counts[i]))\n",
      "print(\"Test for 'BEN+G+ADD'\")\n",
      "print(scipy.stats.binom_test(part_sum))"
     ],
     "language": "python",
     "metadata": {},
     "outputs": [
      {
       "output_type": "stream",
       "stream": "stdout",
       "text": [
        "Test for 'BEN'\n",
        "1.10972567279e-06\n",
        "Test for 'G'\n",
        "0.00311070663735\n",
        "Test for 'ADD'\n",
        "1.0\n",
        "Test for 'BEN+G+ADD'\n",
        "5.62656137825e-06\n"
       ]
      }
     ],
     "prompt_number": 10
    },
    {
     "cell_type": "markdown",
     "metadata": {},
     "source": [
      "Except for \"ADD\" it is very unlikely that those counts are random. So the difference for \"BEN\" and \"G\" and \"BEN+G+ADD\" is significant."
     ]
    },
    {
     "cell_type": "markdown",
     "metadata": {},
     "source": [
      "## 1.5. In main and sub clauses: Are BEN + G + ADD significantly more often occurring after the verb than A or P or LOC, A + P or A + P + LOC?"
     ]
    },
    {
     "cell_type": "code",
     "collapsed": false,
     "input": [
      "particles = [ 'BEN', 'G', 'ADD', 'A', 'P', 'LOC' ]\n",
      "pos_counts = [ [0, 0] for _ in particles ]\n",
      "search_terms = verbs + particles\n",
      "\n",
      "before = 0\n",
      "after = 0\n",
      "for wo in helpers.diana.word_orders(ag, search_terms, verb_map):\n",
      "    for i, p in enumerate(particles):\n",
      "        if \"V\" in wo.word_order and p in wo.word_order:\n",
      "            if wo.word_order.index(\"V\") < wo.word_order.index(p):\n",
      "                pos_counts[i][0] += 1\n",
      "            else:\n",
      "                pos_counts[i][1] += 1"
     ],
     "language": "python",
     "metadata": {},
     "outputs": [],
     "prompt_number": 11
    },
    {
     "cell_type": "markdown",
     "metadata": {},
     "source": [
      "Hypothesis H0: It does not depend on the grammatical relation type if a participant appears before or after the verb.\n",
      "\n",
      "For the test we use the Fisher exact test, as this test also works for small numbers (http://docs.scipy.org/doc/scipy-0.13.0/reference/generated/scipy.stats.fisher_exact.html)."
     ]
    },
    {
     "cell_type": "markdown",
     "metadata": {},
     "source": [
      "### BEN + G + ADD vs. A"
     ]
    },
    {
     "cell_type": "code",
     "collapsed": false,
     "input": [
      "BEN_G_ADD = [ 0, 0 ]\n",
      "BEN_G_ADD[0] = pos_counts[0][0] + pos_counts[1][0] + pos_counts[2][0]\n",
      "BEN_G_ADD[1] = pos_counts[0][1] + pos_counts[1][1] + pos_counts[2][1]\n",
      "cont_table = [ BEN_G_ADD, pos_counts[3] ]\n",
      "cont_table"
     ],
     "language": "python",
     "metadata": {},
     "outputs": [
      {
       "metadata": {},
       "output_type": "pyout",
       "prompt_number": 12,
       "text": [
        "[[157, 353], [82, 292]]"
       ]
      }
     ],
     "prompt_number": 12
    },
    {
     "cell_type": "code",
     "collapsed": false,
     "input": [
      "oddsratio, pvalue = scipy.stats.fisher_exact(cont_table)\n",
      "pvalue"
     ],
     "language": "python",
     "metadata": {},
     "outputs": [
      {
       "metadata": {},
       "output_type": "pyout",
       "prompt_number": 13,
       "text": [
        "0.0035761096863860167"
       ]
      }
     ],
     "prompt_number": 13
    },
    {
     "cell_type": "markdown",
     "metadata": {},
     "source": [
      "We reject the null hpythesis H0 because p < 0.05. The grammatical relation type does have influence on whether a participant appears before or after the verb. In this case, A appears significantly more often before the verb then BEN + G + ADD."
     ]
    },
    {
     "cell_type": "markdown",
     "metadata": {},
     "source": [
      "### BEN + G + ADD vs. P"
     ]
    },
    {
     "cell_type": "code",
     "collapsed": false,
     "input": [
      "cont_table = [ BEN_G_ADD, pos_counts[4] ]\n",
      "cont_table"
     ],
     "language": "python",
     "metadata": {},
     "outputs": [
      {
       "metadata": {},
       "output_type": "pyout",
       "prompt_number": 14,
       "text": [
        "[[157, 353], [93, 424]]"
       ]
      }
     ],
     "prompt_number": 14
    },
    {
     "cell_type": "code",
     "collapsed": false,
     "input": [
      "oddsratio, pvalue = scipy.stats.fisher_exact(cont_table)\n",
      "pvalue"
     ],
     "language": "python",
     "metadata": {},
     "outputs": [
      {
       "metadata": {},
       "output_type": "pyout",
       "prompt_number": 15,
       "text": [
        "2.0804748208486202e-06"
       ]
      }
     ],
     "prompt_number": 15
    },
    {
     "cell_type": "markdown",
     "metadata": {},
     "source": [
      "Again, we reject the null hypothesis because p < 0.05. P occurs more often before the verb then BEN + G + ADD."
     ]
    },
    {
     "cell_type": "markdown",
     "metadata": {},
     "source": [
      "### BEN + G + ADD vs. LOC"
     ]
    },
    {
     "cell_type": "code",
     "collapsed": false,
     "input": [
      "cont_table = [ BEN_G_ADD, pos_counts[5] ]\n",
      "cont_table"
     ],
     "language": "python",
     "metadata": {},
     "outputs": [
      {
       "metadata": {},
       "output_type": "pyout",
       "prompt_number": 16,
       "text": [
        "[[157, 353], [28, 122]]"
       ]
      }
     ],
     "prompt_number": 16
    },
    {
     "cell_type": "code",
     "collapsed": false,
     "input": [
      "oddsratio, pvalue = scipy.stats.fisher_exact(cont_table)\n",
      "pvalue"
     ],
     "language": "python",
     "metadata": {},
     "outputs": [
      {
       "metadata": {},
       "output_type": "pyout",
       "prompt_number": 17,
       "text": [
        "0.0036929308655807127"
       ]
      }
     ],
     "prompt_number": 17
    },
    {
     "cell_type": "markdown",
     "metadata": {},
     "source": [
      "Again, we reject the null hypothesis because p < 0.05. LOC occurs more often before the verb then BEN + G + ADD."
     ]
    },
    {
     "cell_type": "markdown",
     "metadata": {},
     "source": [
      "### BEN + G + ADD vs. A + P"
     ]
    },
    {
     "cell_type": "code",
     "collapsed": false,
     "input": [
      "A_P = [ 0, 0 ]\n",
      "A_P[0] = pos_counts[3][0] + pos_counts[4][0]\n",
      "A_P[1] = pos_counts[3][1] + pos_counts[4][1]\n",
      "cont_table = [ BEN_G_ADD, A_P ]\n",
      "cont_table"
     ],
     "language": "python",
     "metadata": {},
     "outputs": [
      {
       "metadata": {},
       "output_type": "pyout",
       "prompt_number": 18,
       "text": [
        "[[157, 353], [175, 716]]"
       ]
      }
     ],
     "prompt_number": 18
    },
    {
     "cell_type": "code",
     "collapsed": false,
     "input": [
      "oddsratio, pvalue = scipy.stats.fisher_exact(cont_table)\n",
      "pvalue"
     ],
     "language": "python",
     "metadata": {},
     "outputs": [
      {
       "metadata": {},
       "output_type": "pyout",
       "prompt_number": 19,
       "text": [
        "3.3374996181763293e-06"
       ]
      }
     ],
     "prompt_number": 19
    },
    {
     "cell_type": "markdown",
     "metadata": {},
     "source": [
      "Again, we reject the null hypothesis because p < 0.05. A + P occurs more often before the verb then BEN + G + ADD."
     ]
    },
    {
     "cell_type": "markdown",
     "metadata": {},
     "source": [
      "### BEN + G + ADD vs. A + P + LOC"
     ]
    },
    {
     "cell_type": "code",
     "collapsed": false,
     "input": [
      "A_P_LOC = [ 0, 0 ]\n",
      "A_P_LOC[0] = pos_counts[3][0] + pos_counts[4][0] + pos_counts[5][0]\n",
      "A_P_LOC[1] = pos_counts[3][1] + pos_counts[4][1] + pos_counts[5][1]\n",
      "cont_table = [ BEN_G_ADD, A_P_LOC ]\n",
      "cont_table"
     ],
     "language": "python",
     "metadata": {},
     "outputs": [
      {
       "metadata": {},
       "output_type": "pyout",
       "prompt_number": 20,
       "text": [
        "[[157, 353], [203, 838]]"
       ]
      }
     ],
     "prompt_number": 20
    },
    {
     "cell_type": "code",
     "collapsed": false,
     "input": [
      "oddsratio, pvalue = scipy.stats.fisher_exact(cont_table)\n",
      "pvalue"
     ],
     "language": "python",
     "metadata": {},
     "outputs": [
      {
       "metadata": {},
       "output_type": "pyout",
       "prompt_number": 21,
       "text": [
        "1.4327318331957229e-06"
       ]
      }
     ],
     "prompt_number": 21
    },
    {
     "cell_type": "markdown",
     "metadata": {},
     "source": [
      "Again, we reject the null hypothesis because p < 0.05. A + P + LOC occurs more often before the verb then BEN + G + ADD."
     ]
    },
    {
     "cell_type": "markdown",
     "metadata": {},
     "source": [
      "## 1.5.1. In main clauses only: BEN vs. P, ADD vs. P, BEN + ADD vs. P, A vs. P, A vs. S"
     ]
    },
    {
     "cell_type": "code",
     "collapsed": false,
     "input": [
      "particles = [ 'BEN', 'G', 'ADD', 'A', 'P', 'LOC', 'S' ]\n",
      "pos_counts = [ [0, 0] for _ in particles ]\n",
      "search_terms = verbs + particles\n",
      "\n",
      "before = 0\n",
      "after = 0\n",
      "for wo in helpers.diana.word_orders(ag, search_terms, verb_map):\n",
      "    for i, p in enumerate(particles):\n",
      "        if wo.clause_type in main_clause_types and \"V\" in wo.word_order and p in wo.word_order:\n",
      "            if wo.word_order.index(\"V\") < wo.word_order.index(p):\n",
      "                pos_counts[i][0] += 1\n",
      "            else:\n",
      "                pos_counts[i][1] += 1"
     ],
     "language": "python",
     "metadata": {},
     "outputs": [],
     "prompt_number": 22
    },
    {
     "cell_type": "markdown",
     "metadata": {},
     "source": [
      "### BEN vs. P"
     ]
    },
    {
     "cell_type": "code",
     "collapsed": false,
     "input": [
      "cont_table = [ pos_counts[0], pos_counts[4] ]\n",
      "cont_table"
     ],
     "language": "python",
     "metadata": {},
     "outputs": [
      {
       "metadata": {},
       "output_type": "pyout",
       "prompt_number": 23,
       "text": [
        "[[14, 54], [72, 226]]"
       ]
      }
     ],
     "prompt_number": 23
    },
    {
     "cell_type": "code",
     "collapsed": false,
     "input": [
      "oddsratio, pvalue = scipy.stats.fisher_exact(cont_table)\n",
      "pvalue"
     ],
     "language": "python",
     "metadata": {},
     "outputs": [
      {
       "metadata": {},
       "output_type": "pyout",
       "prompt_number": 24,
       "text": [
        "0.63498783480640697"
       ]
      }
     ],
     "prompt_number": 24
    },
    {
     "cell_type": "markdown",
     "metadata": {},
     "source": [
      "We cannot reject H0. There is no significant difference between BEN and P if they appear before or after the verb."
     ]
    },
    {
     "cell_type": "markdown",
     "metadata": {},
     "source": [
      "### ADD vs. P"
     ]
    },
    {
     "cell_type": "code",
     "collapsed": false,
     "input": [
      "cont_table = [ pos_counts[2], pos_counts[4] ]\n",
      "cont_table"
     ],
     "language": "python",
     "metadata": {},
     "outputs": [
      {
       "metadata": {},
       "output_type": "pyout",
       "prompt_number": 25,
       "text": [
        "[[28, 29], [72, 226]]"
       ]
      }
     ],
     "prompt_number": 25
    },
    {
     "cell_type": "code",
     "collapsed": false,
     "input": [
      "oddsratio, pvalue = scipy.stats.fisher_exact(cont_table)\n",
      "pvalue"
     ],
     "language": "python",
     "metadata": {},
     "outputs": [
      {
       "metadata": {},
       "output_type": "pyout",
       "prompt_number": 26,
       "text": [
        "0.00031708160303060872"
       ]
      }
     ],
     "prompt_number": 26
    },
    {
     "cell_type": "markdown",
     "metadata": {},
     "source": [
      "We can reject H0. P occurs more often before the verb then ADD."
     ]
    },
    {
     "cell_type": "markdown",
     "metadata": {},
     "source": [
      "### BEN + ADD vs. P"
     ]
    },
    {
     "cell_type": "code",
     "collapsed": false,
     "input": [
      "BEN_ADD = [ 0, 0 ]\n",
      "BEN_ADD[0] = pos_counts[0][0] + pos_counts[2][0]\n",
      "BEN_ADD[1] = pos_counts[0][1] + pos_counts[2][1]\n",
      "cont_table = [ BEN_ADD, pos_counts[4] ]\n",
      "cont_table"
     ],
     "language": "python",
     "metadata": {},
     "outputs": [
      {
       "metadata": {},
       "output_type": "pyout",
       "prompt_number": 27,
       "text": [
        "[[42, 83], [72, 226]]"
       ]
      }
     ],
     "prompt_number": 27
    },
    {
     "cell_type": "code",
     "collapsed": false,
     "input": [
      "oddsratio, pvalue = scipy.stats.fisher_exact(cont_table)\n",
      "pvalue"
     ],
     "language": "python",
     "metadata": {},
     "outputs": [
      {
       "metadata": {},
       "output_type": "pyout",
       "prompt_number": 28,
       "text": [
        "0.054556656373823037"
       ]
      }
     ],
     "prompt_number": 28
    },
    {
     "cell_type": "markdown",
     "metadata": {},
     "source": [
      "We cannot reject H0. There is no significant difference between BEN + ADD vs. P if they appear before or after the verb. Although the evidence is on the edge, so with more data it might be significant."
     ]
    },
    {
     "cell_type": "markdown",
     "metadata": {},
     "source": [
      "### A vs. P"
     ]
    },
    {
     "cell_type": "code",
     "collapsed": false,
     "input": [
      "cont_table = [ pos_counts[3], pos_counts[4] ]\n",
      "cont_table"
     ],
     "language": "python",
     "metadata": {},
     "outputs": [
      {
       "metadata": {},
       "output_type": "pyout",
       "prompt_number": 29,
       "text": [
        "[[78, 250], [72, 226]]"
       ]
      }
     ],
     "prompt_number": 29
    },
    {
     "cell_type": "code",
     "collapsed": false,
     "input": [
      "oddsratio, pvalue = scipy.stats.fisher_exact(cont_table)\n",
      "pvalue"
     ],
     "language": "python",
     "metadata": {},
     "outputs": [
      {
       "metadata": {},
       "output_type": "pyout",
       "prompt_number": 30,
       "text": [
        "0.92553990155932386"
       ]
      }
     ],
     "prompt_number": 30
    },
    {
     "cell_type": "markdown",
     "metadata": {},
     "source": [
      "We cannot reject H0. There is no significant difference between A and P if they appear before or after the verb."
     ]
    },
    {
     "cell_type": "markdown",
     "metadata": {},
     "source": [
      "### A vs. S"
     ]
    },
    {
     "cell_type": "code",
     "collapsed": false,
     "input": [
      "cont_table = [ pos_counts[3], pos_counts[5] ]\n",
      "cont_table"
     ],
     "language": "python",
     "metadata": {},
     "outputs": [
      {
       "metadata": {},
       "output_type": "pyout",
       "prompt_number": 31,
       "text": [
        "[[78, 250], [27, 97]]"
       ]
      }
     ],
     "prompt_number": 31
    },
    {
     "cell_type": "code",
     "collapsed": false,
     "input": [
      "oddsratio, pvalue = scipy.stats.fisher_exact(cont_table)\n",
      "pvalue"
     ],
     "language": "python",
     "metadata": {},
     "outputs": [
      {
       "metadata": {},
       "output_type": "pyout",
       "prompt_number": 32,
       "text": [
        "0.70898128553715467"
       ]
      }
     ],
     "prompt_number": 32
    },
    {
     "cell_type": "markdown",
     "metadata": {},
     "source": [
      "We cannot reject H0. There is no significant difference between A and S if they appear before or after the verb."
     ]
    },
    {
     "cell_type": "markdown",
     "metadata": {},
     "source": [
      "## 1.6. SAY: Does SAY have more often an overtly expressed A than all other transitive verbs?\n",
      "\n",
      "Hypothesis 1 (H0): It does not depend on the type of the verb (SAY vs. others) if the A is expressed ouvertly.\n",
      "\n",
      "For the test we use the Fisher exact test, as this test also works for small numbers (http://docs.scipy.org/doc/scipy-0.13.0/reference/generated/scipy.stats.fisher_exact.html)."
     ]
    },
    {
     "cell_type": "code",
     "collapsed": false,
     "input": [
      "other_verbs = [ 'COP', 'v.tr', 'v.intr', 'v.aff' ]\n",
      "search_terms = other_verbs + [ 'SAY', 'A', 'zero-A' ]\n",
      "verb_map = { v: \"V\" for v in other_verbs }\n",
      "SAY_counts = [ 0, 0 ]\n",
      "others_counts = [ 0, 0 ]\n",
      "for wo in helpers.diana.word_orders(ag, search_terms, verb_map):\n",
      "    if 'SAY' in wo.word_order:\n",
      "        if 'A' in wo.word_order:\n",
      "            SAY_counts[0] += 1\n",
      "        elif 'zero-A' in wo.word_order:\n",
      "            SAY_counts[1] += 1\n",
      "    if 'V' in wo.word_order:\n",
      "        if 'A' in wo.word_order:\n",
      "            others_counts[0] += 1\n",
      "        elif 'zero-A' in wo.word_order:\n",
      "            others_counts[1] += 1"
     ],
     "language": "python",
     "metadata": {},
     "outputs": [],
     "prompt_number": 33
    },
    {
     "cell_type": "code",
     "collapsed": false,
     "input": [
      "cont_table = [ SAY_counts, others_counts ]\n",
      "cont_table"
     ],
     "language": "python",
     "metadata": {},
     "outputs": [
      {
       "metadata": {},
       "output_type": "pyout",
       "prompt_number": 34,
       "text": [
        "[[119, 22], [255, 389]]"
       ]
      }
     ],
     "prompt_number": 34
    },
    {
     "cell_type": "code",
     "collapsed": false,
     "input": [
      "oddsratio, pvalue = scipy.stats.fisher_exact(cont_table)\n",
      "pvalue"
     ],
     "language": "python",
     "metadata": {},
     "outputs": [
      {
       "metadata": {},
       "output_type": "pyout",
       "prompt_number": 35,
       "text": [
        "3.5525785729571192e-23"
       ]
      }
     ],
     "prompt_number": 35
    },
    {
     "cell_type": "markdown",
     "metadata": {},
     "source": [
      "We reject the null hypothesis because p < 0.05. A is more often ouvert in SAY sentences than in any other sentence with other verb types."
     ]
    },
    {
     "cell_type": "markdown",
     "metadata": {},
     "source": [
      "## 1.7. Does the A of say more often follow its verb than the A of all other transitive verbs?\n",
      "\n",
      "H0: It does not depend on the verb type (A vs. others) if A is before or after the verb."
     ]
    },
    {
     "cell_type": "code",
     "collapsed": false,
     "input": [
      "search_terms = other_verbs + [ 'SAY', 'A' ]\n",
      "SAY_counts = [ 0, 0 ]\n",
      "others_counts = [ 0, 0 ]\n",
      "for wo in helpers.diana.word_orders(ag, search_terms, verb_map):\n",
      "    if 'SAY' in wo.word_order and 'A' in wo.word_order:\n",
      "        if wo.word_order.index(\"SAY\") < wo.word_order.index(\"A\"):\n",
      "            SAY_counts[0] += 1\n",
      "        else:\n",
      "            SAY_counts[1] += 1\n",
      "    if \"V\" in wo.word_order and \"A\" in wo.word_order:\n",
      "        if wo.word_order.index(\"V\") < wo.word_order.index(\"A\"):\n",
      "            others_counts[0] += 1\n",
      "        else:\n",
      "            others_counts[1] += 1"
     ],
     "language": "python",
     "metadata": {},
     "outputs": [],
     "prompt_number": 36
    },
    {
     "cell_type": "code",
     "collapsed": false,
     "input": [
      "cont_table = [ SAY_counts, others_counts ]\n",
      "cont_table"
     ],
     "language": "python",
     "metadata": {},
     "outputs": [
      {
       "metadata": {},
       "output_type": "pyout",
       "prompt_number": 37,
       "text": [
        "[[31, 88], [51, 204]]"
       ]
      }
     ],
     "prompt_number": 37
    },
    {
     "cell_type": "code",
     "collapsed": false,
     "input": [
      "oddsratio, pvalue = scipy.stats.fisher_exact(cont_table)\n",
      "pvalue"
     ],
     "language": "python",
     "metadata": {},
     "outputs": [
      {
       "metadata": {},
       "output_type": "pyout",
       "prompt_number": 38,
       "text": [
        "0.22697216348643534"
       ]
      }
     ],
     "prompt_number": 38
    },
    {
     "cell_type": "markdown",
     "metadata": {},
     "source": [
      "We cannot reject the null hypothesis as p > 0.05. There is no significant difference in SAY vs. other verb sentences between A before and after the verb."
     ]
    },
    {
     "cell_type": "markdown",
     "metadata": {},
     "source": [
      "## 1.8. Does the overt A of SAY more often precede or follow the verb (and what are the frequencies)?"
     ]
    },
    {
     "cell_type": "code",
     "collapsed": false,
     "input": [
      "print(\"A after SAY: {0}\".format(SAY_counts[0]))\n",
      "print(\"A before SAY: {0}\".format(SAY_counts[1]))"
     ],
     "language": "python",
     "metadata": {},
     "outputs": [
      {
       "output_type": "stream",
       "stream": "stdout",
       "text": [
        "A after SAY: 31\n",
        "A before SAY: 88\n"
       ]
      }
     ],
     "prompt_number": 39
    },
    {
     "cell_type": "markdown",
     "metadata": {},
     "source": [
      "# 2. Agreement"
     ]
    },
    {
     "cell_type": "markdown",
     "metadata": {},
     "source": [
      "## 2.1. How frequent is agreement in texts (in main and subordinate clauses)?"
     ]
    },
    {
     "cell_type": "code",
     "collapsed": false,
     "input": [
      "verbs = [ 'v.tr', 'v.intr', 'v.aff' ]\n",
      "agreements = [0, 0]; noagreements = [0, 0];\n",
      "for wo in helpers.diana.word_orders(ag, verbs, with_agreement = True):\n",
      "    for agr in wo.agreement:\n",
      "        if wo.clause_type in sub_clause_types:\n",
      "            if agr == \"noagr\":\n",
      "                noagreements[0] += 1\n",
      "            else:\n",
      "                agreements[0] += 1\n",
      "        else:\n",
      "            if agr == \"noagr\":\n",
      "                noagreements[1] += 1\n",
      "            else:\n",
      "                agreements[1] += 1\n",
      "\n",
      "print(\"I found {0} verbs with and {1} verbs without agreement.\".format(agreements[0]+agreements[1], noagreements[0]+noagreements[1]))\n",
      "print(\"In main clauses: I found {0} verbs with and {1} verbs without agreement.\".format(agreements[1], noagreements[1]))\n",
      "print(\"In sub clauses: I found {0} verbs with and {1} verbs without agreement.\".format(agreements[0], noagreements[0]))"
     ],
     "language": "python",
     "metadata": {},
     "outputs": [
      {
       "output_type": "stream",
       "stream": "stdout",
       "text": [
        "I found 1253 verbs with and 346 verbs without agreement.\n",
        "In main clauses: I found 838 verbs with and 222 verbs without agreement.\n",
        "In sub clauses: I found 415 verbs with and 124 verbs without agreement.\n"
       ]
      }
     ],
     "prompt_number": 40
    },
    {
     "cell_type": "markdown",
     "metadata": {},
     "source": [
      "## 2.2. Do non-agreeing verbs occur more often with overtly expressed S or P or STIM arguments than agreeing verbs (because the agreement prefixes are enough to track the reference)?"
     ]
    },
    {
     "cell_type": "markdown",
     "metadata": {},
     "source": [
      "Hypothesis H0: It does not depend on the verbal agreement if S (or P or STIM) arguments are expressed overtly."
     ]
    },
    {
     "cell_type": "code",
     "collapsed": false,
     "input": [
      "search_terms = verbs + [ 'S', 'P', 'STIM',  'zero-S', 'zero-P', 'zero-STIM' ]\n",
      "cont_table_S = [ [0, 0], [0, 0] ]\n",
      "cont_table_P = [ [0, 0], [0, 0] ]\n",
      "cont_table_STIM = [ [0, 0], [0, 0] ]\n",
      "cont_table_S_P_STIM =  [ [0, 0], [0, 0] ]\n",
      "for wo in helpers.diana.word_orders(ag, search_terms, with_agreement = True):\n",
      "    agreeing = 0\n",
      "    if len(wo.word_order) != len(wo.agreement):\n",
      "        continue\n",
      "    for i, w in enumerate(wo.word_order):\n",
      "        if w in verbs:\n",
      "            if wo.agreement[i] == \"noagr\":\n",
      "                agreeing = 1\n",
      "    if \"zero-S\" in wo.word_order:\n",
      "        cont_table_S[agreeing][0] += 1\n",
      "        cont_table_S_P_STIM[agreeing][0] += 1\n",
      "    elif \"S\" in wo.word_order:\n",
      "        cont_table_S[agreeing][1] += 1\n",
      "        cont_table_S_P_STIM[agreeing][1] += 1\n",
      "    if \"zero-P\" in wo.word_order:\n",
      "        cont_table_P[agreeing][0] += 1\n",
      "        cont_table_S_P_STIM[agreeing][0] += 1\n",
      "    elif \"P\" in wo.word_order:\n",
      "        cont_table_P[agreeing][1] += 1\n",
      "        cont_table_S_P_STIM[agreeing][1] += 1\n",
      "    if \"zero-STIM\" in wo.word_order:\n",
      "        cont_table_STIM[agreeing][0] += 1\n",
      "        cont_table_S_P_STIM[agreeing][0] += 1\n",
      "    elif \"STIM\" in wo.word_order:\n",
      "        cont_table_STIM[agreeing][1] += 1\n",
      "        cont_table_S_P_STIM[agreeing][1] += 1"
     ],
     "language": "python",
     "metadata": {},
     "outputs": [],
     "prompt_number": 41
    },
    {
     "cell_type": "markdown",
     "metadata": {},
     "source": [
      "### Statistical test for S"
     ]
    },
    {
     "cell_type": "code",
     "collapsed": false,
     "input": [
      "cont_table_S"
     ],
     "language": "python",
     "metadata": {},
     "outputs": [
      {
       "metadata": {},
       "output_type": "pyout",
       "prompt_number": 42,
       "text": [
        "[[237, 603], [39, 72]]"
       ]
      }
     ],
     "prompt_number": 42
    },
    {
     "cell_type": "code",
     "collapsed": false,
     "input": [
      "oddsratio, pvalue = scipy.stats.fisher_exact(cont_table_S)\n",
      "pvalue"
     ],
     "language": "python",
     "metadata": {},
     "outputs": [
      {
       "metadata": {},
       "output_type": "pyout",
       "prompt_number": 43,
       "text": [
        "0.14782310141174806"
       ]
      }
     ],
     "prompt_number": 43
    },
    {
     "cell_type": "markdown",
     "metadata": {},
     "source": [
      "We cannot reject the null hypothesis, because p > 0.05. It does not depend on the verbal agreement whether S is expressed overtly."
     ]
    },
    {
     "cell_type": "markdown",
     "metadata": {},
     "source": [
      "### Statistical test for P"
     ]
    },
    {
     "cell_type": "code",
     "collapsed": false,
     "input": [
      "cont_table_P"
     ],
     "language": "python",
     "metadata": {},
     "outputs": [
      {
       "metadata": {},
       "output_type": "pyout",
       "prompt_number": 44,
       "text": [
        "[[70, 344], [57, 173]]"
       ]
      }
     ],
     "prompt_number": 44
    },
    {
     "cell_type": "code",
     "collapsed": false,
     "input": [
      "oddsratio, pvalue = scipy.stats.fisher_exact(cont_table_P)\n",
      "pvalue"
     ],
     "language": "python",
     "metadata": {},
     "outputs": [
      {
       "metadata": {},
       "output_type": "pyout",
       "prompt_number": 45,
       "text": [
        "0.017638070366621489"
       ]
      }
     ],
     "prompt_number": 45
    },
    {
     "cell_type": "markdown",
     "metadata": {},
     "source": [
      "We can reject the hypothesis as p < 0.05. It does depend on verbal agreement whether P is expressed overtly. P is more often expressed overtly when there is agreement on the verb."
     ]
    },
    {
     "cell_type": "markdown",
     "metadata": {},
     "source": [
      "### Staistical test for STIM"
     ]
    },
    {
     "cell_type": "code",
     "collapsed": false,
     "input": [
      "cont_table_STIM"
     ],
     "language": "python",
     "metadata": {},
     "outputs": [
      {
       "metadata": {},
       "output_type": "pyout",
       "prompt_number": 46,
       "text": [
        "[[28, 101], [1, 4]]"
       ]
      }
     ],
     "prompt_number": 46
    },
    {
     "cell_type": "code",
     "collapsed": false,
     "input": [
      "oddsratio, pvalue = scipy.stats.fisher_exact(cont_table_STIM)\n",
      "pvalue"
     ],
     "language": "python",
     "metadata": {},
     "outputs": [
      {
       "metadata": {},
       "output_type": "pyout",
       "prompt_number": 47,
       "text": [
        "1.0"
       ]
      }
     ],
     "prompt_number": 47
    },
    {
     "cell_type": "markdown",
     "metadata": {},
     "source": [
      "Here it is not possible to calculate, as the number of non-agreements is too low. Practically all verbs that have a STIM argument show agreement, whether the argument is expressed or not."
     ]
    },
    {
     "cell_type": "markdown",
     "metadata": {},
     "source": [
      "### Statistical test for S + P + STIM"
     ]
    },
    {
     "cell_type": "code",
     "collapsed": false,
     "input": [
      "cont_table_S_P_STIM"
     ],
     "language": "python",
     "metadata": {},
     "outputs": [
      {
       "metadata": {},
       "output_type": "pyout",
       "prompt_number": 48,
       "text": [
        "[[335, 1048], [97, 249]]"
       ]
      }
     ],
     "prompt_number": 48
    },
    {
     "cell_type": "code",
     "collapsed": false,
     "input": [
      "oddsratio, pvalue = scipy.stats.fisher_exact(cont_table_S_P_STIM)\n",
      "pvalue"
     ],
     "language": "python",
     "metadata": {},
     "outputs": [
      {
       "metadata": {},
       "output_type": "pyout",
       "prompt_number": 49,
       "text": [
        "0.14533478714180809"
       ]
      }
     ],
     "prompt_number": 49
    },
    {
     "cell_type": "markdown",
     "metadata": {},
     "source": [
      "We cannot reject the hypothesis as p > 0.05. It does not depend on the verbal agreement whether S + P + STIM is expressed overtly."
     ]
    },
    {
     "cell_type": "markdown",
     "metadata": {},
     "source": [
      "## 2.3. Differences between the prefixes or not?"
     ]
    },
    {
     "cell_type": "markdown",
     "metadata": {},
     "source": [
      "### 2.3.1. How often do the prefixes occur at all in texts"
     ]
    },
    {
     "cell_type": "code",
     "collapsed": false,
     "input": [
      "verbs = [ 'v.tr', 'v.intr', 'v.aff' ]\n",
      "agreement_sum = collections.defaultdict(int)\n",
      "for wo in helpers.diana.word_orders(ag, verbs, with_agreement = True):\n",
      "    for agr in wo.agreement:\n",
      "        agreement_sum[agr] += 1\n",
      "for agr, count in agreement_sum.items():\n",
      "    print(\"{} => {}\".format(agr, count))"
     ],
     "language": "python",
     "metadata": {},
     "outputs": [
      {
       "output_type": "stream",
       "stream": "stdout",
       "text": [
        "r-5 => 200\n",
        "o-1 => 354\n",
        "noagr => 346\n",
        "y-2 => 161\n",
        "r-nhpl => 51\n",
        "r-hpl => 2\n",
        "b-hpl => 116\n",
        "b-3 => 316\n",
        "y-4 => 53\n"
       ]
      }
     ],
     "prompt_number": 75
    },
    {
     "cell_type": "markdown",
     "metadata": {},
     "source": [
      "### 2.3.2. How often do the prefixes occur with overt arguments"
     ]
    },
    {
     "cell_type": "markdown",
     "metadata": {},
     "source": [
      "We check here first, if the agreement makes sense, i.e. whether the class marker on P, S or STIM is the same as on the verb. All other cases are printed with clause ID, to check manually."
     ]
    },
    {
     "cell_type": "code",
     "collapsed": false,
     "input": [
      "verbs = [ 'v.tr', 'v.intr', 'v.aff' ]\n",
      "search_terms = verbs + [ 'S', 'P', 'STIM', 'zero-S', 'zero-P', 'zero-STIM' ]\n",
      "agreements = collections.defaultdict(int)\n",
      "for wo in helpers.diana.word_orders(ag, search_terms, with_agreement = True):\n",
      "    v_class = None; n_class = None; v_marker = None; n_type = None;\n",
      "    agreement = False\n",
      "    zero = False\n",
      "    if len(wo.word_order) != len(wo.agreement):\n",
      "        print(\"length on blue and yellow line different in ID {}\".format(wo.clause_id))\n",
      "        continue\n",
      "    for i, w in enumerate(wo.word_order):\n",
      "        if w in verbs:\n",
      "            if wo.agreement[i] != \"noagr\":\n",
      "                agreement = True\n",
      "                if \"-\" in wo.agreement[i]:\n",
      "                    v_marker, v_class = wo.agreement[i].split(\"-\")\n",
      "                else:\n",
      "                    print(\"no dash in v agr in ID {}\".format(wo.clause_id))\n",
      "        else:\n",
      "            if \"-\" in wo.agreement[i]:\n",
      "                n_split = wo.agreement[i].split(\"-\")\n",
      "                if len(n_split) > 2:\n",
      "                    print(\"more than one dash in n agr in ID {}\".format(wo.clause_id))\n",
      "                n_class = n_split[1]\n",
      "                #n_type = n_split[1]\n",
      "                if \".\" in n_class:\n",
      "                    n_class, _ = n_class.split(\".\")\n",
      "            else:\n",
      "                print(\"no dash in n agr in ID {}\".format(wo.clause_id))\n",
      "            if w.startswith(\"zero-\"):\n",
      "                zero = True\n",
      "                \n",
      "    if v_class != n_class and agreement:\n",
      "        print(\"n class does not equal v class in ID {} (n_class: {} vs. v_class: {})\".format(wo.clause_id, n_class, v_class))\n",
      "    elif v_class is not None and n_class is not None and not zero:\n",
      "            agreements[\"{}-{}\".format(v_marker, v_class)] += 1"
     ],
     "language": "python",
     "metadata": {},
     "outputs": [
      {
       "output_type": "stream",
       "stream": "stdout",
       "text": [
        "n class does not equal v class in ID clause_id..n#1037 (n_class: imp vs. v_class: 5)\n",
        "n class does not equal v class in ID clause_id..n#1552 (n_class: 2 vs. v_class: hpl)\n",
        "n class does not equal v class in ID clause_id..n#1139 (n_class: 3 vs. v_class: 1)"
       ]
      },
      {
       "output_type": "stream",
       "stream": "stdout",
       "text": [
        "\n"
       ]
      }
     ],
     "prompt_number": 51
    },
    {
     "cell_type": "markdown",
     "metadata": {},
     "source": [
      "Here are the counts for all overt arguments where class markers were equal:"
     ]
    },
    {
     "cell_type": "code",
     "collapsed": false,
     "input": [
      "for agr, count in agreements.items():\n",
      "    print(\"{} => {}\".format(agr, count))"
     ],
     "language": "python",
     "metadata": {},
     "outputs": [
      {
       "output_type": "stream",
       "stream": "stdout",
       "text": [
        "r-5 => 167\n",
        "o-1 => 222\n",
        "y-2 => 119\n",
        "r-nhpl => 46\n",
        "r-hpl => 2\n",
        "b-hpl => 64\n",
        "b-3 => 257\n",
        "y-4 => 42\n"
       ]
      }
     ],
     "prompt_number": 52
    },
    {
     "cell_type": "markdown",
     "metadata": {},
     "source": [
      "### 2.3.3. Does the o-1 prefix more often occur with an ouvert argument than the b/r/y prefix?"
     ]
    },
    {
     "cell_type": "markdown",
     "metadata": {},
     "source": [
      "H0: It does not depend on the prefix (o-1 vs. b) whether the argument is expressed ouvertly."
     ]
    },
    {
     "cell_type": "code",
     "collapsed": false,
     "input": [
      "cont_table = [ [ agreements[\"o-1\"], agreement_sum[\"o-1\"]-agreements[\"o-1\"] ],\n",
      "            [ agreements[\"b-3\"]+agreements[\"b-hpl\"],\n",
      "              agreement_sum[\"b-3\"]+agreement_sum[\"b-hpl\"]-agreements[\"b-3\"]-agreements[\"b-hpl\"] ] ]\n",
      "cont_table"
     ],
     "language": "python",
     "metadata": {},
     "outputs": [
      {
       "metadata": {},
       "output_type": "pyout",
       "prompt_number": 78,
       "text": [
        "[[222, 132], [321, 111]]"
       ]
      }
     ],
     "prompt_number": 78
    },
    {
     "cell_type": "code",
     "collapsed": false,
     "input": [
      "oddsratio, pvalue = scipy.stats.fisher_exact(cont_table)\n",
      "pvalue"
     ],
     "language": "python",
     "metadata": {},
     "outputs": [
      {
       "metadata": {},
       "output_type": "pyout",
       "prompt_number": 80,
       "text": [
        "0.00062729277493344911"
       ]
      }
     ],
     "prompt_number": 80
    },
    {
     "cell_type": "markdown",
     "metadata": {},
     "source": [
      "We reject H0 because p < 0.05. The \"b\" prefix occurs significantly more often with ouvert arguments then the \"o-1\" prefix."
     ]
    },
    {
     "cell_type": "markdown",
     "metadata": {},
     "source": [
      "H0: It does not depend on the prefix (o-1 vs. r) whether the argument is expressed ouvertly."
     ]
    },
    {
     "cell_type": "code",
     "collapsed": false,
     "input": [
      "cont_table = [ [ agreements[\"o-1\"], agreement_sum[\"o-1\"]-agreements[\"o-1\"] ],\n",
      "            [ agreements[\"r-5\"]+agreements[\"r-hpl\"]+agreements[\"r-nhpl\"],\n",
      "              agreement_sum[\"r-5\"]+agreement_sum[\"r-hpl\"]+agreement_sum[\"r-nhpl\"]-agreements[\"r-5\"]-agreements[\"r-hpl\"]-agreements[\"r-nhpl\"] ] ]\n",
      "cont_table"
     ],
     "language": "python",
     "metadata": {},
     "outputs": [
      {
       "metadata": {},
       "output_type": "pyout",
       "prompt_number": 81,
       "text": [
        "[[222, 132], [215, 38]]"
       ]
      }
     ],
     "prompt_number": 81
    },
    {
     "cell_type": "code",
     "collapsed": false,
     "input": [
      "oddsratio, pvalue = scipy.stats.fisher_exact(cont_table)\n",
      "pvalue"
     ],
     "language": "python",
     "metadata": {},
     "outputs": [
      {
       "metadata": {},
       "output_type": "pyout",
       "prompt_number": 82,
       "text": [
        "9.856708011476732e-10"
       ]
      }
     ],
     "prompt_number": 82
    },
    {
     "cell_type": "markdown",
     "metadata": {},
     "source": [
      "We reject H0 because p < 0.05. The \"r\" prefix occurs significantly more often with ouvert arguments than the \"o-1\" prefix."
     ]
    },
    {
     "cell_type": "markdown",
     "metadata": {},
     "source": [
      "H0: It does not depend on the prefix (o-1 vs. y) whether the argument is expressed ouvertly."
     ]
    },
    {
     "cell_type": "code",
     "collapsed": false,
     "input": [
      "cont_table = [ [ agreements[\"o-1\"], agreement_sum[\"o-1\"]-agreements[\"o-1\"] ],\n",
      "            [ agreements[\"y-2\"]+agreements[\"y-4\"],\n",
      "              agreement_sum[\"y-2\"]+agreement_sum[\"y-4\"]-agreements[\"y-2\"]-agreements[\"y-4\"] ] ]\n",
      "cont_table"
     ],
     "language": "python",
     "metadata": {},
     "outputs": [
      {
       "metadata": {},
       "output_type": "pyout",
       "prompt_number": 83,
       "text": [
        "[[222, 132], [161, 53]]"
       ]
      }
     ],
     "prompt_number": 83
    },
    {
     "cell_type": "code",
     "collapsed": false,
     "input": [
      "oddsratio, pvalue = scipy.stats.fisher_exact(cont_table)\n",
      "pvalue"
     ],
     "language": "python",
     "metadata": {},
     "outputs": [
      {
       "metadata": {},
       "output_type": "pyout",
       "prompt_number": 84,
       "text": [
        "0.0022627293600340314"
       ]
      }
     ],
     "prompt_number": 84
    },
    {
     "cell_type": "markdown",
     "metadata": {},
     "source": [
      "We reject H0 because p < 0.05. The \"y\" prefix occurs significantly more often with ouvert arguments than the \"o-1\" prefix."
     ]
    },
    {
     "cell_type": "markdown",
     "metadata": {},
     "source": [
      "# 3. Referential density and distance"
     ]
    },
    {
     "cell_type": "markdown",
     "metadata": {},
     "source": [
      "## 3.1. What is the referential density for COP, v.intr, v.tr and v.aff"
     ]
    },
    {
     "cell_type": "markdown",
     "metadata": {},
     "source": [
      "### COP"
     ]
    },
    {
     "cell_type": "code",
     "collapsed": false,
     "input": [
      "search_terms = [ \"COP\", \"S\" ]\n",
      "possible = 0\n",
      "overt = 0\n",
      "for wo in helpers.diana.word_orders(ag, search_terms):\n",
      "    if \"COP\" in wo.word_order:\n",
      "        possible += 1\n",
      "        if \"S\" in wo.word_order:\n",
      "            overt += 1\n",
      "print(\"{} / {} = {}\".format(overt, possible, float(overt)/possible))"
     ],
     "language": "python",
     "metadata": {},
     "outputs": [
      {
       "output_type": "stream",
       "stream": "stdout",
       "text": [
        "127 / 131 = 0.9694656488549618\n"
       ]
      }
     ],
     "prompt_number": 53
    },
    {
     "cell_type": "markdown",
     "metadata": {},
     "source": [
      "### v.intr"
     ]
    },
    {
     "cell_type": "code",
     "collapsed": false,
     "input": [
      "search_terms = [ \"v.intr\", \"S\" ]\n",
      "possible = 0\n",
      "overt = 0\n",
      "for wo in helpers.diana.word_orders(ag, search_terms):\n",
      "    if \"v.intr\" in wo.word_order:\n",
      "        possible += 1\n",
      "        if \"S\" in wo.word_order:\n",
      "            overt += 1\n",
      "print(\"{} / {} = {}\".format(overt, possible, float(overt)/possible))"
     ],
     "language": "python",
     "metadata": {},
     "outputs": [
      {
       "output_type": "stream",
       "stream": "stdout",
       "text": [
        "548 / 821 = 0.6674786845310596\n"
       ]
      }
     ],
     "prompt_number": 54
    },
    {
     "cell_type": "markdown",
     "metadata": {},
     "source": [
      "### v.tr"
     ]
    },
    {
     "cell_type": "code",
     "collapsed": false,
     "input": [
      "search_terms = [ \"v.tr\", \"A\", \"P\" ]\n",
      "possible = 0\n",
      "overt = 0\n",
      "for wo in helpers.diana.word_orders(ag, search_terms):\n",
      "    if \"v.tr\" in wo.word_order:\n",
      "        possible += 2\n",
      "        if \"A\" in wo.word_order:\n",
      "            overt += 1\n",
      "        if \"P\" in wo.word_order:\n",
      "            overt += 1\n",
      "print(\"{} / {} = {}\".format(overt, possible, float(overt)/possible))"
     ],
     "language": "python",
     "metadata": {},
     "outputs": [
      {
       "output_type": "stream",
       "stream": "stdout",
       "text": [
        "772 / 1288 = 0.5993788819875776\n"
       ]
      }
     ],
     "prompt_number": 55
    },
    {
     "cell_type": "markdown",
     "metadata": {},
     "source": [
      "### v.aff"
     ]
    },
    {
     "cell_type": "code",
     "collapsed": false,
     "input": [
      "search_terms = [ \"v.aff\", \"EXP\", \"STIM\" ]\n",
      "possible = 0\n",
      "overt = 0\n",
      "for wo in helpers.diana.word_orders(ag, search_terms):\n",
      "    if \"v.aff\" in wo.word_order:\n",
      "        possible += 2\n",
      "        if \"EXP\" in wo.word_order:\n",
      "            overt += 1\n",
      "        if \"STIM\" in wo.word_order:\n",
      "            overt += 1\n",
      "print(\"{} / {} = {}\".format(overt, possible, float(overt)/possible))"
     ],
     "language": "python",
     "metadata": {},
     "outputs": [
      {
       "output_type": "stream",
       "stream": "stdout",
       "text": [
        "190 / 268 = 0.7089552238805971\n"
       ]
      }
     ],
     "prompt_number": 56
    },
    {
     "cell_type": "markdown",
     "metadata": {},
     "source": [
      "## 3.2. Is the referential density for agreeing X higher than for non-agreeing X?"
     ]
    },
    {
     "cell_type": "markdown",
     "metadata": {},
     "source": [
      "### v.intr"
     ]
    },
    {
     "cell_type": "code",
     "collapsed": false,
     "input": [
      "search_terms = [ \"v.intr\", \"S\" ]\n",
      "agr_possible = 0\n",
      "agr_overt = 0\n",
      "noagr_possible = 0\n",
      "noagr_overt = 0\n",
      "for wo in helpers.diana.word_orders(ag, search_terms, with_agreement = True):\n",
      "    if len(wo.word_order) != len(wo.agreement):\n",
      "        continue\n",
      "    if \"v.intr\" in wo.word_order:\n",
      "        v_index = wo.word_order.index(\"v.intr\")\n",
      "        if wo.agreement[v_index] == \"noagr\":\n",
      "            noagr_possible += 1\n",
      "            if \"S\" in wo.word_order:\n",
      "                noagr_overt += 1\n",
      "        else:\n",
      "            agr_possible += 1\n",
      "            if \"S\" in wo.word_order:\n",
      "                agr_overt += 1\n",
      "print(\"with agreement: {} / {} = {}\".format(agr_overt, agr_possible, float(agr_overt)/agr_possible))\n",
      "print(\"without agreement: {} / {} = {}\".format(noagr_overt, noagr_possible, float(noagr_overt)/noagr_possible))"
     ],
     "language": "python",
     "metadata": {},
     "outputs": [
      {
       "output_type": "stream",
       "stream": "stdout",
       "text": [
        "with agreement: 476 / 710 = 0.6704225352112676\n",
        "without agreement: 72 / 111 = 0.6486486486486487\n"
       ]
      }
     ],
     "prompt_number": 57
    },
    {
     "cell_type": "markdown",
     "metadata": {},
     "source": [
      "### Statistical test\n",
      "Hypthesis H0: It does not depend on agreement whether S in v.intr sentences is expressed overtly?"
     ]
    },
    {
     "cell_type": "code",
     "collapsed": false,
     "input": [
      "cont_table = [ [agr_overt, agr_possible-agr_overt], [noagr_overt, noagr_possible-noagr_overt] ]\n",
      "oddsratio, pvalue = scipy.stats.fisher_exact(cont_table)\n",
      "print(pvalue)"
     ],
     "language": "python",
     "metadata": {},
     "outputs": [
      {
       "output_type": "stream",
       "stream": "stdout",
       "text": [
        "0.665525212907\n"
       ]
      }
     ],
     "prompt_number": 58
    },
    {
     "cell_type": "markdown",
     "metadata": {},
     "source": [
      "We cannot reject H0 as p > 0.05. It does not depent on agreement wether the argument is expressed overtly."
     ]
    },
    {
     "cell_type": "markdown",
     "metadata": {},
     "source": [
      "### v.tr"
     ]
    },
    {
     "cell_type": "code",
     "collapsed": false,
     "input": [
      "search_terms = [ \"v.tr\", \"A\", \"P\" ]\n",
      "agr_possible = 0\n",
      "agr_overt = 0\n",
      "noagr_possible = 0\n",
      "noagr_overt = 0\n",
      "for wo in helpers.diana.word_orders(ag, search_terms, with_agreement = True):\n",
      "    if len(wo.word_order) != len(wo.agreement):\n",
      "        continue\n",
      "    if \"v.tr\" in wo.word_order:\n",
      "        v_index = wo.word_order.index(\"v.tr\")\n",
      "        if wo.agreement[v_index] == \"noagr\":\n",
      "            noagr_possible += 2\n",
      "            if \"A\" in wo.word_order:\n",
      "                noagr_overt += 1\n",
      "            if \"P\" in wo.word_order:\n",
      "                noagr_overt += 1\n",
      "        else:\n",
      "            agr_possible += 2\n",
      "            if \"A\" in wo.word_order:\n",
      "                agr_overt += 1\n",
      "            if \"P\" in wo.word_order:\n",
      "                agr_overt += 1\n",
      "print(\"with agreement: {} / {} = {}\".format(agr_overt, agr_possible, float(agr_overt)/agr_possible))\n",
      "print(\"without agreement: {} / {} = {}\".format(noagr_overt, noagr_possible, float(noagr_overt)/noagr_possible))"
     ],
     "language": "python",
     "metadata": {},
     "outputs": [
      {
       "output_type": "stream",
       "stream": "stdout",
       "text": [
        "with agreement: 506 / 828 = 0.6111111111111112\n",
        "without agreement: 266 / 460 = 0.5782608695652174\n"
       ]
      }
     ],
     "prompt_number": 59
    },
    {
     "cell_type": "markdown",
     "metadata": {},
     "source": [
      "### Statistical test\n",
      "Hypthesis H0: It does not depend on agreement whether S in v.intr sentences is expressed overtly?"
     ]
    },
    {
     "cell_type": "code",
     "collapsed": false,
     "input": [
      "cont_table = [ [agr_overt, agr_possible-agr_overt], [noagr_overt, noagr_possible-noagr_overt] ]\n",
      "oddsratio, pvalue = scipy.stats.fisher_exact(cont_table)\n",
      "print(pvalue)"
     ],
     "language": "python",
     "metadata": {},
     "outputs": [
      {
       "output_type": "stream",
       "stream": "stdout",
       "text": [
        "0.259811072564\n"
       ]
      }
     ],
     "prompt_number": 60
    },
    {
     "cell_type": "markdown",
     "metadata": {},
     "source": [
      "We cannot reject H0 as p > 0.05. It does not depent on agreement wether the argument is expressed overtly."
     ]
    },
    {
     "cell_type": "markdown",
     "metadata": {},
     "source": [
      "### v.aff"
     ]
    },
    {
     "cell_type": "code",
     "collapsed": false,
     "input": [
      "search_terms = [ \"v.aff\", \"EXP\", \"STIM\" ]\n",
      "agr_possible = 0\n",
      "agr_overt = 0\n",
      "noagr_possible = 0\n",
      "noagr_overt = 0\n",
      "for wo in helpers.diana.word_orders(ag, search_terms, with_agreement = True):\n",
      "    if len(wo.word_order) != len(wo.agreement):\n",
      "        continue\n",
      "    if \"v.aff\" in wo.word_order:\n",
      "        v_index = wo.word_order.index(\"v.aff\")\n",
      "        if wo.agreement[v_index] == \"noagr\":\n",
      "            noagr_possible += 2\n",
      "            if \"EXP\" in wo.word_order:\n",
      "                noagr_overt += 1\n",
      "            if \"STIM\" in wo.word_order:\n",
      "                noagr_overt += 1\n",
      "        else:\n",
      "            agr_possible += 2\n",
      "            if \"EXP\" in wo.word_order:\n",
      "                agr_overt += 1\n",
      "            if \"STIM\" in wo.word_order:\n",
      "                agr_overt += 1\n",
      "print(\"with agreement: {} / {} = {}\".format(agr_overt, agr_possible, float(agr_overt)/agr_possible))\n",
      "print(\"without agreement: {} / {} = {}\".format(noagr_overt, noagr_possible, float(noagr_overt)/noagr_possible))"
     ],
     "language": "python",
     "metadata": {},
     "outputs": [
      {
       "output_type": "stream",
       "stream": "stdout",
       "text": [
        "with agreement: 185 / 258 = 0.7170542635658915\n",
        "without agreement: 5 / 10 = 0.5\n"
       ]
      }
     ],
     "prompt_number": 61
    },
    {
     "cell_type": "markdown",
     "metadata": {},
     "source": [
      "### Statistical test\n",
      "Hypthesis H0: It does not depend on agreement whether S in v.intr sentences is expressed overtly?"
     ]
    },
    {
     "cell_type": "code",
     "collapsed": false,
     "input": [
      "cont_table = [ [agr_overt, agr_possible-agr_overt], [noagr_overt, noagr_possible-noagr_overt] ]\n",
      "oddsratio, pvalue = scipy.stats.fisher_exact(cont_table)\n",
      "print(pvalue)"
     ],
     "language": "python",
     "metadata": {},
     "outputs": [
      {
       "output_type": "stream",
       "stream": "stdout",
       "text": [
        "0.160953027422\n"
       ]
      }
     ],
     "prompt_number": 62
    },
    {
     "cell_type": "markdown",
     "metadata": {},
     "source": [
      "We cannot reject H0 as p > 0.05. It does not depent on agreement wether the argument is expressed overtly."
     ]
    },
    {
     "cell_type": "markdown",
     "metadata": {},
     "source": [
      "# 4. Arguments in \"v.aff\" vs. \"v.tr\" sentences: ouvert vs. zero"
     ]
    },
    {
     "cell_type": "markdown",
     "metadata": {},
     "source": [
      "### Counts"
     ]
    },
    {
     "cell_type": "code",
     "collapsed": false,
     "input": [
      "v_tree = { \"v.aff\": collections.defaultdict(int), \"v.tr\": collections.defaultdict(int) }\n",
      "for wo in word_orders:\n",
      "    v = None\n",
      "    if \"v.tr\" in wo:\n",
      "        v = \"v.tr\"\n",
      "    if \"v.aff\" in wo:\n",
      "        v = \"v.aff\"\n",
      "    if v is not None:\n",
      "        wo2 = tuple([e for e in sorted(wo) if e != \"v.aff\" and e != \"v.tr\"])\n",
      "        v_tree[v][wo2] += word_orders[wo]\n",
      "\n",
      "for v in [\"v.aff\", \"v.tr\"]:\n",
      "    print(v)\n",
      "    for e in v_tree[v]:\n",
      "        print(\"{0} => {1}\".format(e, v_tree[v][e]))"
     ],
     "language": "python",
     "metadata": {},
     "outputs": [
      {
       "output_type": "stream",
       "stream": "stdout",
       "text": [
        "v.aff\n",
        "('zero-EXP', 'zero-STIM') => 15\n",
        "('STIM', 'zero-EXP') => 34\n",
        "('EXP', 'zero-STIM') => 14\n",
        "('EXP', 'STIM') => 71\n",
        "v.tr\n",
        "('A', 'zero-P') => 33\n",
        "('A', 'P') => 222\n",
        "('P', 'zero-A') => 295\n",
        "('zero-A', 'zero-P') => 94\n"
       ]
      }
     ],
     "prompt_number": 63
    },
    {
     "cell_type": "markdown",
     "metadata": {},
     "source": [
      "### Statistical test for A/EXP"
     ]
    },
    {
     "cell_type": "markdown",
     "metadata": {},
     "source": [
      "Hypothesis 1 (H0): It does not depend on the type of the verb (\"v.tr\" vs. \"v.aff\") if the A/EXP is expressed ouvertly.\n",
      "\n",
      "For the test we use the Fisher exact test, as this test also works for small numbers (http://docs.scipy.org/doc/scipy-0.13.0/reference/generated/scipy.stats.fisher_exact.html)."
     ]
    },
    {
     "cell_type": "code",
     "collapsed": false,
     "input": [
      "import scipy.stats\n",
      "cont_table = [\n",
      "    [ v_tree[\"v.aff\"][('EXP', 'zero-STIM')] + v_tree[\"v.aff\"][('EXP', 'STIM')],\n",
      "      v_tree[\"v.aff\"][('zero-EXP', 'zero-STIM')] + v_tree[\"v.aff\"][('STIM', 'zero-EXP')] ],\n",
      "    [ v_tree[\"v.tr\"][('A', 'P')] + v_tree[\"v.tr\"][('A', 'zero-P')], \n",
      "      v_tree[\"v.tr\"][('P', 'zero-A')] + v_tree[\"v.tr\"][('zero-A', 'zero-P')] ]\n",
      "]\n",
      "cont_table"
     ],
     "language": "python",
     "metadata": {},
     "outputs": [
      {
       "metadata": {},
       "output_type": "pyout",
       "prompt_number": 64,
       "text": [
        "[[85, 49], [255, 389]]"
       ]
      }
     ],
     "prompt_number": 64
    },
    {
     "cell_type": "code",
     "collapsed": false,
     "input": [
      "oddsratio, pvalue = scipy.stats.fisher_exact(cont_table)\n",
      "pvalue"
     ],
     "language": "python",
     "metadata": {},
     "outputs": [
      {
       "metadata": {},
       "output_type": "pyout",
       "prompt_number": 65,
       "text": [
        "5.1977253135270883e-07"
       ]
      }
     ],
     "prompt_number": 65
    },
    {
     "cell_type": "markdown",
     "metadata": {},
     "source": [
      "We reject the null hypothesis, as the chances of getting a distribution as the observed one are p < 0.05. The verb type affects the ouvertness of the A/EXP argument. In this case the \"v.aff\" sentences have sigificantly more ouvert arguments EXP then the \"v.tr\" sentences have ouvert A."
     ]
    },
    {
     "cell_type": "markdown",
     "metadata": {},
     "source": [
      "### Statistical test for P/STIM"
     ]
    },
    {
     "cell_type": "markdown",
     "metadata": {},
     "source": [
      "Hypothesis 2 (H0): It does not depend on the type of the verb (\"v.tr\" vs. \"v.aff\") if the P/STIM is expressed ouvertly."
     ]
    },
    {
     "cell_type": "code",
     "collapsed": false,
     "input": [
      "import scipy.stats\n",
      "cont_table = [\n",
      "    [ v_tree[\"v.aff\"][('STIM', 'zero-EXP')] + v_tree[\"v.aff\"][('EXP', 'STIM')],\n",
      "      v_tree[\"v.aff\"][('zero-EXP', 'zero-STIM')] + v_tree[\"v.aff\"][('EXP', 'zero-STIM')] ],\n",
      "    [ v_tree[\"v.tr\"][('A', 'P')] + v_tree[\"v.tr\"][('P', 'zero-A')], \n",
      "      v_tree[\"v.tr\"][('A', 'zero-P')] + v_tree[\"v.tr\"][('zero-A', 'zero-P')] ]\n",
      "]\n",
      "cont_table"
     ],
     "language": "python",
     "metadata": {},
     "outputs": [
      {
       "metadata": {},
       "output_type": "pyout",
       "prompt_number": 66,
       "text": [
        "[[105, 29], [517, 127]]"
       ]
      }
     ],
     "prompt_number": 66
    },
    {
     "cell_type": "code",
     "collapsed": false,
     "input": [
      "oddsratio, pvalue = scipy.stats.fisher_exact(cont_table)\n",
      "pvalue"
     ],
     "language": "python",
     "metadata": {},
     "outputs": [
      {
       "metadata": {},
       "output_type": "pyout",
       "prompt_number": 67,
       "text": [
        "0.63554718109871811"
       ]
      }
     ],
     "prompt_number": 67
    },
    {
     "cell_type": "markdown",
     "metadata": {},
     "source": [
      "In this case we cannot reject the null hypothesis, as p > 0.05. There is no statistical evidence that the verb type affects the ouvertness of P/STIM."
     ]
    },
    {
     "cell_type": "markdown",
     "metadata": {},
     "source": [
      "# 5. Positions of S, A and P"
     ]
    },
    {
     "cell_type": "code",
     "collapsed": false,
     "input": [
      "other_verbs = [ 'COP', 'v.tr', 'v.intr', 'v.aff' ]\n",
      "verb_map = { v: \"V\" for v in other_verbs }\n",
      "\n",
      "A_values = []\n",
      "P_values = []\n",
      "S_values = []\n",
      "for wo in helpers.diana.word_orders(ag, annotation_map = verb_map):\n",
      "    word_order = [w for w in wo.word_order if not w.startswith(\"zero-\")]\n",
      "    if \"V\" in word_order:\n",
      "        v_index = word_order.index(\"V\")\n",
      "        if \"A\" in word_order:\n",
      "            A_values.append(word_order.index(\"A\") - v_index)\n",
      "        if \"P\" in word_order:\n",
      "            P_values.append(word_order.index(\"P\") - v_index)\n",
      "        if \"S\" in word_order:\n",
      "            S_values.append(word_order.index(\"S\") - v_index)"
     ],
     "language": "python",
     "metadata": {},
     "outputs": [],
     "prompt_number": 68
    },
    {
     "cell_type": "code",
     "collapsed": false,
     "input": [
      "%matplotlib inline\n",
      "import matplotlib.pyplot as plt"
     ],
     "language": "python",
     "metadata": {},
     "outputs": [],
     "prompt_number": 69
    },
    {
     "cell_type": "code",
     "collapsed": false,
     "input": [
      "fig, axs = plt.subplots(1, 3, figsize=(14,4))\n",
      "axs[0].hist(S_values, range(min(S_values), max(S_values)+2))\n",
      "axs[0].set_title(\"Positions of S\")\n",
      "axs[1].hist(A_values, range(min(A_values), max(A_values)+2))\n",
      "axs[1].set_title(\"Positions of A\")\n",
      "axs[2].hist(P_values, range(min(P_values), max(P_values)+2))\n",
      "ret = axs[2].set_title(\"Positions of P\")"
     ],
     "language": "python",
     "metadata": {},
     "outputs": [
      {
       "metadata": {},
       "output_type": "display_data",
       "png": "[encoded data removed]",
       "text": [
        "<matplotlib.figure.Figure at 0x7fbbcf0205f8>"
       ]
      }
     ],
     "prompt_number": 70
    },
    {
     "cell_type": "markdown",
     "metadata": {},
     "source": [
      "## Box plots of positions"
     ]
    },
    {
     "cell_type": "code",
     "collapsed": false,
     "input": [
      "plt.figure(figsize=(10,6))\n",
      "plt.boxplot([S_values, A_values, P_values])\n",
      "plt.title(\"Positions of S, A and P\")\n",
      "ret = plt.xticks([1, 2, 3], [\"S\", \"A\", \"P\"])"
     ],
     "language": "python",
     "metadata": {},
     "outputs": [
      {
       "metadata": {},
       "output_type": "display_data",
       "png": "[encoded data removed]",
       "text": [
        "<matplotlib.figure.Figure at 0x7fbbcf00dd68>"
       ]
      }
     ],
     "prompt_number": 71
    },
    {
     "cell_type": "markdown",
     "metadata": {},
     "source": [
      "## Plots by clause type"
     ]
    },
    {
     "cell_type": "code",
     "collapsed": false,
     "input": [
      "A_values = [[], []]\n",
      "P_values = [[], []]\n",
      "S_values = [[], []]\n",
      "clause_types = [\"m\", \"m.rs\", \"sub\", \"sub.rs\"]\n",
      "for wo in helpers.diana.word_orders(ag, annotation_map = verb_map):\n",
      "    word_order = [w for w in wo.word_order if not w.startswith(\"zero-\")]\n",
      "\n",
      "    if \"V\" in word_order and wo.clause_type in clause_types:\n",
      "        ind = 0\n",
      "        if wo.clause_type == \"sub\" or wo.clause_type == \"sub.rs\":\n",
      "            ind = 1\n",
      "        v_index = word_order.index(\"V\")\n",
      "        if \"A\" in word_order:\n",
      "            A_values[ind].append(word_order.index(\"A\") - v_index)\n",
      "        if \"P\" in word_order:\n",
      "            P_values[ind].append(word_order.index(\"P\") - v_index)\n",
      "        if \"S\" in word_order:\n",
      "            S_values[ind].append(word_order.index(\"S\") - v_index)"
     ],
     "language": "python",
     "metadata": {},
     "outputs": [],
     "prompt_number": 72
    },
    {
     "cell_type": "code",
     "collapsed": false,
     "input": [
      "fig, axs = plt.subplots(2, 3, figsize=(14,10))\n",
      "for ind in [0, 1]:\n",
      "    type_text = \"main\"\n",
      "    if ind == 1:\n",
      "        type_text = \"sub\"\n",
      "    axs[ind][0].hist(S_values[ind], range(min(S_values[ind]), max(S_values[ind])+2))\n",
      "    axs[ind][0].set_title(\"Positions of S in {0} clauses\".format(type_text))\n",
      "    axs[ind][1].hist(A_values[ind], range(min(A_values[ind]), max(A_values[ind])+2))\n",
      "    axs[ind][1].set_title(\"Positions of A {0} clauses\".format(type_text))\n",
      "    axs[ind][2].hist(P_values[ind], range(min(P_values[ind]), max(P_values[ind])+2))\n",
      "    ret = axs[ind][2].set_title(\"Positions of P {0} clauses\".format(type_text))"
     ],
     "language": "python",
     "metadata": {},
     "outputs": [
      {
       "metadata": {},
       "output_type": "display_data",
       "png": "[encoded data removed]",
       "text": [
        "<matplotlib.figure.Figure at 0x7fbbcf2e60f0>"
       ]
      }
     ],
     "prompt_number": 73
    },
    {
     "cell_type": "markdown",
     "metadata": {},
     "source": [
      "## Box plots by clause type"
     ]
    },
    {
     "cell_type": "code",
     "collapsed": false,
     "input": [
      "fig, axs = plt.subplots(1, 2, figsize=(14,6))\n",
      "for ind in [0, 1]:\n",
      "    type_text = \"main\"\n",
      "    if ind == 1:\n",
      "        type_text = \"sub\"\n",
      "\n",
      "    axs[ind].boxplot([S_values[ind], A_values[ind], P_values[ind]])\n",
      "    axs[ind].set_title(\"Positions of S, A and P in {0} clauses\".format(type_text))\n",
      "    ret = plt.xticks([1, 2, 3], [\"S\", \"A\", \"P\"])"
     ],
     "language": "python",
     "metadata": {},
     "outputs": [
      {
       "metadata": {},
       "output_type": "display_data",
       "png": "[encoded data removed]",
       "text": [
        "<matplotlib.figure.Figure at 0x7fbbcdba2588>"
       ]
      }
     ],
     "prompt_number": 74
    },
    {
     "cell_type": "code",
     "collapsed": false,
     "input": [],
     "language": "python",
     "metadata": {},
     "outputs": []
    }
   ],
   "metadata": {}
  }
 ]
}