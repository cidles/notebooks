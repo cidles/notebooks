{
 "metadata": {
  "name": "",
  "signature": "sha256:b34ed74f537fc7c8e84d02f9d4ab78ae65a531a27a41f372f51b7c8fc6f00fd9"
 },
 "nbformat": 3,
 "nbformat_minor": 0,
 "worksheets": [
  {
   "cells": [
    {
     "cell_type": "markdown",
     "metadata": {},
     "source": [
      "## 0. Loading the data"
     ]
    },
    {
     "cell_type": "code",
     "collapsed": false,
     "input": [
      "%run helpers/diana.py\n",
      "ag = from_excel(\"data/Hinuq3.txt\")"
     ],
     "language": "python",
     "metadata": {},
     "outputs": [
      {
       "output_type": "stream",
       "stream": "stdout",
       "text": [
        "Error: duplicate clause ID: #228\n",
        "Error: duplicate clause ID: #404\n",
        "Error: duplicate clause ID: #1273"
       ]
      },
      {
       "output_type": "stream",
       "stream": "stdout",
       "text": [
        "\n",
        "Error: duplicate clause ID: #1601"
       ]
      },
      {
       "output_type": "stream",
       "stream": "stdout",
       "text": [
        "\n",
        "Error: duplicate clause ID: #1682\n",
        "Error: duplicate clause ID: #\n",
        "Error: duplicate clause ID: #\n"
       ]
      }
     ],
     "prompt_number": 13
    },
    {
     "cell_type": "markdown",
     "metadata": {},
     "source": [
      "## 1 .Counting word orders"
     ]
    },
    {
     "cell_type": "code",
     "collapsed": false,
     "input": [
      "import collections\n",
      "\n",
      "verbs = [ 'COP', 'cop', 'SAY', 'say', 'v.tr', 'v.intr', 'v.aff' ]\n",
      "others = [ 'A', 'S', 'P', 'EXP', 'STIM', 'zero-A', 'zero-S', 'zero-P', 'zero-EXP', 'zero-STIM' ]\n",
      "search_terms = verbs + others\n",
      "\n",
      "clause_unit_nodes = ag.nodes_for_tier(\"clause_id\")\n",
      "\n",
      "word_orders = collections.defaultdict(int)\n",
      "\n",
      "for parent_node in clause_unit_nodes:\n",
      "    word_order = []\n",
      "    for word_n in parent_node.iter_children():\n",
      "        a_list = ag.annotations_for_tier(\"grammatical_relation\", word_n)\n",
      "        if len(a_list) > 0:\n",
      "            a_value = ag.annotation_value_for_annotation(a_list[0])\n",
      "            if a_value in search_terms:\n",
      "                #if a_value in verbs:\n",
      "                #    word_order.append('V')\n",
      "                #else:\n",
      "                word_order.append(a_value)\n",
      "    word_orders[tuple(word_order)] += 1\n",
      "\n",
      "for word_order in word_orders:\n",
      "    print(str(word_order) + \" => \" + str(word_orders[word_order]))"
     ],
     "language": "python",
     "metadata": {},
     "outputs": [
      {
       "output_type": "stream",
       "stream": "stdout",
       "text": [
        "('A', 'v.tr', 'P') => 39\n",
        "('zero-A', 'zero-P', 'v.tr', 'S', 'v.intr') => 1\n",
        "('v.aff', 'STIM', 'EXP') => 1\n",
        "('v.tr', 'P', 'A') => 3\n",
        "('A', 'v.tr', 'zero-P') => 1\n",
        "('SAY', 'A') => 31\n",
        "('A', 'P', 'v.tr', 'A', 'SAY') => 1\n",
        "('A',) => 10\n",
        "('S', 'COP') => 92\n",
        "('A', 'P', 'v.tr') => 105\n",
        "('zero-S', 'v.intr', 'S', 'v.intr') => 1\n",
        "('zero-EXP', 'v.aff', 'STIM') => 8\n",
        "('EXP', 'STIM', 'v.aff') => 26\n",
        "('zero-STIM', 'v.aff', 'EXP') => 4\n",
        "('COP',) => 3\n",
        "('zero-A', 'SAY') => 18\n",
        "('zero-A', 'zero-P', 'v.tr') => 90\n",
        "('zero-A',) => 3\n",
        "('P', 'v.tr', 'A') => 33\n",
        "('zero-EXP', 'STIM', 'v.aff') => 24\n",
        "('v.aff', 'EXP', 'STIM') => 10\n",
        "('zero-EXP', 'zero-STIM', 'v.aff') => 15\n",
        "('v.intr', 'S') => 135\n",
        "('STIM', 'v.aff', 'EXP') => 7\n",
        "('EXP', 'zero-STIM', 'v.aff') => 9\n",
        "('STIM', 'EXP', 'v.aff') => 6\n",
        "('COP', 'S') => 33\n",
        "('A', 'P', 'v.tr', 'zero-A', 'zero-P', 'v.tr') => 1\n",
        "('zero-P', 'A', 'v.tr') => 4\n",
        "('zero-A', 'v.tr') => 3\n",
        "('zero-S', 'COP') => 2\n",
        "('EXP', 'v.aff', 'STIM') => 19\n",
        "('zero-P', 'v.tr', 'A') => 4\n",
        "('STIM', 'COP') => 1\n",
        "('EXP', 'P', 'v.aff') => 1\n",
        "('A', 'SAY') => 76\n",
        "('zero-S',) => 3\n",
        "('A', 'v.tr') => 1\n",
        "('S', 'v.tr') => 1\n",
        "('zero-A', 'P', 'v.intr') => 1\n",
        "('S',) => 2\n",
        "('A', 'P', 'v.intr') => 3\n",
        "('P', 'A', 'v.tr') => 25\n",
        "('zero-A', 'v.tr', 'P') => 40\n",
        "('v.tr', 'P') => 1\n",
        "('EXP', 'v.aff', 'zero-STIM') => 1\n",
        "('S', 'v.intr') => 401\n",
        "('zero-S', 'v.intr') => 267\n",
        "('P', 'A') => 1\n",
        "('zero-A', 'P', 'v.tr') => 246\n",
        "('SAY',) => 2\n",
        "('zero-EXP', 'P', 'v.aff') => 2\n",
        "('zero-A', 'P') => 1\n",
        "('v.intr',) => 5\n",
        "('v.tr', 'A', 'P') => 10\n",
        "('A', 'zero-P', 'v.tr') => 24\n",
        "() => 2\n",
        "('zero-A', 'v.tr', 'zero-P') => 1\n",
        "('P', 'v.tr') => 2\n"
       ]
      }
     ],
     "prompt_number": 14
    },
    {
     "cell_type": "markdown",
     "metadata": {},
     "source": [
      "## 2. Arguments in \"v.aff\" vs. \"v.tr\" sentences: ouvert vs. zero"
     ]
    },
    {
     "cell_type": "markdown",
     "metadata": {},
     "source": [
      "### Counts"
     ]
    },
    {
     "cell_type": "code",
     "collapsed": false,
     "input": [
      "v_tree = { \"v.aff\": collections.defaultdict(int), \"v.tr\": collections.defaultdict(int) }\n",
      "for wo in word_orders:\n",
      "    v = None\n",
      "    if \"v.tr\" in wo:\n",
      "        v = \"v.tr\"\n",
      "    if \"v.aff\" in wo:\n",
      "        v = \"v.aff\"\n",
      "    if v is not None:\n",
      "        wo2 = tuple([e for e in sorted(wo) if e != \"v.aff\" and e != \"v.tr\"])\n",
      "        v_tree[v][wo2] += word_orders[wo]\n",
      "\n",
      "for v in [\"v.aff\", \"v.tr\"]:\n",
      "    print(v)\n",
      "    for e in v_tree[v]:\n",
      "        print(\"{0} => {1}\".format(e, v_tree[v][e]))"
     ],
     "language": "python",
     "metadata": {},
     "outputs": [
      {
       "output_type": "stream",
       "stream": "stdout",
       "text": [
        "v.aff\n",
        "('EXP', 'STIM') => 70\n",
        "('P', 'zero-EXP') => 2\n",
        "('EXP', 'P') => 1\n",
        "('STIM', 'zero-EXP') => 32\n",
        "('zero-EXP', 'zero-STIM') => 15\n",
        "('EXP', 'zero-STIM') => 14\n",
        "v.tr\n",
        "('P',) => 3\n",
        "('A', 'P') => 216\n",
        "('A',) => 1\n",
        "('A', 'A', 'P', 'SAY') => 1\n",
        "('S', 'v.intr', 'zero-A', 'zero-P') => 1\n",
        "('A', 'P', 'zero-A', 'zero-P') => 1\n",
        "('zero-A', 'zero-P') => 92\n",
        "('A', 'zero-P') => 33\n",
        "('zero-A',) => 3\n",
        "('S',) => 1\n",
        "('P', 'zero-A') => 287\n"
       ]
      }
     ],
     "prompt_number": 4
    },
    {
     "cell_type": "markdown",
     "metadata": {},
     "source": [
      "### Statistical test for A/EXP"
     ]
    },
    {
     "cell_type": "markdown",
     "metadata": {},
     "source": [
      "Hypothesis 1 (H0): It does not depend on the type of the verb (\"v.tr\" vs. \"v.aff\") if the A/EXP is expressed ouvertly.\n",
      "\n",
      "For the test we use the Fisher exact test, as this test also works for small numbers (http://docs.scipy.org/doc/scipy-0.13.0/reference/generated/scipy.stats.fisher_exact.html)."
     ]
    },
    {
     "cell_type": "code",
     "collapsed": false,
     "input": [
      "import scipy.stats\n",
      "cont_table = [\n",
      "    [ v_tree[\"v.aff\"][('EXP', 'zero-STIM')] + v_tree[\"v.aff\"][('EXP', 'STIM')],\n",
      "      v_tree[\"v.aff\"][('zero-EXP', 'zero-STIM')] + v_tree[\"v.aff\"][('STIM', 'zero-EXP')] ],\n",
      "    [ v_tree[\"v.tr\"][('A', 'P')] + v_tree[\"v.tr\"][('A', 'zero-P')], \n",
      "      v_tree[\"v.tr\"][('P', 'zero-A')] + v_tree[\"v.tr\"][('zero-A', 'zero-P')] ]\n",
      "]\n",
      "cont_table"
     ],
     "language": "python",
     "metadata": {},
     "outputs": [
      {
       "metadata": {},
       "output_type": "pyout",
       "prompt_number": 6,
       "text": [
        "[[28, 10], [74, 96]]"
       ]
      }
     ],
     "prompt_number": 6
    },
    {
     "cell_type": "code",
     "collapsed": false,
     "input": [
      "oddsratio, pvalue = scipy.stats.fisher_exact(cont_table)\n",
      "pvalue"
     ],
     "language": "python",
     "metadata": {},
     "outputs": [
      {
       "metadata": {},
       "output_type": "pyout",
       "prompt_number": 9,
       "text": [
        "0.0010587957565363899"
       ]
      }
     ],
     "prompt_number": 9
    },
    {
     "cell_type": "markdown",
     "metadata": {},
     "source": [
      "We reject the null hypothesis, as the chances of getting a distribution as the observed one are p < 0.05. The verb type affects the ouvertness of the A/EXP argument. In this case the \"v.aff\" sentences have sigificantly more ouvert arguments EXP then the \"v.tr\" sentences have ouvert A."
     ]
    },
    {
     "cell_type": "markdown",
     "metadata": {},
     "source": [
      "### Statistical test for P/STIM"
     ]
    },
    {
     "cell_type": "markdown",
     "metadata": {},
     "source": [
      "Hypothesis 2 (H0): It does not depend on the type of the verb (\"v.tr\" vs. \"v.aff\") if the P/STIM is expressed ouvertly."
     ]
    },
    {
     "cell_type": "code",
     "collapsed": false,
     "input": [
      "import scipy.stats\n",
      "cont_table = [\n",
      "    [ v_tree[\"v.aff\"][('STIM', 'zero-EXP')] + v_tree[\"v.aff\"][('EXP', 'STIM')],\n",
      "      v_tree[\"v.aff\"][('zero-EXP', 'zero-STIM')] + v_tree[\"v.aff\"][('EXP', 'zero-STIM')] ],\n",
      "    [ v_tree[\"v.tr\"][('A', 'P')] + v_tree[\"v.tr\"][('P', 'zero-A')], \n",
      "      v_tree[\"v.tr\"][('A', 'zero-P')] + v_tree[\"v.tr\"][('zero-A', 'zero-P')] ]\n",
      "]\n",
      "cont_table"
     ],
     "language": "python",
     "metadata": {},
     "outputs": [
      {
       "metadata": {},
       "output_type": "pyout",
       "prompt_number": 13,
       "text": [
        "[[29, 9], [144, 26]]"
       ]
      }
     ],
     "prompt_number": 13
    },
    {
     "cell_type": "code",
     "collapsed": false,
     "input": [
      "oddsratio, pvalue = scipy.stats.fisher_exact(cont_table)\n",
      "pvalue"
     ],
     "language": "python",
     "metadata": {},
     "outputs": [
      {
       "metadata": {},
       "output_type": "pyout",
       "prompt_number": 14,
       "text": [
        "0.23218432083140939"
       ]
      }
     ],
     "prompt_number": 14
    },
    {
     "cell_type": "markdown",
     "metadata": {},
     "source": [
      "In this case we cannot reject the null hypothesis, as p > 0.05. There is no statistical evidence that the verb type affects the ouvertness of P/STIM."
     ]
    },
    {
     "cell_type": "markdown",
     "metadata": {},
     "source": [
      "## Positions of S, A and P"
     ]
    },
    {
     "cell_type": "code",
     "collapsed": false,
     "input": [
      "A_values = []\n",
      "P_values = []\n",
      "S_values = []\n",
      "for parent_node in clause_unit_nodes:\n",
      "    word_order = []\n",
      "    for gramm_node in ag.nodes_for_tier(\"grammatical_relation\", parent_node):\n",
      "        a_list = ag.annotations_for_tier(\"grammatical_relation\", gramm_node)\n",
      "        if len(a_list) > 0:\n",
      "            a_value = ag.annotation_value_for_annotation(a_list[0])\n",
      "            if a_value in verbs:\n",
      "                a_value = \"V\"\n",
      "            word_order.append(a_value)\n",
      "    if \"V\" in word_order:\n",
      "        v_index = word_order.index(\"V\")\n",
      "        if \"A\" in word_order:\n",
      "            A_values.append(word_order.index(\"A\") - v_index)\n",
      "        if \"P\" in word_order:\n",
      "            P_values.append(word_order.index(\"P\") - v_index)\n",
      "        if \"S\" in word_order:\n",
      "            S_values.append(word_order.index(\"S\") - v_index)"
     ],
     "language": "python",
     "metadata": {},
     "outputs": [],
     "prompt_number": 10
    },
    {
     "cell_type": "code",
     "collapsed": false,
     "input": [
      "%matplotlib inline\n",
      "import matplotlib.pyplot as plt"
     ],
     "language": "python",
     "metadata": {},
     "outputs": [],
     "prompt_number": 11
    },
    {
     "cell_type": "code",
     "collapsed": false,
     "input": [
      "fig, axs = plt.subplots(1, 3, figsize=(14,4))\n",
      "axs[0].hist(S_values, range(min(S_values), max(S_values)+2))\n",
      "axs[0].set_title(\"Positions of S\")\n",
      "axs[1].hist(A_values, range(min(A_values), max(A_values)+2))\n",
      "axs[1].set_title(\"Positions of A\")\n",
      "axs[2].hist(P_values, range(min(P_values), max(P_values)+2))\n",
      "ret = axs[2].set_title(\"Positions of P\")"
     ],
     "language": "python",
     "metadata": {},
     "outputs": [
      {
       "metadata": {},
       "output_type": "display_data",
       "png": "[encoded data removed]",
       "text": [
        "<matplotlib.figure.Figure at 0xb468390>"
       ]
      }
     ],
     "prompt_number": 12
    },
    {
     "cell_type": "markdown",
     "metadata": {},
     "source": [
      "## Box plots of positions"
     ]
    },
    {
     "cell_type": "code",
     "collapsed": false,
     "input": [
      "plt.figure(figsize=(10,6))\n",
      "plt.boxplot([S_values, A_values, P_values])\n",
      "plt.title(\"Positions of S, A and P\")\n",
      "ret = plt.xticks([1, 2, 3], [\"S\", \"A\", \"P\"])"
     ],
     "language": "python",
     "metadata": {},
     "outputs": [
      {
       "metadata": {},
       "output_type": "display_data",
       "png": "[encoded data removed]",
       "text": [
        "<matplotlib.figure.Figure at 0xb3e5c10>"
       ]
      }
     ],
     "prompt_number": 15
    },
    {
     "cell_type": "markdown",
     "metadata": {},
     "source": [
      "## Plots by clause type"
     ]
    },
    {
     "cell_type": "code",
     "collapsed": false,
     "input": [
      "A_values = [[], []]\n",
      "P_values = [[], []]\n",
      "S_values = [[], []]\n",
      "clause_types = [\"m\", \"m.rs\", \"sub\", \"sub.rs\"]\n",
      "for parent_node in clause_unit_nodes:\n",
      "    word_order = []\n",
      "    clause_type = None\n",
      "    type_node = ag.nodes_for_tier(\"clause_type\", parent_node)\n",
      "    if len(type_node) > 0:\n",
      "        clause_type_ann = ag.annotations_for_tier(\"clause_type\", type_node[0])\n",
      "        clause_type = ag.annotation_value_for_annotation(clause_type_ann[0])\n",
      "    for gramm_node in ag.nodes_for_tier(\"grammatical_relation\", parent_node):\n",
      "        a_list = ag.annotations_for_tier(\"grammatical_relation\", gramm_node)\n",
      "        if len(a_list) > 0:\n",
      "            a_value = ag.annotation_value_for_annotation(a_list[0])\n",
      "            if a_value in verbs:\n",
      "                a_value = \"V\"\n",
      "            word_order.append(a_value)\n",
      "    if \"V\" in word_order and clause_type in clause_types:\n",
      "        ind = 0\n",
      "        if clause_type == \"sub\" or clause_type == \"sub.rs\":\n",
      "            ind = 1\n",
      "        v_index = word_order.index(\"V\")\n",
      "        if \"A\" in word_order:\n",
      "            A_values[ind].append(word_order.index(\"A\") - v_index)\n",
      "        if \"P\" in word_order:\n",
      "            P_values[ind].append(word_order.index(\"P\") - v_index)\n",
      "        if \"S\" in word_order:\n",
      "            S_values[ind].append(word_order.index(\"S\") - v_index)"
     ],
     "language": "python",
     "metadata": {},
     "outputs": [],
     "prompt_number": 16
    },
    {
     "cell_type": "code",
     "collapsed": false,
     "input": [
      "fig, axs = plt.subplots(2, 3, figsize=(14,10))\n",
      "for ind in [0, 1]:\n",
      "    type_text = \"main\"\n",
      "    if ind == 1:\n",
      "        type_text = \"sub\"\n",
      "    axs[ind][0].hist(S_values[ind], range(min(S_values[ind]), max(S_values[ind])+2))\n",
      "    axs[ind][0].set_title(\"Positions of S in {0} clauses\".format(type_text))\n",
      "    axs[ind][1].hist(A_values[ind], range(min(A_values[ind]), max(A_values[ind])+2))\n",
      "    axs[ind][1].set_title(\"Positions of A {0} clauses\".format(type_text))\n",
      "    axs[ind][2].hist(P_values[ind], range(min(P_values[ind]), max(P_values[ind])+2))\n",
      "    ret = axs[ind][2].set_title(\"Positions of P {0} clauses\".format(type_text))"
     ],
     "language": "python",
     "metadata": {},
     "outputs": [
      {
       "metadata": {},
       "output_type": "display_data",
       "png": "[encoded data removed]",
       "text": [
        "<matplotlib.figure.Figure at 0xb631eb0>"
       ]
      }
     ],
     "prompt_number": 17
    },
    {
     "cell_type": "markdown",
     "metadata": {},
     "source": [
      "## Box plots by clause type"
     ]
    },
    {
     "cell_type": "code",
     "collapsed": false,
     "input": [
      "fig, axs = plt.subplots(1, 2, figsize=(14,6))\n",
      "for ind in [0, 1]:\n",
      "    type_text = \"main\"\n",
      "    if ind == 1:\n",
      "        type_text = \"sub\"\n",
      "\n",
      "    axs[ind].boxplot([S_values[ind], A_values[ind], P_values[ind]])\n",
      "    axs[ind].set_title(\"Positions of S, A and P in {0} clauses\".format(type_text))\n",
      "    ret = plt.xticks([1, 2, 3], [\"S\", \"A\", \"P\"])"
     ],
     "language": "python",
     "metadata": {},
     "outputs": [
      {
       "metadata": {},
       "output_type": "display_data",
       "png": "[encoded data removed]",
       "text": [
        "<matplotlib.figure.Figure at 0xba70470>"
       ]
      }
     ],
     "prompt_number": 18
    },
    {
     "cell_type": "code",
     "collapsed": false,
     "input": [],
     "language": "python",
     "metadata": {},
     "outputs": []
    }
   ],
   "metadata": {}
  }
 ]
}