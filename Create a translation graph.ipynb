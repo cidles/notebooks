{
 "metadata": {
  "name": "Create a translation graph"
 },
 "nbformat": 3,
 "nbformat_minor": 0,
 "worksheets": [
  {
   "cells": [
    {
     "cell_type": "markdown",
     "metadata": {},
     "source": [
      "# Translation Graphs\n",
      "\n",
      "The qlc repository has some scripts in the \"bin\" folder to extract and handle translation graphs from the quanthistling data. In addition to this, there is also one script that extracts a matrix directly from the data (rows are spanish stems, columns are translations in the sources). Such a a matrix may also be generated through translation graphs, by combining the following operations:\n",
      "\n",
      "1. Generating a translation graph from the data\n",
      "2. Combining several translation graphs by matching spanish translations\n",
      "3. linking spanish translations that have or contain the same stem\n",
      "4. Parsing the graph, find all linked stems and print out a matrix with the connected nodes: spanish translation and their head words\n",
      "\n",
      "For each step there is one Python script to carry out the task. This allows intermediate processing steps with the translation graph either in Python or with other computational tools. Every Python script uses the \"dot\" file format to read and write graphs (see http://en.wikipedia.org/wiki/DOT_language). The scripts require Python 3."
     ]
    },
    {
     "cell_type": "markdown",
     "metadata": {},
     "source": [
      "##What are translation graphs?\n",
      "\n",
      "In our case, translation graphs are graphs that connect all spanish translation with every head word that we find for each translation in our sources. The idea is that spanish is some kind of interlingua in our case: if a string of a spanish translation in one source matches a string in another source this will only be '''one''' node in our graph. For the head words, this is not the case: matching strings in head words in different source are different nodes in the graph. This holds even if the different sources describe the same language, as different sources will use different orthographies. \n",
      "\n",
      "To fullfil that need, head words are internally represented as a string with two parts: the head word and its source. Both parts are seperated by a pipe symbol \"|\". For example, in a dot file such a node looks like this:\n",
      "\n",
      "> \"\u00f3c\u00e1ji|thiesen1998\" [lang=boa, source=thiesen1998_25_339];\n",
      "\n",
      "The square brackets contain additional attributes here. These attributes are not part of the node's name, they contain just additonal information the user wants to store with the nodes.\n",
      "\n",
      "In comparison, a spanish translation looks like this:\n",
      "\n",
      "> \"vaca\" [lang=spa];\n",
      "\n",
      "There is no attribute \"source\" here, as this translation might occur in several sources. An edge connecting the two nodes looks like this:\n",
      "\n",
      "> \"vaca\" -- \"\u00f3c\u00e1ji|thiesen1998\";\n",
      "\n",
      "To handle such graphs our scripts use the NetworkX Python library (http://networkx.lanl.gov/). It is kind of a standard in scientific graph computing with Python (remark: I started with the pygraph library, which has more or less the same API but by far not enough operations to compute with graphs later)."
     ]
    },
    {
     "cell_type": "markdown",
     "metadata": {},
     "source": [
      "## Imports"
     ]
    },
    {
     "cell_type": "code",
     "collapsed": false,
     "input": [
      "%cd h:\\ProjectsWin\\git-github\\qlc\\"
     ],
     "language": "python",
     "metadata": {},
     "outputs": [
      {
       "output_type": "stream",
       "stream": "stdout",
       "text": [
        "h:\\ProjectsWin\\git-github\\qlc\n"
       ]
      }
     ],
     "prompt_number": 1
    },
    {
     "cell_type": "code",
     "collapsed": false,
     "input": [
      "sys.path.append(\"src\")\n",
      "from qlc.corpusreader import CorpusReaderDict\n",
      "from networkx import Graph\n",
      "from qlc.translationgraph import read, write"
     ],
     "language": "python",
     "metadata": {},
     "outputs": [],
     "prompt_number": 2
    },
    {
     "cell_type": "markdown",
     "metadata": {},
     "source": [
      "## Step 1: Extracting a translation graph\n",
      "\n",
      "The fisrt step extract the data from Witotoan languages and returns a graph for each source."
     ]
    },
    {
     "cell_type": "code",
     "collapsed": true,
     "input": [
      "cr = CorpusReaderDict(\"data\")"
     ],
     "language": "python",
     "metadata": {},
     "outputs": [],
     "prompt_number": 3
    },
    {
     "cell_type": "code",
     "collapsed": true,
     "input": [
      "import re\n",
      "dictdata_ids = cr.dictdata_ids_for_component(\"Witotoan\")\n",
      "re_quotes = re.compile('\"')"
     ],
     "language": "python",
     "metadata": {},
     "outputs": [],
     "prompt_number": 4
    },
    {
     "cell_type": "code",
     "collapsed": false,
     "input": [
      "dictdata_ids"
     ],
     "language": "python",
     "metadata": {},
     "outputs": [
      {
       "output_type": "pyout",
       "prompt_number": 5,
       "text": [
        "[u'61', u'49', u'1', u'3', u'2', u'4', u'7', u'6', u'33']"
       ]
      }
     ],
     "prompt_number": 5
    },
    {
     "cell_type": "code",
     "collapsed": true,
     "input": [
      "graphs = list()\n",
      "for dictdata_id in dictdata_ids:\n",
      "    gr = Graph()\n",
      "\n",
      "    src_language_iso = cr.src_languages_iso_for_dictdata_id(dictdata_id)\n",
      "    tgt_language_iso = cr.tgt_languages_iso_for_dictdata_id(dictdata_id)\n",
      "    if not('spa' in src_language_iso or 'spa' in tgt_language_iso):\n",
      "        continue\n",
      "    \n",
      "    language_iso = None\n",
      "    if tgt_language_iso == [ 'spa' ]:\n",
      "        language_iso = src_language_iso[0]\n",
      "    else:\n",
      "        language_iso = tgt_language_iso[0]\n",
      "\n",
      "    dictdata_string = cr.dictdata_string_id_for_dictata_id(dictdata_id)\n",
      "    bibtex_key = dictdata_string.split(\"_\")[0]\n",
      "\n",
      "    for head, translation in cr.heads_with_translations_for_dictdata_id(dictdata_id):\n",
      "        if src_language_iso == 'spa':\n",
      "            (head, translation) = (translation, head)\n",
      "\n",
      "        head_with_source = re_quotes.sub('', u\"{0}|{1}\".format(head, bibtex_key))\n",
      "        translation = re_quotes.sub('', translation)\n",
      "        gr.add_node(head_with_source, attr_dict={ \"lang\": language_iso, \"source\": bibtex_key })\n",
      "        gr.add_node(translation, attr_dict={ \"lang\": \"spa\" })\n",
      "        gr.add_edge(head_with_source, translation)\n",
      "    graphs.append(gr)"
     ],
     "language": "python",
     "metadata": {},
     "outputs": [],
     "prompt_number": 9
    },
    {
     "cell_type": "markdown",
     "metadata": {},
     "source": [
      "###Test"
     ]
    },
    {
     "cell_type": "code",
     "collapsed": false,
     "input": [
      "import networkx\n",
      "networkx.algorithms.components.number_connected_components(graphs[0])"
     ],
     "language": "python",
     "metadata": {},
     "outputs": [
      {
       "output_type": "pyout",
       "prompt_number": 10,
       "text": [
        "3423"
       ]
      }
     ],
     "prompt_number": 10
    },
    {
     "cell_type": "markdown",
     "metadata": {},
     "source": [
      "## Step 2: Combining graphs\n",
      "\n",
      "Combine graphs by matching spanish translations."
     ]
    },
    {
     "cell_type": "code",
     "collapsed": true,
     "input": [
      "import copy\n",
      "combined_graph = copy.deepcopy(graphs[0])\n",
      "for gr in graphs[1:]:\n",
      "    for node in gr:\n",
      "        combined_graph.add_node(node, gr.node[node])\n",
      "    for n1, n2 in gr.edges_iter():\n",
      "        combined_graph.add_edge(n1, n2, gr.edge[n1][n2])"
     ],
     "language": "python",
     "metadata": {},
     "outputs": [],
     "prompt_number": 11
    },
    {
     "cell_type": "markdown",
     "metadata": {},
     "source": [
      "###Test"
     ]
    },
    {
     "cell_type": "code",
     "collapsed": false,
     "input": [
      "networkx.algorithms.components.number_connected_components(combined_graph)"
     ],
     "language": "python",
     "metadata": {},
     "outputs": [
      {
       "output_type": "pyout",
       "prompt_number": 12,
       "text": [
        "16989"
       ]
      }
     ],
     "prompt_number": 12
    },
    {
     "cell_type": "markdown",
     "metadata": {},
     "source": [
      "## Step 3: Connect nodes with the same stem\n",
      "\n",
      "The next step is to connect spanish translations that contain the same stem. For this, the script \"translations_spanish_graph_connectstemswithoutstopwords.py\" first removes certain stop words from the translation (list of stop words is here: data/stopwords/spa.txt). There are two cases then: just one word remains, or more than one word remains.\n",
      "\n",
      "The script has an option to let the user choose what to do with the latter: either they are not connected with anything at all (default behaviour), or each word is stemmed and the translation is connected with every other translation that contain the same stems. Right now this results in many connections that look not very useful. This should be done in a more intelligent way in the future (for example find heads of phrases in mulitword expression and only connect those; split the weight of the connections between all stems and work with weighted graphs from this step on; ...).\n",
      "\n",
      "To connect the spanish translations the script adds additional \"stem nodes\" to the graph. The name of these nodes consists of a spanish word stem plus a pipe symbol plus the string \"stem\". These nodes look like this in a dot file:\n",
      "\n",
      "> \"tom|stem\" [is_stem=True];\n",
      "\n",
      "The introduction of these nodes later facilites the output of translation matrixes, as you can just search for stems within the graph and only output direct neighbours with spanish translations. It would also be possible to directly connect the spanish translations if they have a matching stem, but then the graph traversal to find matching translations and their heads is a bit more complicated later. If someone has some ideas about this..."
     ]
    },
    {
     "cell_type": "code",
     "collapsed": true,
     "input": [
      "import codecs, unicodedata, qlc.utils\n",
      "\n",
      "stopwords = qlc.utils.stopwords_from_file(\"src/qlc/data/stopwords/spa.txt\")"
     ],
     "language": "python",
     "metadata": {},
     "outputs": [],
     "prompt_number": 14
    },
    {
     "cell_type": "code",
     "collapsed": true,
     "input": [
      "combined_graph_stemmed = copy.deepcopy(combined_graph)"
     ],
     "language": "python",
     "metadata": {},
     "outputs": [],
     "prompt_number": 15
    },
    {
     "cell_type": "code",
     "collapsed": true,
     "input": [
      "from nltk.stem.snowball import SpanishStemmer\n",
      "stemmer = SpanishStemmer()\n",
      "split_multiwords = False"
     ],
     "language": "python",
     "metadata": {},
     "outputs": [],
     "prompt_number": 16
    },
    {
     "cell_type": "code",
     "collapsed": true,
     "input": [
      "for node in combined_graph.nodes():\n",
      "    if \"lang\" in combined_graph.node[node] and combined_graph.node[node][\"lang\"] == \"spa\":\n",
      "        phrase_without_stopwords = qlc.utils.remove_stopwords(node, stopwords)\n",
      "        phrase_stems = qlc.utils.stem_phrase(phrase_without_stopwords, stemmer, split_multiwords)\n",
      "        for stem in phrase_stems:\n",
      "            stem = stem + \"|stem\"\n",
      "            combined_graph_stemmed.add_node(stem, is_stem=True)\n",
      "            combined_graph_stemmed.add_edge(stem, node)"
     ],
     "language": "python",
     "metadata": {},
     "outputs": [],
     "prompt_number": 17
    },
    {
     "cell_type": "markdown",
     "metadata": {},
     "source": [
      "### Test"
     ]
    },
    {
     "cell_type": "code",
     "collapsed": false,
     "input": [
      "networkx.algorithms.components.number_connected_components(combined_graph_stemmed)"
     ],
     "language": "python",
     "metadata": {},
     "outputs": [
      {
       "output_type": "pyout",
       "prompt_number": 18,
       "text": [
        "14052"
       ]
      }
     ],
     "prompt_number": 18
    },
    {
     "cell_type": "markdown",
     "metadata": {},
     "source": [
      "### Output .dot file"
     ]
    },
    {
     "cell_type": "code",
     "collapsed": false,
     "input": [
      "OUT = codecs.open(\"translation_graph_stemmed.dot\", \"w\", \"utf-8\")\n",
      "OUT.write(write(combined_graph_stemmed))\n",
      "OUT.close()"
     ],
     "language": "python",
     "metadata": {},
     "outputs": [],
     "prompt_number": 20
    },
    {
     "cell_type": "markdown",
     "metadata": {},
     "source": [
      "## Step 4: Output a matrix\n",
      "\n",
      "The last step then outputs a matrix for a given translation graph. \n",
      "\n",
      "The code outputs the matrix to a file \"translation_matrix.csv\" in this case. For this, the code first finds all nodes that are stems and collect all the neighbours that are spanish translations. This is one row in the matrix. It then collects all neighbours of each spanish translations that are neither stems nor spanish translations (i.e. the head words of the sources). Each source's head words is then one column entry of that row. Several translation or head words are seperated by a pipe symbol \"|\".\n"
     ]
    },
    {
     "cell_type": "code",
     "collapsed": true,
     "input": [
      "import collections\n",
      "matrix = {}\n",
      "sources = set()\n",
      "for node in combined_graph_stemmed:\n",
      "    if \"is_stem\" in combined_graph_stemmed.node[node] and combined_graph_stemmed.node[node][\"is_stem\"]:\n",
      "        spanish_nodes = [n for n in combined_graph_stemmed[node] if \"lang\" in combined_graph_stemmed.node[n] and combined_graph_stemmed.node[n][\"lang\"] == \"spa\"]\n",
      "        head_nodes = []\n",
      "        for sp in spanish_nodes:\n",
      "            head_nodes += [n for n in combined_graph_stemmed[sp] if (\"lang\" not in combined_graph_stemmed.node[n] or combined_graph_stemmed.node[n][\"lang\"] != \"spa\") and (\"is_stem\" not in combined_graph_stemmed.node[n] or not combined_graph_stemmed.node[n][\"is_stem\"])]\n",
      "        head_nodes = set(head_nodes)\n",
      "\n",
      "        heads = collections.defaultdict(list)\n",
      "        for head in head_nodes:\n",
      "            (head, source) = head.split(\"|\")\n",
      "            sources.add(source)\n",
      "            heads[source].append(head)\n",
      "        matrix[\"|\".join(sorted(spanish_nodes))] = heads"
     ],
     "language": "python",
     "metadata": {},
     "outputs": [],
     "prompt_number": 21
    },
    {
     "cell_type": "code",
     "collapsed": true,
     "input": [
      "OUT = codecs.open(\"translation_matrix.csv\", \"w\", \"utf-8\")\n",
      "sorted_sources = sorted(sources)\n",
      "OUT.write(\"{0}\\t{1}\\n\".format(\"spa\", \"\\t\".join(sorted_sources)))\n",
      "for spanish in sorted(matrix):\n",
      "    OUT.write(spanish)\n",
      "    OUT.write(\"\\t\")\n",
      "    sources_heads = []\n",
      "    for source in sorted(sources):\n",
      "        heads = [h for h in matrix[spanish][source]]\n",
      "        sources_heads.append(\"|\".join(sorted(heads)))\n",
      "    OUT.write(\"\\t\".join(sources_heads))\n",
      "    OUT.write(\"\\n\")\n",
      "OUT.close()"
     ],
     "language": "python",
     "metadata": {},
     "outputs": [],
     "prompt_number": 23
    },
    {
     "cell_type": "markdown",
     "metadata": {},
     "source": [
      "### Download Matrix File\n",
      "\n",
      "<a href=\"static/translation_matrix.csv\" target=\"_blank\">Link to matrix file as CSV</a>"
     ]
    }
   ],
   "metadata": {}
  }
 ]
}