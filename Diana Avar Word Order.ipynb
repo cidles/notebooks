{
 "metadata": {
  "name": "",
  "signature": "sha256:19891f4e27560f84288bddc354291bc1cf7671de987cfc5d707afe23c6e276e3"
 },
 "nbformat": 3,
 "nbformat_minor": 0,
 "worksheets": [
  {
   "cells": [
    {
     "cell_type": "markdown",
     "metadata": {},
     "source": [
      "# 0. Loading the data"
     ]
    },
    {
     "cell_type": "markdown",
     "metadata": {},
     "source": [
      "The data was exported from an Excel file, in Open Office, with \"Save As\"->\"Text CSV\", as \"UTF-8\", \"{Tabulator}\" as field seperator and double quotes (\") as text seperator."
     ]
    },
    {
     "cell_type": "code",
     "collapsed": false,
     "input": [
      "%load_ext autoreload\n",
      "%autoreload 2"
     ],
     "language": "python",
     "metadata": {},
     "outputs": [],
     "prompt_number": 1
    },
    {
     "cell_type": "code",
     "collapsed": false,
     "input": [
      "import helpers.diana\n",
      "\n",
      "skip_lines = [\n",
      "    \"Satire_and_humor_01_Two travellers\",\n",
      "    \"Satire_and_humor_02_The king's dispute\",\n",
      "    \"Satire_and_humor_03_King and slave\",\n",
      "    \"Satire_and_humor_04_Herdsman and Shamkhal\",\n",
      "    \"Satire_and_humor_05_Bratak and the rich\",\n",
      "    \"Satire_and_humor_06_Shephard and khan\",\n",
      "    \"Satire_and_humor_07_Bolo and the old woman\",\n",
      "    \"Satire_and_humor_08_King and fool\",\n",
      "    \"Satire_and_humor_09_Shax Abbas and the widower's son\",\n",
      "    \"Satire_and_humor_10_Shakh Abbas and the mother\",\n",
      "    \"Satire_and_humor_11_Shakh Abbas and the man\",\n",
      "    \"Satire_and_humor_12_Master and boat\",\n",
      "    \"Satire_and_humor_13_Craft of the smith\",\n",
      "    \"Satire_and_humor_14_Mulla and suslik\",\n",
      "    \"Satire_and_humor_15_Mullah and the poor\",\n",
      "    \"Satire_and_humor_16_Mention me in the prayer\",\n",
      "    \"Satire_and_humor_17_Big alkham\",\n",
      "    \"Satire_and_humor_18_Chief and burried\",\n",
      "    \"Satire_and_humor_19_Khinkal in paradise\",\n",
      "    \"Satire_and_humor_20_The horse's pace\",\n",
      "    \"Satire_and_humor_21_Cat\",\n",
      "    \"Satire_and_humor_22_Man_bought_kuvshin\",\n",
      "    \"Satire_and_humor_23_Crying for the son\",\n",
      "    \"Satire_and_humor_24_The escaping hare\",\n",
      "    \"Satire_and_humor_25_broken\",\n",
      "    \"Satire_and_humor_26_reversed legs\",\n",
      "    \"Satire_and_humor_27_friendship with the snow\",\n",
      "    \"Satire_and_humor_28_Man and bird\",\n",
      "    \"nice reflexive, but not clear whether the second one is in a relative clause or in the main clause\",\n",
      "    \"looks like reflexive in a postpositional phrase\"\n",
      "]\n",
      "tier_numbers = {\n",
      "    \"clause_id\": 5,\n",
      "    \"clause_type\": 6,\n",
      "    \"grammatical_relation\": 7,\n",
      "    \"pos_agreement\": 9,\n",
      "    \"last_line\": 11\n",
      "}\n",
      "ag = helpers.diana.from_excel(\"data/AvarAnnotation.csv\", skip_lines=skip_lines, tier_numbers=tier_numbers)"
     ],
     "language": "python",
     "metadata": {},
     "outputs": [
      {
       "output_type": "stream",
       "stream": "stdout",
       "text": [
        "Error: duplicate clause ID: #3\n",
        "Error: duplicate clause ID: #627"
       ]
      },
      {
       "output_type": "stream",
       "stream": "stdout",
       "text": [
        "\n",
        "Error: duplicate clause ID: #628\n"
       ]
      }
     ],
     "prompt_number": 2
    },
    {
     "cell_type": "markdown",
     "metadata": {},
     "source": [
      "# 1. Linear order"
     ]
    },
    {
     "cell_type": "code",
     "collapsed": false,
     "input": [
      "import collections\n",
      "\n",
      "verbs = [ 'COP', 'SAY', 'v.tr', 'v.intr', 'v.aff' ]\n",
      "verb_map = { v: \"V\" for v in verbs}\n",
      "others = [ 'A', 'S', 'P', 'EXP', 'STIM', 'zero-A', 'zero-S', 'zero-P', 'zero-EXP', 'zero-STIM' ]\n",
      "search_terms = verbs + others\n",
      "\n",
      "word_orders = collections.defaultdict(int)\n",
      "word_orders_ids = collections.defaultdict(list)\n",
      "\n",
      "for wo in helpers.diana.word_orders(ag, search_terms):\n",
      "    word_orders[tuple(wo.word_order)] += 1\n",
      "    word_orders_ids[tuple(wo.word_order)].append(wo.clause_id)\n",
      "\n",
      "for word_order, count in word_orders.items():\n",
      "    print(\"{0} => {1}\".format(word_order, count))\n",
      "    if count < 5:\n",
      "        print(\"    {1}\".format(word_order, word_orders_ids[word_order]))"
     ],
     "language": "python",
     "metadata": {},
     "outputs": [
      {
       "output_type": "stream",
       "stream": "stdout",
       "text": [
        "('S', 'v.intr') => 172\n",
        "('SAY', 'A') => 50\n",
        "('EXP', 'zero-STIM', 'v.aff') => 4\n",
        "    ['clause_id..n#78', 'clause_id..n#611', 'clause_id..n#64', 'clause_id..n#57']\n",
        "('zero-EXP', 'STIM', 'v.aff') => 10\n",
        "('zero-EXP', 'zero-STIM', 'v.aff') => 2\n",
        "    ['clause_id..n#706', 'clause_id..n#295']\n",
        "('zero-S', 'v.intr') => 125\n",
        "('A', 'SAY') => 61\n",
        "('EXP', 'STIM', 'v.aff') => 13\n",
        "('v.aff', 'EXP', 'STIM') => 1\n",
        "    ['clause_id..n#270']\n",
        "('STIM', 'v.aff', 'EXP') => 3\n",
        "    ['clause_id..n#97', 'clause_id..n#98', 'clause_id..n#417']\n",
        "('v.intr', 'S') => 34\n",
        "('zero-S', 'COP') => 20\n",
        "('v.tr', 'P', 'A') => 1\n",
        "    ['clause_id..n#443']\n",
        "('SAY', 'zero-A') => 2\n",
        "    ['clause_id..n#244', 'clause_id..n#688']\n",
        "('zero-A', 'v.tr', 'zero-P') => 1\n",
        "    ['clause_id..n#120']\n",
        "('zero-A', 'P', 'v.tr') => 134\n",
        "('STIM', 'EXP', 'v.aff') => 4\n",
        "    ['clause_id..n#359', 'clause_id..n#99', 'clause_id..n#52', 'clause_id..n#997']\n",
        "('zero-P', 'v.tr', 'A') => 3\n",
        "    ['clause_id..n#880', 'clause_id..n#236', 'clause_id..n#274']\n",
        "('A', 'P', 'v.tr') => 85\n",
        "('P', 'v.tr', 'A') => 16\n",
        "('P', 'v.tr', 'zero-A') => 1\n",
        "    ['clause_id..n#6']\n",
        "('S', 'COP') => 101\n",
        "('v.tr', 'A', 'P') => 10\n",
        "('A', 'zero-P', 'v.tr') => 17\n",
        "('P', 'zero-A', 'v.tr') => 1\n",
        "    ['clause_id..n#185']\n",
        "('zero-A', 'SAY') => 27\n",
        "('A', 'v.tr', 'P') => 12\n",
        "('zero-A', 'zero-P', 'v.tr') => 41\n",
        "('COP', 'S') => 15\n",
        "('zero-A', 'v.tr', 'P') => 14\n",
        "('P', 'A', 'v.tr') => 13\n",
        "('EXP', 'v.aff', 'STIM') => 6\n"
       ]
      }
     ],
     "prompt_number": 3
    },
    {
     "cell_type": "markdown",
     "metadata": {},
     "source": [
      "## 1.1. Are subordinate clauses significantly more often verb-final than main clauses?"
     ]
    },
    {
     "cell_type": "code",
     "collapsed": false,
     "input": [
      "word_orders_main = []\n",
      "word_orders_main_count = collections.defaultdict(int)\n",
      "word_orders_sub = []\n",
      "word_orders_sub_count = collections.defaultdict(int)\n",
      "main_clause_types = [ \"m\", \"m.rs\" ]\n",
      "sub_clause_types = [ \"sub\", \"sub.rs\" ]\n",
      "clause_types = main_clause_types + sub_clause_types\n",
      "search_terms = verbs + ['A', 'S', 'P', 'EXP', 'STIM']\n",
      "\n",
      "for wo in helpers.diana.word_orders(ag, search_terms, verb_map):\n",
      "    if \"V\" in wo.word_order and wo.clause_type in clause_types and len(wo.word_order) > 1:\n",
      "        if wo.clause_type in sub_clause_types:\n",
      "            word_orders_sub.append(wo.word_order)\n",
      "            word_orders_sub_count[tuple(wo.word_order)] += 1\n",
      "        else:\n",
      "            word_orders_main.append(wo.word_order)\n",
      "            word_orders_main_count[tuple(wo.word_order)] += 1 "
     ],
     "language": "python",
     "metadata": {},
     "outputs": [],
     "prompt_number": 4
    },
    {
     "cell_type": "markdown",
     "metadata": {},
     "source": [
      "### Statistical test"
     ]
    },
    {
     "cell_type": "markdown",
     "metadata": {},
     "source": [
      "Hypothesis H0: It does not depend on the clause type (sub vs. main) whether the clause unit is verb final."
     ]
    },
    {
     "cell_type": "code",
     "collapsed": false,
     "input": [
      "main_v_fin = 0; main_v_nonfin = 0; sub_v_fin = 0; sub_v_nonfin = 0;\n",
      "for wo, c in word_orders_main_count.items():\n",
      "    if wo[-1] == \"V\":\n",
      "        main_v_fin += c\n",
      "    else:\n",
      "        main_v_nonfin += c\n",
      "for wo, c in word_orders_sub_count.items():\n",
      "    if wo[-1] == \"V\":\n",
      "        sub_v_fin += c\n",
      "    else:\n",
      "        sub_v_nonfin += c\n",
      "cont_table = [ [main_v_fin, main_v_nonfin], [sub_v_fin, sub_v_nonfin] ]\n",
      "cont_table"
     ],
     "language": "python",
     "metadata": {},
     "outputs": [
      {
       "metadata": {},
       "output_type": "pyout",
       "prompt_number": 6,
       "text": [
        "[[454, 149], [160, 15]]"
       ]
      }
     ],
     "prompt_number": 6
    },
    {
     "cell_type": "code",
     "collapsed": false,
     "input": [
      "import scipy.stats\n",
      "oddsratio, pvalue = scipy.stats.fisher_exact(cont_table)\n",
      "pvalue"
     ],
     "language": "python",
     "metadata": {},
     "outputs": [
      {
       "metadata": {},
       "output_type": "pyout",
       "prompt_number": 7,
       "text": [
        "1.0194909237201304e-06"
       ]
      }
     ],
     "prompt_number": 7
    },
    {
     "cell_type": "markdown",
     "metadata": {},
     "source": [
      "We reject the null hypothesis, as the chances of getting a distribution as the observed one are p < 0.05. The clause type affects the verb \"finalness\". In this case subordinate clauses have a sifgnificant higher count of verb final word orders."
     ]
    },
    {
     "cell_type": "markdown",
     "metadata": {},
     "source": [
      "## 1.2. How differ main clauses and subordinate clauses in their word orders?"
     ]
    },
    {
     "cell_type": "markdown",
     "metadata": {},
     "source": [
      "Here are are the basic counts:"
     ]
    },
    {
     "cell_type": "code",
     "collapsed": false,
     "input": [
      "print(\"Counts for main clauses:\")\n",
      "for wo, c in word_orders_main_count.items():\n",
      "    print(\"{0} => {1}\".format(wo, c))\n",
      "print(\"\\nCounts for sub clauses:\")\n",
      "for wo, c in word_orders_sub_count.items():\n",
      "    print(\"{0} => {1}\".format(wo, c))\n"
     ],
     "language": "python",
     "metadata": {},
     "outputs": [
      {
       "output_type": "stream",
       "stream": "stdout",
       "text": [
        "Counts for main clauses:\n",
        "('V', 'A') => 51\n",
        "('V', 'P') => 12\n",
        "('STIM', 'EXP', 'V') => 3\n",
        "('V', 'P', 'A') => 1\n",
        "('STIM', 'V') => 7\n",
        "('P', 'V', 'A') => 14\n",
        "('S', 'V') => 215\n",
        "('EXP', 'V') => 4\n",
        "('A', 'V') => 70\n",
        "('A', 'V', 'P') => 10\n",
        "('EXP', 'STIM', 'V') => 11\n",
        "('V', 'S') => 42\n",
        "('V', 'A', 'P') => 10\n",
        "('P', 'A', 'V') => 9\n",
        "('EXP', 'V', 'STIM') => 5\n",
        "('A', 'P', 'V') => 73\n",
        "('P', 'V') => 62\n",
        "('V', 'EXP', 'STIM') => 1\n",
        "('STIM', 'V', 'EXP') => 3\n",
        "\n",
        "Counts for sub clauses:\n",
        "('V', 'A') => 1\n",
        "('V', 'P') => 2\n",
        "('STIM', 'EXP', 'V') => 1\n",
        "('P', 'V', 'A') => 2\n",
        "('STIM', 'V') => 3\n",
        "('A', 'P', 'V') => 11\n",
        "('S', 'V') => 57\n",
        "('A', 'V') => 8\n",
        "('EXP', 'STIM', 'V') => 2\n",
        "('V', 'S') => 7\n",
        "('EXP', 'V', 'STIM') => 1\n",
        "('A', 'V', 'P') => 2\n",
        "('P', 'V') => 74\n",
        "('P', 'A', 'V') => 4\n"
       ]
      }
     ],
     "prompt_number": 8
    },
    {
     "cell_type": "markdown",
     "metadata": {},
     "source": [
      "## 1.3. Where are G, BEN, G, TIME, LOC, ADD usually positioned? (e.g. before or after the verb)"
     ]
    },
    {
     "cell_type": "code",
     "collapsed": false,
     "input": [
      "particles = [ 'G', 'BEN', 'TIME', 'LOC', 'ADD' ]\n",
      "pos_counts = [ [0, 0] for _ in particles ]\n",
      "search_terms = verbs + particles\n",
      "\n",
      "for wo in helpers.diana.word_orders(ag, search_terms, verb_map):\n",
      "    for i, p in enumerate(particles):\n",
      "        if \"V\" in wo.word_order and p in wo.word_order:\n",
      "            if wo.word_order.index(\"V\") < wo.word_order.index(p):\n",
      "                pos_counts[i][0] += 1\n",
      "            else:\n",
      "                pos_counts[i][1] += 1\n",
      "                \n",
      "for i, p in enumerate(particles):\n",
      "    print(p)\n",
      "    print(\"    Count after verb:  {0}\".format(pos_counts[i][0]))\n",
      "    print(\"    Count before verb: {0}\".format(pos_counts[i][1]))"
     ],
     "language": "python",
     "metadata": {},
     "outputs": [
      {
       "output_type": "stream",
       "stream": "stdout",
       "text": [
        "G\n",
        "    Count after verb:  25\n",
        "    Count before verb: 155\n",
        "BEN\n",
        "    Count after verb:  9\n",
        "    Count before verb: 39\n",
        "TIME\n",
        "    Count after verb:  5\n",
        "    Count before verb: 64\n",
        "LOC\n",
        "    Count after verb:  12\n",
        "    Count before verb: 55\n",
        "ADD\n",
        "    Count after verb:  22\n",
        "    Count before verb: 22\n"
       ]
      }
     ],
     "prompt_number": 9
    },
    {
     "cell_type": "markdown",
     "metadata": {},
     "source": [
      "## 1.4. In main clauses: are BEN arguments significantly more often positioned before the verb than after the verb?"
     ]
    },
    {
     "cell_type": "code",
     "collapsed": false,
     "input": [
      "particles = [ 'BEN', 'G', 'ADD' ]\n",
      "pos_counts = [ [0, 0] for _ in particles ]\n",
      "search_terms = verbs + particles\n",
      "\n",
      "before = 0\n",
      "after = 0\n",
      "for wo in helpers.diana.word_orders(ag, search_terms, verb_map):\n",
      "    for i, p in enumerate(particles):\n",
      "        if wo.clause_type in main_clause_types and \"V\" in wo.word_order and p in wo.word_order:\n",
      "            if wo.word_order.index(\"V\") < wo.word_order.index(p):\n",
      "                pos_counts[i][0] += 1\n",
      "            else:\n",
      "                pos_counts[i][1] += 1\n",
      "\n",
      "for i, p in enumerate(particles):\n",
      "    print(p)\n",
      "    print(\"    Count after verb:  {0}\".format(pos_counts[i][0]))\n",
      "    print(\"    Count before verb: {0}\".format(pos_counts[i][1]))"
     ],
     "language": "python",
     "metadata": {},
     "outputs": [
      {
       "output_type": "stream",
       "stream": "stdout",
       "text": [
        "BEN\n",
        "    Count after verb:  8\n",
        "    Count before verb: 31\n",
        "G\n",
        "    Count after verb:  23\n",
        "    Count before verb: 90\n",
        "ADD\n",
        "    Count after verb:  20\n",
        "    Count before verb: 20\n"
       ]
      }
     ],
     "prompt_number": 10
    },
    {
     "cell_type": "markdown",
     "metadata": {},
     "source": [
      "### Statistical test\n",
      "\n",
      "I am using a binomial test here: http://docs.scipy.org/doc/scipy/reference/generated/scipy.stats.binom_test.html#scipy.stats.binom_test"
     ]
    },
    {
     "cell_type": "code",
     "collapsed": false,
     "input": [
      "part_sum = [ 0, 0 ]\n",
      "for i, p in enumerate(particles):\n",
      "    part_sum[0] += pos_counts[i][0]\n",
      "    part_sum[1] += pos_counts[i][1]\n",
      "    print(\"Test for '{0}'\".format(p))\n",
      "    print(scipy.stats.binom_test(pos_counts[i]))\n",
      "print(\"Test for 'BEN+G+ADD'\")\n",
      "print(scipy.stats.binom_test(part_sum))"
     ],
     "language": "python",
     "metadata": {},
     "outputs": [
      {
       "output_type": "stream",
       "stream": "stdout",
       "text": [
        "Test for 'BEN'\n",
        "0.000294076875434\n",
        "Test for 'G'\n",
        "1.48849064758e-10\n",
        "Test for 'ADD'\n",
        "1.0\n",
        "Test for 'BEN+G+ADD'\n",
        "5.94769311956e-11\n"
       ]
      }
     ],
     "prompt_number": 11
    },
    {
     "cell_type": "markdown",
     "metadata": {},
     "source": [
      "Except for \"ADD\" it is very unlikely that those counts are random. So the difference for \"BEN\" and \"G\" and \"BEN+G+ADD\" is significant."
     ]
    },
    {
     "cell_type": "markdown",
     "metadata": {},
     "source": [
      "## 1.5. In main and sub clauses: Are BEN + G + ADD significantly more often occurring after the verb than A or P or LOC, A + P or A + P + LOC?"
     ]
    },
    {
     "cell_type": "code",
     "collapsed": false,
     "input": [
      "particles = [ 'BEN', 'G', 'ADD', 'A', 'P', 'LOC' ]\n",
      "pos_counts = [ [0, 0] for _ in particles ]\n",
      "search_terms = verbs + particles\n",
      "\n",
      "before = 0\n",
      "after = 0\n",
      "for wo in helpers.diana.word_orders(ag, search_terms, verb_map):\n",
      "    for i, p in enumerate(particles):\n",
      "        if \"V\" in wo.word_order and p in wo.word_order:\n",
      "            if wo.word_order.index(\"V\") < wo.word_order.index(p):\n",
      "                pos_counts[i][0] += 1\n",
      "            else:\n",
      "                pos_counts[i][1] += 1"
     ],
     "language": "python",
     "metadata": {},
     "outputs": [],
     "prompt_number": 12
    },
    {
     "cell_type": "markdown",
     "metadata": {},
     "source": [
      "Hypothesis H0: It does not depend on the grammatical relation type if a participant appears before or after the verb.\n",
      "\n",
      "For the test we use the Fisher exact test, as this test also works for small numbers (http://docs.scipy.org/doc/scipy-0.13.0/reference/generated/scipy.stats.fisher_exact.html)."
     ]
    },
    {
     "cell_type": "markdown",
     "metadata": {},
     "source": [
      "### BEN + G + ADD vs. A"
     ]
    },
    {
     "cell_type": "code",
     "collapsed": false,
     "input": [
      "BEN_G_ADD = [ 0, 0 ]\n",
      "BEN_G_ADD[0] = pos_counts[0][0] + pos_counts[1][0] + pos_counts[2][0]\n",
      "BEN_G_ADD[1] = pos_counts[0][1] + pos_counts[1][1] + pos_counts[2][1]\n",
      "cont_table = [ BEN_G_ADD, pos_counts[3] ]\n",
      "cont_table"
     ],
     "language": "python",
     "metadata": {},
     "outputs": [
      {
       "metadata": {},
       "output_type": "pyout",
       "prompt_number": 13,
       "text": [
        "[[56, 216], [80, 188]]"
       ]
      }
     ],
     "prompt_number": 13
    },
    {
     "cell_type": "code",
     "collapsed": false,
     "input": [
      "oddsratio, pvalue = scipy.stats.fisher_exact(cont_table)\n",
      "pvalue"
     ],
     "language": "python",
     "metadata": {},
     "outputs": [
      {
       "metadata": {},
       "output_type": "pyout",
       "prompt_number": 14,
       "text": [
        "0.013473954825883712"
       ]
      }
     ],
     "prompt_number": 14
    },
    {
     "cell_type": "markdown",
     "metadata": {},
     "source": [
      "We reject the null hpythesis H0 because p < 0.05. The grammatical relation type does have influence on whether a participant appears before or after the verb. In this case, A appears significantly more often before the verb then BEN + G + ADD."
     ]
    },
    {
     "cell_type": "markdown",
     "metadata": {},
     "source": [
      "### BEN + G + ADD vs. P"
     ]
    },
    {
     "cell_type": "code",
     "collapsed": false,
     "input": [
      "cont_table = [ BEN_G_ADD, pos_counts[4] ]\n",
      "cont_table"
     ],
     "language": "python",
     "metadata": {},
     "outputs": [
      {
       "metadata": {},
       "output_type": "pyout",
       "prompt_number": 15,
       "text": [
        "[[56, 216], [37, 250]]"
       ]
      }
     ],
     "prompt_number": 15
    },
    {
     "cell_type": "code",
     "collapsed": false,
     "input": [
      "oddsratio, pvalue = scipy.stats.fisher_exact(cont_table)\n",
      "pvalue"
     ],
     "language": "python",
     "metadata": {},
     "outputs": [
      {
       "metadata": {},
       "output_type": "pyout",
       "prompt_number": 16,
       "text": [
        "0.016904389278624213"
       ]
      }
     ],
     "prompt_number": 16
    },
    {
     "cell_type": "markdown",
     "metadata": {},
     "source": [
      "Again, we reject the null hypothesis because p < 0.05. P occurs more often before the verb then BEN + G + ADD."
     ]
    },
    {
     "cell_type": "markdown",
     "metadata": {},
     "source": [
      "### BEN + G + ADD vs. LOC"
     ]
    },
    {
     "cell_type": "code",
     "collapsed": false,
     "input": [
      "cont_table = [ BEN_G_ADD, pos_counts[5] ]\n",
      "cont_table"
     ],
     "language": "python",
     "metadata": {},
     "outputs": [
      {
       "metadata": {},
       "output_type": "pyout",
       "prompt_number": 17,
       "text": [
        "[[56, 216], [12, 55]]"
       ]
      }
     ],
     "prompt_number": 17
    },
    {
     "cell_type": "code",
     "collapsed": false,
     "input": [
      "oddsratio, pvalue = scipy.stats.fisher_exact(cont_table)\n",
      "pvalue"
     ],
     "language": "python",
     "metadata": {},
     "outputs": [
      {
       "metadata": {},
       "output_type": "pyout",
       "prompt_number": 18,
       "text": [
        "0.73423084920817272"
       ]
      }
     ],
     "prompt_number": 18
    },
    {
     "cell_type": "markdown",
     "metadata": {},
     "source": [
      "We cannot reject the null hypothesis because p > 0.05. LOC does not occurs more often before the verb then BEN + G + ADD."
     ]
    },
    {
     "cell_type": "markdown",
     "metadata": {},
     "source": [
      "### BEN + G + ADD vs. A + P"
     ]
    },
    {
     "cell_type": "code",
     "collapsed": false,
     "input": [
      "A_P = [ 0, 0 ]\n",
      "A_P[0] = pos_counts[3][0] + pos_counts[4][0]\n",
      "A_P[1] = pos_counts[3][1] + pos_counts[4][1]\n",
      "cont_table = [ BEN_G_ADD, A_P ]\n",
      "cont_table"
     ],
     "language": "python",
     "metadata": {},
     "outputs": [
      {
       "metadata": {},
       "output_type": "pyout",
       "prompt_number": 19,
       "text": [
        "[[56, 216], [117, 438]]"
       ]
      }
     ],
     "prompt_number": 19
    },
    {
     "cell_type": "code",
     "collapsed": false,
     "input": [
      "oddsratio, pvalue = scipy.stats.fisher_exact(cont_table)\n",
      "pvalue"
     ],
     "language": "python",
     "metadata": {},
     "outputs": [
      {
       "metadata": {},
       "output_type": "pyout",
       "prompt_number": 20,
       "text": [
        "0.92756787940652896"
       ]
      }
     ],
     "prompt_number": 20
    },
    {
     "cell_type": "markdown",
     "metadata": {},
     "source": [
      "We cannot reject H0. There is no difference between BEN + G + ADD vs. A + P."
     ]
    },
    {
     "cell_type": "markdown",
     "metadata": {},
     "source": [
      "### BEN + G + ADD vs. A + P + LOC"
     ]
    },
    {
     "cell_type": "code",
     "collapsed": false,
     "input": [
      "A_P_LOC = [ 0, 0 ]\n",
      "A_P_LOC[0] = pos_counts[3][0] + pos_counts[4][0] + pos_counts[5][0]\n",
      "A_P_LOC[1] = pos_counts[3][1] + pos_counts[4][1] + pos_counts[5][1]\n",
      "cont_table = [ BEN_G_ADD, A_P_LOC ]\n",
      "cont_table"
     ],
     "language": "python",
     "metadata": {},
     "outputs": [
      {
       "metadata": {},
       "output_type": "pyout",
       "prompt_number": 21,
       "text": [
        "[[56, 216], [129, 493]]"
       ]
      }
     ],
     "prompt_number": 21
    },
    {
     "cell_type": "code",
     "collapsed": false,
     "input": [
      "oddsratio, pvalue = scipy.stats.fisher_exact(cont_table)\n",
      "pvalue"
     ],
     "language": "python",
     "metadata": {},
     "outputs": [
      {
       "metadata": {},
       "output_type": "pyout",
       "prompt_number": 22,
       "text": [
        "1.0"
       ]
      }
     ],
     "prompt_number": 22
    },
    {
     "cell_type": "markdown",
     "metadata": {},
     "source": [
      "We cannot reject H0. There is no difference between BEN + G + ADD vs. A + P + LOC"
     ]
    },
    {
     "cell_type": "markdown",
     "metadata": {},
     "source": [
      "## 1.5.1. In main clauses only: BEN vs. P, ADD vs. P, BEN + ADD vs. P, A vs. P, A vs. S"
     ]
    },
    {
     "cell_type": "code",
     "collapsed": false,
     "input": [
      "particles = [ 'BEN', 'G', 'ADD', 'A', 'P', 'LOC', 'S' ]\n",
      "pos_counts = [ [0, 0] for _ in particles ]\n",
      "search_terms = verbs + particles\n",
      "\n",
      "before = 0\n",
      "after = 0\n",
      "for wo in helpers.diana.word_orders(ag, search_terms, verb_map):\n",
      "    for i, p in enumerate(particles):\n",
      "        if wo.clause_type in main_clause_types and \"V\" in wo.word_order and p in wo.word_order:\n",
      "            if wo.word_order.index(\"V\") < wo.word_order.index(p):\n",
      "                pos_counts[i][0] += 1\n",
      "            else:\n",
      "                pos_counts[i][1] += 1"
     ],
     "language": "python",
     "metadata": {},
     "outputs": [],
     "prompt_number": 23
    },
    {
     "cell_type": "markdown",
     "metadata": {},
     "source": [
      "### BEN vs. P"
     ]
    },
    {
     "cell_type": "code",
     "collapsed": false,
     "input": [
      "cont_table = [ pos_counts[0], pos_counts[4] ]\n",
      "cont_table"
     ],
     "language": "python",
     "metadata": {},
     "outputs": [
      {
       "metadata": {},
       "output_type": "pyout",
       "prompt_number": 24,
       "text": [
        "[[8, 31], [33, 158]]"
       ]
      }
     ],
     "prompt_number": 24
    },
    {
     "cell_type": "code",
     "collapsed": false,
     "input": [
      "oddsratio, pvalue = scipy.stats.fisher_exact(cont_table)\n",
      "pvalue"
     ],
     "language": "python",
     "metadata": {},
     "outputs": [
      {
       "metadata": {},
       "output_type": "pyout",
       "prompt_number": 25,
       "text": [
        "0.64794235656672949"
       ]
      }
     ],
     "prompt_number": 25
    },
    {
     "cell_type": "markdown",
     "metadata": {},
     "source": [
      "We cannot reject H0. There is no significant difference between BEN and P if they appear before or after the verb."
     ]
    },
    {
     "cell_type": "markdown",
     "metadata": {},
     "source": [
      "### ADD vs. P"
     ]
    },
    {
     "cell_type": "code",
     "collapsed": false,
     "input": [
      "cont_table = [ pos_counts[2], pos_counts[4] ]\n",
      "cont_table"
     ],
     "language": "python",
     "metadata": {},
     "outputs": [
      {
       "metadata": {},
       "output_type": "pyout",
       "prompt_number": 26,
       "text": [
        "[[20, 20], [33, 158]]"
       ]
      }
     ],
     "prompt_number": 26
    },
    {
     "cell_type": "code",
     "collapsed": false,
     "input": [
      "oddsratio, pvalue = scipy.stats.fisher_exact(cont_table)\n",
      "pvalue"
     ],
     "language": "python",
     "metadata": {},
     "outputs": [
      {
       "metadata": {},
       "output_type": "pyout",
       "prompt_number": 27,
       "text": [
        "3.8451757980430857e-05"
       ]
      }
     ],
     "prompt_number": 27
    },
    {
     "cell_type": "markdown",
     "metadata": {},
     "source": [
      "We can reject H0. P occurs more often before the verb then ADD."
     ]
    },
    {
     "cell_type": "markdown",
     "metadata": {},
     "source": [
      "### BEN + ADD vs. P"
     ]
    },
    {
     "cell_type": "code",
     "collapsed": false,
     "input": [
      "BEN_ADD = [ 0, 0 ]\n",
      "BEN_ADD[0] = pos_counts[0][0] + pos_counts[2][0]\n",
      "BEN_ADD[1] = pos_counts[0][1] + pos_counts[2][1]\n",
      "cont_table = [ BEN_ADD, pos_counts[4] ]\n",
      "cont_table"
     ],
     "language": "python",
     "metadata": {},
     "outputs": [
      {
       "metadata": {},
       "output_type": "pyout",
       "prompt_number": 28,
       "text": [
        "[[28, 51], [33, 158]]"
       ]
      }
     ],
     "prompt_number": 28
    },
    {
     "cell_type": "code",
     "collapsed": false,
     "input": [
      "oddsratio, pvalue = scipy.stats.fisher_exact(cont_table)\n",
      "pvalue"
     ],
     "language": "python",
     "metadata": {},
     "outputs": [
      {
       "metadata": {},
       "output_type": "pyout",
       "prompt_number": 29,
       "text": [
        "0.0021392471158436389"
       ]
      }
     ],
     "prompt_number": 29
    },
    {
     "cell_type": "markdown",
     "metadata": {},
     "source": [
      "We reject reject H0 as p < 0.05. P appears significantly more often before the verb then BEN + ADD."
     ]
    },
    {
     "cell_type": "markdown",
     "metadata": {},
     "source": [
      "### A vs. P"
     ]
    },
    {
     "cell_type": "code",
     "collapsed": false,
     "input": [
      "cont_table = [ pos_counts[3], pos_counts[4] ]\n",
      "cont_table"
     ],
     "language": "python",
     "metadata": {},
     "outputs": [
      {
       "metadata": {},
       "output_type": "pyout",
       "prompt_number": 30,
       "text": [
        "[[76, 162], [33, 158]]"
       ]
      }
     ],
     "prompt_number": 30
    },
    {
     "cell_type": "code",
     "collapsed": false,
     "input": [
      "oddsratio, pvalue = scipy.stats.fisher_exact(cont_table)\n",
      "pvalue"
     ],
     "language": "python",
     "metadata": {},
     "outputs": [
      {
       "metadata": {},
       "output_type": "pyout",
       "prompt_number": 31,
       "text": [
        "0.00053348950732782618"
       ]
      }
     ],
     "prompt_number": 31
    },
    {
     "cell_type": "markdown",
     "metadata": {},
     "source": [
      "We reject H0 as p < 0.05. P apppears significantly more often before the verb than P."
     ]
    },
    {
     "cell_type": "markdown",
     "metadata": {},
     "source": [
      "### A vs. S"
     ]
    },
    {
     "cell_type": "code",
     "collapsed": false,
     "input": [
      "cont_table = [ pos_counts[3], pos_counts[5] ]\n",
      "cont_table"
     ],
     "language": "python",
     "metadata": {},
     "outputs": [
      {
       "metadata": {},
       "output_type": "pyout",
       "prompt_number": 32,
       "text": [
        "[[76, 162], [9, 36]]"
       ]
      }
     ],
     "prompt_number": 32
    },
    {
     "cell_type": "code",
     "collapsed": false,
     "input": [
      "oddsratio, pvalue = scipy.stats.fisher_exact(cont_table)\n",
      "pvalue"
     ],
     "language": "python",
     "metadata": {},
     "outputs": [
      {
       "metadata": {},
       "output_type": "pyout",
       "prompt_number": 33,
       "text": [
        "0.15502514539950046"
       ]
      }
     ],
     "prompt_number": 33
    },
    {
     "cell_type": "markdown",
     "metadata": {},
     "source": [
      "We cannot reject H0. There is no significant difference between A and S if they appear before or after the verb."
     ]
    },
    {
     "cell_type": "markdown",
     "metadata": {},
     "source": [
      "## 1.6. SAY: Does SAY have more often an overtly expressed A than all other transitive verbs?\n",
      "\n",
      "Hypothesis 1 (H0): It does not depend on the type of the verb (SAY vs. others) if the A is expressed ouvertly.\n",
      "\n",
      "For the test we use the Fisher exact test, as this test also works for small numbers (http://docs.scipy.org/doc/scipy-0.13.0/reference/generated/scipy.stats.fisher_exact.html)."
     ]
    },
    {
     "cell_type": "code",
     "collapsed": false,
     "input": [
      "other_verbs = [ 'COP', 'v.tr', 'v.intr', 'v.aff' ]\n",
      "search_terms = other_verbs + [ 'SAY', 'A', 'zero-A' ]\n",
      "verb_map = { v: \"V\" for v in other_verbs }\n",
      "SAY_counts = [ 0, 0 ]\n",
      "others_counts = [ 0, 0 ]\n",
      "for wo in helpers.diana.word_orders(ag, search_terms, verb_map):\n",
      "    if 'SAY' in wo.word_order:\n",
      "        if 'A' in wo.word_order:\n",
      "            SAY_counts[0] += 1\n",
      "        elif 'zero-A' in wo.word_order:\n",
      "            SAY_counts[1] += 1\n",
      "    if 'V' in wo.word_order:\n",
      "        if 'A' in wo.word_order:\n",
      "            others_counts[0] += 1\n",
      "        elif 'zero-A' in wo.word_order:\n",
      "            others_counts[1] += 1"
     ],
     "language": "python",
     "metadata": {},
     "outputs": [],
     "prompt_number": 34
    },
    {
     "cell_type": "code",
     "collapsed": false,
     "input": [
      "cont_table = [ SAY_counts, others_counts ]\n",
      "cont_table"
     ],
     "language": "python",
     "metadata": {},
     "outputs": [
      {
       "metadata": {},
       "output_type": "pyout",
       "prompt_number": 35,
       "text": [
        "[[111, 29], [157, 192]]"
       ]
      }
     ],
     "prompt_number": 35
    },
    {
     "cell_type": "code",
     "collapsed": false,
     "input": [
      "oddsratio, pvalue = scipy.stats.fisher_exact(cont_table)\n",
      "pvalue"
     ],
     "language": "python",
     "metadata": {},
     "outputs": [
      {
       "metadata": {},
       "output_type": "pyout",
       "prompt_number": 36,
       "text": [
        "2.0383277596699758e-12"
       ]
      }
     ],
     "prompt_number": 36
    },
    {
     "cell_type": "markdown",
     "metadata": {},
     "source": [
      "We reject the null hypothesis because p < 0.05. A is more often ouvert in SAY sentences than in any other sentence with other verb types."
     ]
    },
    {
     "cell_type": "markdown",
     "metadata": {},
     "source": [
      "## 1.7. Does the A of say more often follow its verb than the A of all other transitive verbs?\n",
      "\n",
      "H0: It does not depend on the verb type (A vs. others) if A is before or after the verb."
     ]
    },
    {
     "cell_type": "code",
     "collapsed": false,
     "input": [
      "search_terms = other_verbs + [ 'SAY', 'A' ]\n",
      "SAY_counts = [ 0, 0 ]\n",
      "others_counts = [ 0, 0 ]\n",
      "for wo in helpers.diana.word_orders(ag, search_terms, verb_map):\n",
      "    if 'SAY' in wo.word_order and 'A' in wo.word_order:\n",
      "        if wo.word_order.index(\"SAY\") < wo.word_order.index(\"A\"):\n",
      "            SAY_counts[0] += 1\n",
      "        else:\n",
      "            SAY_counts[1] += 1\n",
      "    if \"V\" in wo.word_order and \"A\" in wo.word_order:\n",
      "        if wo.word_order.index(\"V\") < wo.word_order.index(\"A\"):\n",
      "            others_counts[0] += 1\n",
      "        else:\n",
      "            others_counts[1] += 1"
     ],
     "language": "python",
     "metadata": {},
     "outputs": [],
     "prompt_number": 37
    },
    {
     "cell_type": "code",
     "collapsed": false,
     "input": [
      "cont_table = [ SAY_counts, others_counts ]\n",
      "cont_table"
     ],
     "language": "python",
     "metadata": {},
     "outputs": [
      {
       "metadata": {},
       "output_type": "pyout",
       "prompt_number": 38,
       "text": [
        "[[50, 61], [30, 127]]"
       ]
      }
     ],
     "prompt_number": 38
    },
    {
     "cell_type": "code",
     "collapsed": false,
     "input": [
      "oddsratio, pvalue = scipy.stats.fisher_exact(cont_table)\n",
      "pvalue"
     ],
     "language": "python",
     "metadata": {},
     "outputs": [
      {
       "metadata": {},
       "output_type": "pyout",
       "prompt_number": 39,
       "text": [
        "6.633759085937411e-06"
       ]
      }
     ],
     "prompt_number": 39
    },
    {
     "cell_type": "markdown",
     "metadata": {},
     "source": [
      "We reject the null hypothesis as p < 0.05. A does significantly more often preceed the verb in non-SAY sentences."
     ]
    },
    {
     "cell_type": "markdown",
     "metadata": {},
     "source": [
      "## 1.8. Does the overt A of SAY more often precede or follow the verb (and what are the frequencies)?"
     ]
    },
    {
     "cell_type": "code",
     "collapsed": false,
     "input": [
      "print(\"A after SAY: {0}\".format(SAY_counts[0]))\n",
      "print(\"A before SAY: {0}\".format(SAY_counts[1]))"
     ],
     "language": "python",
     "metadata": {},
     "outputs": [
      {
       "output_type": "stream",
       "stream": "stdout",
       "text": [
        "A after SAY: 50\n",
        "A before SAY: 61\n"
       ]
      }
     ],
     "prompt_number": 40
    },
    {
     "cell_type": "markdown",
     "metadata": {},
     "source": [
      "# 2. Agreement"
     ]
    },
    {
     "cell_type": "markdown",
     "metadata": {},
     "source": [
      "## 2.1. How frequent is agreement in texts (in main and subordinate clauses)?"
     ]
    },
    {
     "cell_type": "code",
     "collapsed": false,
     "input": [
      "verbs = [ 'v.tr', 'v.intr', 'v.aff' ]\n",
      "agreements = [0, 0]; noagreements = [0, 0];\n",
      "for wo in helpers.diana.word_orders(ag, verbs, with_agreement = True):\n",
      "    for agr in wo.agreement:\n",
      "        if wo.clause_type in sub_clause_types:\n",
      "            if agr == \"noagr\":\n",
      "                noagreements[0] += 1\n",
      "            else:\n",
      "                agreements[0] += 1\n",
      "        else:\n",
      "            if agr == \"noagr\":\n",
      "                noagreements[1] += 1\n",
      "            else:\n",
      "                agreements[1] += 1\n",
      "\n",
      "print(\"I found {0} verbs with and {1} verbs without agreement.\".format(agreements[0]+agreements[1], noagreements[0]+noagreements[1]))\n",
      "print(\"In main clauses: I found {0} verbs with and {1} verbs without agreement.\".format(agreements[1], noagreements[1]))\n",
      "print(\"In sub clauses: I found {0} verbs with and {1} verbs without agreement.\".format(agreements[0], noagreements[0]))"
     ],
     "language": "python",
     "metadata": {},
     "outputs": [
      {
       "output_type": "stream",
       "stream": "stdout",
       "text": [
        "no agreement annotation in clause unit clause_id..n#737 for grammatical relation 'v.intr'\n",
        "no agreement annotation in clause unit clause_id..n#718 for grammatical relation 'v.tr'\n",
        "no agreement annotation in clause unit clause_id..n#679 for grammatical relation 'v.tr'\n",
        "no agreement annotation in clause unit clause_id..n#131 for grammatical relation 'v.intr'\n",
        "no agreement annotation in clause unit clause_id..n#645 for grammatical relation 'v.tr'\n",
        "no agreement annotation in clause unit clause_id..n#465 for grammatical relation 'v.tr'\n",
        "no agreement annotation in clause unit clause_id..n#666 for grammatical relation 'v.intr'\n",
        "no agreement annotation in clause unit clause_id..n#370 for grammatical relation 'v.tr'\n",
        "no agreement annotation in clause unit clause_id..n#762 for grammatical relation 'v.intr'\n",
        "no agreement annotation in clause unit clause_id..n#377 for grammatical relation 'v.tr'\n",
        "no agreement annotation in clause unit clause_id..n#268 for grammatical relation 'v.tr'\n",
        "no agreement annotation in clause unit clause_id..n#274 for grammatical relation 'v.tr'\n",
        "I found 397 verbs with and 314 verbs without agreement.\n",
        "In main clauses: I found 280 verbs with and 191 verbs without agreement.\n",
        "In sub clauses: I found 117 verbs with and 123 verbs without agreement.\n"
       ]
      }
     ],
     "prompt_number": 41
    },
    {
     "cell_type": "markdown",
     "metadata": {},
     "source": [
      "## 2.2. Do non-agreeing verbs occur more often with overtly expressed S or P or STIM arguments than agreeing verbs (because the agreement prefixes are enough to track the reference)?"
     ]
    },
    {
     "cell_type": "markdown",
     "metadata": {},
     "source": [
      "Hypothesis H0: It does not depend on the verbal agreement if S (or P or STIM) arguments are expressed overtly."
     ]
    },
    {
     "cell_type": "code",
     "collapsed": false,
     "input": [
      "search_terms = verbs + [ 'S', 'P', 'STIM',  'zero-S', 'zero-P', 'zero-STIM' ]\n",
      "cont_table_S = [ [0, 0], [0, 0] ]\n",
      "cont_table_P = [ [0, 0], [0, 0] ]\n",
      "cont_table_STIM = [ [0, 0], [0, 0] ]\n",
      "cont_table_S_P_STIM =  [ [0, 0], [0, 0] ]\n",
      "for wo in helpers.diana.word_orders(ag, search_terms, with_agreement = True):\n",
      "    agreeing = 0\n",
      "    if len(wo.word_order) != len(wo.agreement):\n",
      "        continue\n",
      "    for i, w in enumerate(wo.word_order):\n",
      "        if w in verbs:\n",
      "            if wo.agreement[i] == \"noagr\":\n",
      "                agreeing = 1\n",
      "    if \"zero-S\" in wo.word_order:\n",
      "        cont_table_S[agreeing][0] += 1\n",
      "        cont_table_S_P_STIM[agreeing][0] += 1\n",
      "    elif \"S\" in wo.word_order:\n",
      "        cont_table_S[agreeing][1] += 1\n",
      "        cont_table_S_P_STIM[agreeing][1] += 1\n",
      "    if \"zero-P\" in wo.word_order:\n",
      "        cont_table_P[agreeing][0] += 1\n",
      "        cont_table_S_P_STIM[agreeing][0] += 1\n",
      "    elif \"P\" in wo.word_order:\n",
      "        cont_table_P[agreeing][1] += 1\n",
      "        cont_table_S_P_STIM[agreeing][1] += 1\n",
      "    if \"zero-STIM\" in wo.word_order:\n",
      "        cont_table_STIM[agreeing][0] += 1\n",
      "        cont_table_S_P_STIM[agreeing][0] += 1\n",
      "    elif \"STIM\" in wo.word_order:\n",
      "        cont_table_STIM[agreeing][1] += 1\n",
      "        cont_table_S_P_STIM[agreeing][1] += 1"
     ],
     "language": "python",
     "metadata": {},
     "outputs": [
      {
       "output_type": "stream",
       "stream": "stdout",
       "text": [
        "no agreement annotation in clause unit clause_id..n#47 for grammatical relation 'S'\n",
        "no agreement annotation in clause unit clause_id..n#737 for grammatical relation 'v.intr'\n",
        "no agreement annotation in clause unit clause_id..n#718 for grammatical relation 'v.tr'\n",
        "no agreement annotation in clause unit clause_id..n#679 for grammatical relation 'v.tr'\n",
        "no agreement annotation in clause unit clause_id..n#131 for grammatical relation 'S'\n",
        "no agreement annotation in clause unit clause_id..n#131 for grammatical relation 'v.intr'\n",
        "no agreement annotation in clause unit clause_id..n#645 for grammatical relation 'v.tr'\n",
        "no agreement annotation in clause unit clause_id..n#275 for grammatical relation 'P'\n",
        "no agreement annotation in clause unit clause_id..n#465 for grammatical relation 'v.tr'\n",
        "no agreement annotation in clause unit clause_id..n#666 for grammatical relation 'S'\n",
        "no agreement annotation in clause unit clause_id..n#666 for grammatical relation 'v.intr'\n",
        "no agreement annotation in clause unit clause_id..n#370 for grammatical relation 'v.tr'\n",
        "no agreement annotation in clause unit clause_id..n#762 for grammatical relation 'v.intr'\n",
        "no agreement annotation in clause unit clause_id..n#762 for grammatical relation 'S'\n",
        "no agreement annotation in clause unit clause_id..n#377 for grammatical relation 'v.tr'\n",
        "no agreement annotation in clause unit clause_id..n#268 for grammatical relation 'v.tr'\n",
        "no agreement annotation in clause unit clause_id..n#274 for grammatical relation 'v.tr'"
       ]
      },
      {
       "output_type": "stream",
       "stream": "stdout",
       "text": [
        "\n"
       ]
      }
     ],
     "prompt_number": 42
    },
    {
     "cell_type": "markdown",
     "metadata": {},
     "source": [
      "### Statistical test for S"
     ]
    },
    {
     "cell_type": "code",
     "collapsed": false,
     "input": [
      "cont_table_S"
     ],
     "language": "python",
     "metadata": {},
     "outputs": [
      {
       "metadata": {},
       "output_type": "pyout",
       "prompt_number": 43,
       "text": [
        "[[81, 216], [64, 101]]"
       ]
      }
     ],
     "prompt_number": 43
    },
    {
     "cell_type": "code",
     "collapsed": false,
     "input": [
      "oddsratio, pvalue = scipy.stats.fisher_exact(cont_table_S)\n",
      "pvalue"
     ],
     "language": "python",
     "metadata": {},
     "outputs": [
      {
       "metadata": {},
       "output_type": "pyout",
       "prompt_number": 44,
       "text": [
        "0.012097485903857692"
       ]
      }
     ],
     "prompt_number": 44
    },
    {
     "cell_type": "markdown",
     "metadata": {},
     "source": [
      "We reject the null hypothesis, because p < 0.05. S is signifantly more often overt when there is agreement."
     ]
    },
    {
     "cell_type": "markdown",
     "metadata": {},
     "source": [
      "### Statistical test for P"
     ]
    },
    {
     "cell_type": "code",
     "collapsed": false,
     "input": [
      "cont_table_P"
     ],
     "language": "python",
     "metadata": {},
     "outputs": [
      {
       "metadata": {},
       "output_type": "pyout",
       "prompt_number": 45,
       "text": [
        "[[38, 164], [22, 116]]"
       ]
      }
     ],
     "prompt_number": 45
    },
    {
     "cell_type": "code",
     "collapsed": false,
     "input": [
      "oddsratio, pvalue = scipy.stats.fisher_exact(cont_table_P)\n",
      "pvalue"
     ],
     "language": "python",
     "metadata": {},
     "outputs": [
      {
       "metadata": {},
       "output_type": "pyout",
       "prompt_number": 46,
       "text": [
        "0.56320828600188433"
       ]
      }
     ],
     "prompt_number": 46
    },
    {
     "cell_type": "markdown",
     "metadata": {},
     "source": [
      "We cannot reject H0 as p > 0.05. There is no influence of agreement on overt P (or vice versa)."
     ]
    },
    {
     "cell_type": "markdown",
     "metadata": {},
     "source": [
      "### Staistical test for STIM"
     ]
    },
    {
     "cell_type": "code",
     "collapsed": false,
     "input": [
      "cont_table_STIM"
     ],
     "language": "python",
     "metadata": {},
     "outputs": [
      {
       "metadata": {},
       "output_type": "pyout",
       "prompt_number": 47,
       "text": [
        "[[5, 27], [1, 10]]"
       ]
      }
     ],
     "prompt_number": 47
    },
    {
     "cell_type": "code",
     "collapsed": false,
     "input": [
      "oddsratio, pvalue = scipy.stats.fisher_exact(cont_table_STIM)\n",
      "pvalue"
     ],
     "language": "python",
     "metadata": {},
     "outputs": [
      {
       "metadata": {},
       "output_type": "pyout",
       "prompt_number": 48,
       "text": [
        "1.0"
       ]
      }
     ],
     "prompt_number": 48
    },
    {
     "cell_type": "markdown",
     "metadata": {},
     "source": [
      "Here it is not possible to calculate, as the number of non-agreements is too low. Practically all verbs that have a STIM argument show agreement, whether the argument is expressed or not."
     ]
    },
    {
     "cell_type": "markdown",
     "metadata": {},
     "source": [
      "### Statistical test for S + P + STIM"
     ]
    },
    {
     "cell_type": "code",
     "collapsed": false,
     "input": [
      "cont_table_S_P_STIM"
     ],
     "language": "python",
     "metadata": {},
     "outputs": [
      {
       "metadata": {},
       "output_type": "pyout",
       "prompt_number": 49,
       "text": [
        "[[124, 407], [87, 227]]"
       ]
      }
     ],
     "prompt_number": 49
    },
    {
     "cell_type": "code",
     "collapsed": false,
     "input": [
      "oddsratio, pvalue = scipy.stats.fisher_exact(cont_table_S_P_STIM)\n",
      "pvalue"
     ],
     "language": "python",
     "metadata": {},
     "outputs": [
      {
       "metadata": {},
       "output_type": "pyout",
       "prompt_number": 50,
       "text": [
        "0.16283038815723336"
       ]
      }
     ],
     "prompt_number": 50
    },
    {
     "cell_type": "markdown",
     "metadata": {},
     "source": [
      "We cannot reject the hypothesis as p > 0.05. It does not depend on the verbal agreement whether S + P + STIM is expressed overtly."
     ]
    },
    {
     "cell_type": "markdown",
     "metadata": {},
     "source": [
      "## 2.3. Differences between the prefixes or not?"
     ]
    },
    {
     "cell_type": "markdown",
     "metadata": {},
     "source": [
      "### 2.3.1. How often do the prefixes occur at all in texts"
     ]
    },
    {
     "cell_type": "code",
     "collapsed": false,
     "input": [
      "verbs = [ 'v.tr', 'v.intr', 'v.aff' ]\n",
      "agreement_sum = collections.defaultdict(int)\n",
      "for wo in helpers.diana.word_orders(ag, verbs, with_agreement = True):\n",
      "    for agr in wo.agreement:\n",
      "        agreement_sum[agr] += 1\n",
      "for agr, count in agreement_sum.items():\n",
      "    print(\"{} => {}\".format(agr, count))"
     ],
     "language": "python",
     "metadata": {},
     "outputs": [
      {
       "output_type": "stream",
       "stream": "stdout",
       "text": [
        "no agreement annotation in clause unit clause_id..n#737 for grammatical relation 'v.intr'\n",
        "no agreement annotation in clause unit clause_id..n#718 for grammatical relation 'v.tr'\n",
        "no agreement annotation in clause unit clause_id..n#679 for grammatical relation 'v.tr'\n",
        "no agreement annotation in clause unit clause_id..n#131 for grammatical relation 'v.intr'\n",
        "no agreement annotation in clause unit clause_id..n#645 for grammatical relation 'v.tr'\n",
        "no agreement annotation in clause unit clause_id..n#465 for grammatical relation 'v.tr'\n",
        "no agreement annotation in clause unit clause_id..n#666 for grammatical relation 'v.intr'\n",
        "no agreement annotation in clause unit clause_id..n#370 for grammatical relation 'v.tr'\n",
        "no agreement annotation in clause unit clause_id..n#762 for grammatical relation 'v.intr'\n",
        "no agreement annotation in clause unit clause_id..n#377 for grammatical relation 'v.tr'\n",
        "no agreement annotation in clause unit clause_id..n#268 for grammatical relation 'v.tr'\n",
        "no agreement annotation in clause unit clause_id..n#274 for grammatical relation 'v.tr'\n",
        "b+b-3 => 8\n",
        "v.tr => 1\n",
        "w+w-1 => 10\n",
        "y-1 => 1\n",
        "l-pl => 1\n",
        "r-pl => 37\n",
        "l+r-pl => 1\n",
        "y+y-2 => 2\n",
        "y-2 => 4\n",
        "w-1 => 107\n",
        "b-3 => 223\n",
        "r+l-pl => 1\n",
        "noagrt => 1\n",
        "noagr => 314\n"
       ]
      }
     ],
     "prompt_number": 51
    },
    {
     "cell_type": "markdown",
     "metadata": {},
     "source": [
      "### 2.3.2. How often do the prefixes occur with overt arguments"
     ]
    },
    {
     "cell_type": "markdown",
     "metadata": {},
     "source": [
      "We check here first, if the agreement makes sense, i.e. whether the class marker on P, S or STIM is the same as on the verb. All other cases are printed with clause ID, to check manually."
     ]
    },
    {
     "cell_type": "code",
     "collapsed": false,
     "input": [
      "verbs = [ 'v.tr', 'v.intr', 'v.aff' ]\n",
      "search_terms = verbs + [ 'S', 'P', 'STIM', 'zero-S', 'zero-P', 'zero-STIM' ]\n",
      "agreements = collections.defaultdict(int)\n",
      "for wo in helpers.diana.word_orders(ag, search_terms, with_agreement = True):\n",
      "    v_class = None; n_class = None; v_marker = None; n_type = None;\n",
      "    agreement = False\n",
      "    zero = False\n",
      "    if len(wo.word_order) != len(wo.agreement):\n",
      "        print(\"length on blue and yellow line different in ID {}\".format(wo.clause_id))\n",
      "        continue\n",
      "    for i, w in enumerate(wo.word_order):\n",
      "        if w in verbs:\n",
      "            if wo.agreement[i] != \"noagr\":\n",
      "                agreement = True\n",
      "                if \"-\" in wo.agreement[i]:\n",
      "                    v_marker, v_class = wo.agreement[i].split(\"-\")\n",
      "                else:\n",
      "                    print(\"no dash in v agr in ID {}\".format(wo.clause_id))\n",
      "        else:\n",
      "            if \"-\" in wo.agreement[i]:\n",
      "                n_split = wo.agreement[i].split(\"-\")\n",
      "                if len(n_split) > 2:\n",
      "                    print(\"more than one dash in n agr in ID {}\".format(wo.clause_id))\n",
      "                n_class = n_split[1]\n",
      "                #n_type = n_split[1]\n",
      "                if \".\" in n_class:\n",
      "                    n_class, _ = n_class.split(\".\")\n",
      "            else:\n",
      "                print(\"no dash in n agr in ID {}\".format(wo.clause_id))\n",
      "            if w.startswith(\"zero-\"):\n",
      "                zero = True\n",
      "                \n",
      "    if v_class != n_class and agreement:\n",
      "        print(\"n class does not equal v class in ID {} (n_class: {} vs. v_class: {})\".format(wo.clause_id, n_class, v_class))\n",
      "    elif v_class is not None and n_class is not None and not zero:\n",
      "            agreements[\"{}-{}\".format(v_marker, v_class)] += 1"
     ],
     "language": "python",
     "metadata": {},
     "outputs": [
      {
       "output_type": "stream",
       "stream": "stdout",
       "text": [
        "no dash in n agr in ID clause_id..n#2\n",
        "no agreement annotation in clause unit clause_id..n#47 for grammatical relation 'S'\n",
        "length on blue and yellow line different in ID clause_id..n#47\n",
        "n class does not equal v class in ID clause_id..n#978 (n_class: 2 vs. v_class: 1)\n",
        "no agreement annotation in clause unit clause_id..n#737 for grammatical relation 'v.intr'\n",
        "length on blue and yellow line different in ID clause_id..n#737\n",
        "no agreement annotation in clause unit clause_id..n#718 for grammatical relation 'v.tr'\n",
        "length on blue and yellow line different in ID clause_id..n#718\n",
        "no agreement annotation in clause unit clause_id..n#679 for grammatical relation 'v.tr'\n",
        "length on blue and yellow line different in ID clause_id..n#679\n",
        "no dash in v agr in ID clause_id..n#373\n",
        "n class does not equal v class in ID clause_id..n#373 (n_class: 3 vs. v_class: None)\n",
        "no agreement annotation in clause unit clause_id..n#131 for grammatical relation 'S'\n",
        "no agreement annotation in clause unit clause_id..n#131 for grammatical relation 'v.intr'\n",
        "length on blue and yellow line different in ID clause_id..n#131\n",
        "no agreement annotation in clause unit clause_id..n#645 for grammatical relation 'v.tr'\n",
        "length on blue and yellow line different in ID clause_id..n#645\n",
        "no agreement annotation in clause unit clause_id..n#275 for grammatical relation 'P'\n",
        "length on blue and yellow line different in ID clause_id..n#275\n",
        "no agreement annotation in clause unit clause_id..n#465 for grammatical relation 'v.tr'\n",
        "length on blue and yellow line different in ID clause_id..n#465\n",
        "no agreement annotation in clause unit clause_id..n#666 for grammatical relation 'S'\n",
        "no agreement annotation in clause unit clause_id..n#666 for grammatical relation 'v.intr'\n",
        "length on blue and yellow line different in ID clause_id..n#666\n",
        "no agreement annotation in clause unit clause_id..n#370 for grammatical relation 'v.tr'\n",
        "length on blue and yellow line different in ID clause_id..n#370\n",
        "no agreement annotation in clause unit clause_id..n#762 for grammatical relation 'v.intr'\n",
        "no agreement annotation in clause unit clause_id..n#762 for grammatical relation 'S'\n",
        "length on blue and yellow line different in ID clause_id..n#762\n",
        "no agreement annotation in clause unit clause_id..n#377 for grammatical relation 'v.tr'\n",
        "length on blue and yellow line different in ID clause_id..n#377\n",
        "no agreement annotation in clause unit clause_id..n#268 for grammatical relation 'v.tr'"
       ]
      },
      {
       "output_type": "stream",
       "stream": "stdout",
       "text": [
        "\n",
        "length on blue and yellow line different in ID clause_id..n#268\n",
        "n class does not equal v class in ID clause_id..n# (n_class: pl vs. v_class: 3)\n",
        "no dash in v agr in ID clause_id..n#716\n",
        "n class does not equal v class in ID clause_id..n#716 (n_class: 3 vs. v_class: None)\n",
        "no agreement annotation in clause unit clause_id..n#274 for grammatical relation 'v.tr'\n",
        "length on blue and yellow line different in ID clause_id..n#274\n"
       ]
      }
     ],
     "prompt_number": 52
    },
    {
     "cell_type": "markdown",
     "metadata": {},
     "source": [
      "Here are the counts for all overt arguments where class markers were equal:"
     ]
    },
    {
     "cell_type": "code",
     "collapsed": false,
     "input": [
      "for agr, count in agreements.items():\n",
      "    print(\"{} => {}\".format(agr, count))"
     ],
     "language": "python",
     "metadata": {},
     "outputs": [
      {
       "output_type": "stream",
       "stream": "stdout",
       "text": [
        "l+r-pl => 1\n",
        "w+w-1 => 6\n",
        "y-2 => 4\n",
        "w-1 => 54\n",
        "b-3 => 184\n",
        "b+b-3 => 6\n",
        "l-pl => 1\n",
        "r-pl => 30\n",
        "y+y-2 => 2\n"
       ]
      }
     ],
     "prompt_number": 53
    },
    {
     "cell_type": "markdown",
     "metadata": {},
     "source": [
      "# 3. Referential density and distance"
     ]
    },
    {
     "cell_type": "markdown",
     "metadata": {},
     "source": [
      "## 3.1. What is the referential density for COP, v.intr, v.tr and v.aff"
     ]
    },
    {
     "cell_type": "markdown",
     "metadata": {},
     "source": [
      "### COP"
     ]
    },
    {
     "cell_type": "code",
     "collapsed": false,
     "input": [
      "search_terms = [ \"COP\", \"S\" ]\n",
      "possible = 0\n",
      "overt = 0\n",
      "for wo in helpers.diana.word_orders(ag, search_terms):\n",
      "    if \"COP\" in wo.word_order:\n",
      "        possible += 1\n",
      "        if \"S\" in wo.word_order:\n",
      "            overt += 1\n",
      "print(\"{} / {} = {}\".format(overt, possible, float(overt)/possible))"
     ],
     "language": "python",
     "metadata": {},
     "outputs": [
      {
       "output_type": "stream",
       "stream": "stdout",
       "text": [
        "116 / 136 = 0.8529411764705882\n"
       ]
      }
     ],
     "prompt_number": 54
    },
    {
     "cell_type": "markdown",
     "metadata": {},
     "source": [
      "### v.intr"
     ]
    },
    {
     "cell_type": "code",
     "collapsed": false,
     "input": [
      "search_terms = [ \"v.intr\", \"S\" ]\n",
      "possible = 0\n",
      "overt = 0\n",
      "for wo in helpers.diana.word_orders(ag, search_terms):\n",
      "    if \"v.intr\" in wo.word_order:\n",
      "        possible += 1\n",
      "        if \"S\" in wo.word_order:\n",
      "            overt += 1\n",
      "print(\"{} / {} = {}\".format(overt, possible, float(overt)/possible))"
     ],
     "language": "python",
     "metadata": {},
     "outputs": [
      {
       "output_type": "stream",
       "stream": "stdout",
       "text": [
        "206 / 331 = 0.622356495468278\n"
       ]
      }
     ],
     "prompt_number": 55
    },
    {
     "cell_type": "markdown",
     "metadata": {},
     "source": [
      "### v.tr"
     ]
    },
    {
     "cell_type": "code",
     "collapsed": false,
     "input": [
      "search_terms = [ \"v.tr\", \"A\", \"P\" ]\n",
      "possible = 0\n",
      "overt = 0\n",
      "for wo in helpers.diana.word_orders(ag, search_terms):\n",
      "    if \"v.tr\" in wo.word_order:\n",
      "        possible += 2\n",
      "        if \"A\" in wo.word_order:\n",
      "            overt += 1\n",
      "        if \"P\" in wo.word_order:\n",
      "            overt += 1\n",
      "print(\"{} / {} = {}\".format(overt, possible, float(overt)/possible))"
     ],
     "language": "python",
     "metadata": {},
     "outputs": [
      {
       "output_type": "stream",
       "stream": "stdout",
       "text": [
        "444 / 698 = 0.6361031518624641\n"
       ]
      }
     ],
     "prompt_number": 56
    },
    {
     "cell_type": "markdown",
     "metadata": {},
     "source": [
      "### v.aff"
     ]
    },
    {
     "cell_type": "code",
     "collapsed": false,
     "input": [
      "search_terms = [ \"v.aff\", \"EXP\", \"STIM\" ]\n",
      "possible = 0\n",
      "overt = 0\n",
      "for wo in helpers.diana.word_orders(ag, search_terms):\n",
      "    if \"v.aff\" in wo.word_order:\n",
      "        possible += 2\n",
      "        if \"EXP\" in wo.word_order:\n",
      "            overt += 1\n",
      "        if \"STIM\" in wo.word_order:\n",
      "            overt += 1\n",
      "print(\"{} / {} = {}\".format(overt, possible, float(overt)/possible))"
     ],
     "language": "python",
     "metadata": {},
     "outputs": [
      {
       "output_type": "stream",
       "stream": "stdout",
       "text": [
        "68 / 86 = 0.7906976744186046\n"
       ]
      }
     ],
     "prompt_number": 57
    },
    {
     "cell_type": "markdown",
     "metadata": {},
     "source": [
      "## 3.2. Is the referential density for agreeing X higher than for non-agreeing X?"
     ]
    },
    {
     "cell_type": "markdown",
     "metadata": {},
     "source": [
      "### v.intr"
     ]
    },
    {
     "cell_type": "code",
     "collapsed": false,
     "input": [
      "search_terms = [ \"v.intr\", \"S\" ]\n",
      "agr_possible = 0\n",
      "agr_overt = 0\n",
      "noagr_possible = 0\n",
      "noagr_overt = 0\n",
      "for wo in helpers.diana.word_orders(ag, search_terms, with_agreement = True):\n",
      "    if len(wo.word_order) != len(wo.agreement):\n",
      "        continue\n",
      "    if \"v.intr\" in wo.word_order:\n",
      "        v_index = wo.word_order.index(\"v.intr\")\n",
      "        if wo.agreement[v_index] == \"noagr\":\n",
      "            noagr_possible += 1\n",
      "            if \"S\" in wo.word_order:\n",
      "                noagr_overt += 1\n",
      "        else:\n",
      "            agr_possible += 1\n",
      "            if \"S\" in wo.word_order:\n",
      "                agr_overt += 1\n",
      "print(\"with agreement: {} / {} = {}\".format(agr_overt, agr_possible, float(agr_overt)/agr_possible))\n",
      "print(\"without agreement: {} / {} = {}\".format(noagr_overt, noagr_possible, float(noagr_overt)/noagr_possible))"
     ],
     "language": "python",
     "metadata": {},
     "outputs": [
      {
       "output_type": "stream",
       "stream": "stdout",
       "text": [
        "no agreement annotation in clause unit clause_id..n#47 for grammatical relation 'S'\n",
        "no agreement annotation in clause unit clause_id..n#737 for grammatical relation 'v.intr'\n",
        "no agreement annotation in clause unit clause_id..n#131 for grammatical relation 'S'\n",
        "no agreement annotation in clause unit clause_id..n#131 for grammatical relation 'v.intr'\n",
        "no agreement annotation in clause unit clause_id..n#666 for grammatical relation 'S'\n",
        "no agreement annotation in clause unit clause_id..n#666 for grammatical relation 'v.intr'\n",
        "no agreement annotation in clause unit clause_id..n#762 for grammatical relation 'v.intr'\n",
        "no agreement annotation in clause unit clause_id..n#762 for grammatical relation 'S'\n",
        "with agreement: 100 / 161 = 0.6211180124223602\n",
        "without agreement: 101 / 165 = 0.6121212121212121\n"
       ]
      }
     ],
     "prompt_number": 58
    },
    {
     "cell_type": "markdown",
     "metadata": {},
     "source": [
      "### Statistical test\n",
      "Hypthesis H0: It does not depend on agreement whether S in v.intr sentences is expressed overtly?"
     ]
    },
    {
     "cell_type": "code",
     "collapsed": false,
     "input": [
      "cont_table = [ [agr_overt, agr_possible-agr_overt], [noagr_overt, noagr_possible-noagr_overt] ]\n",
      "oddsratio, pvalue = scipy.stats.fisher_exact(cont_table)\n",
      "print(pvalue)"
     ],
     "language": "python",
     "metadata": {},
     "outputs": [
      {
       "output_type": "stream",
       "stream": "stdout",
       "text": [
        "0.909500375789\n"
       ]
      }
     ],
     "prompt_number": 59
    },
    {
     "cell_type": "markdown",
     "metadata": {},
     "source": [
      "We cannot reject H0 as p > 0.05. It does not depent on agreement wether the argument is expressed overtly."
     ]
    },
    {
     "cell_type": "markdown",
     "metadata": {},
     "source": [
      "### v.tr"
     ]
    },
    {
     "cell_type": "code",
     "collapsed": false,
     "input": [
      "search_terms = [ \"v.tr\", \"A\", \"P\" ]\n",
      "agr_possible = 0\n",
      "agr_overt = 0\n",
      "noagr_possible = 0\n",
      "noagr_overt = 0\n",
      "for wo in helpers.diana.word_orders(ag, search_terms, with_agreement = True):\n",
      "    if len(wo.word_order) != len(wo.agreement):\n",
      "        continue\n",
      "    if \"v.tr\" in wo.word_order:\n",
      "        v_index = wo.word_order.index(\"v.tr\")\n",
      "        if wo.agreement[v_index] == \"noagr\":\n",
      "            noagr_possible += 2\n",
      "            if \"A\" in wo.word_order:\n",
      "                noagr_overt += 1\n",
      "            if \"P\" in wo.word_order:\n",
      "                noagr_overt += 1\n",
      "        else:\n",
      "            agr_possible += 2\n",
      "            if \"A\" in wo.word_order:\n",
      "                agr_overt += 1\n",
      "            if \"P\" in wo.word_order:\n",
      "                agr_overt += 1\n",
      "print(\"with agreement: {} / {} = {}\".format(agr_overt, agr_possible, float(agr_overt)/agr_possible))\n",
      "print(\"without agreement: {} / {} = {}\".format(noagr_overt, noagr_possible, float(noagr_overt)/noagr_possible))"
     ],
     "language": "python",
     "metadata": {},
     "outputs": [
      {
       "output_type": "stream",
       "stream": "stdout",
       "text": [
        "no agreement annotation in clause unit clause_id..n#718 for grammatical relation 'v.tr'\n",
        "no agreement annotation in clause unit clause_id..n#679 for grammatical relation 'v.tr'\n",
        "no agreement annotation in clause unit clause_id..n#169 for grammatical relation 'A'\n",
        "no agreement annotation in clause unit clause_id..n#177 for grammatical relation 'A'\n",
        "no agreement annotation in clause unit clause_id..n#501 for grammatical relation 'A'\n",
        "no agreement annotation in clause unit clause_id..n#645 for grammatical relation 'v.tr'\n",
        "no agreement annotation in clause unit clause_id..n#275 for grammatical relation 'P'\n",
        "no agreement annotation in clause unit clause_id..n#465 for grammatical relation 'v.tr'\n",
        "no agreement annotation in clause unit clause_id..n#370 for grammatical relation 'v.tr'\n",
        "no agreement annotation in clause unit clause_id..n#377 for grammatical relation 'v.tr'\n",
        "no agreement annotation in clause unit clause_id..n#268 for grammatical relation 'v.tr'\n",
        "no agreement annotation in clause unit clause_id..n#274 for grammatical relation 'v.tr'\n",
        "with agreement: 257 / 404 = 0.6361386138613861\n",
        "without agreement: 172 / 270 = 0.6370370370370371\n"
       ]
      }
     ],
     "prompt_number": 60
    },
    {
     "cell_type": "markdown",
     "metadata": {},
     "source": [
      "### Statistical test\n",
      "Hypthesis H0: It does not depend on agreement whether S in v.intr sentences is expressed overtly?"
     ]
    },
    {
     "cell_type": "code",
     "collapsed": false,
     "input": [
      "cont_table = [ [agr_overt, agr_possible-agr_overt], [noagr_overt, noagr_possible-noagr_overt] ]\n",
      "oddsratio, pvalue = scipy.stats.fisher_exact(cont_table)\n",
      "print(pvalue)"
     ],
     "language": "python",
     "metadata": {},
     "outputs": [
      {
       "output_type": "stream",
       "stream": "stdout",
       "text": [
        "1.0\n"
       ]
      }
     ],
     "prompt_number": 61
    },
    {
     "cell_type": "markdown",
     "metadata": {},
     "source": [
      "We cannot reject H0 as p > 0.05. It does not depent on agreement wether the argument is expressed overtly."
     ]
    },
    {
     "cell_type": "markdown",
     "metadata": {},
     "source": [
      "### v.aff"
     ]
    },
    {
     "cell_type": "code",
     "collapsed": false,
     "input": [
      "search_terms = [ \"v.aff\", \"EXP\", \"STIM\" ]\n",
      "agr_possible = 0\n",
      "agr_overt = 0\n",
      "noagr_possible = 0\n",
      "noagr_overt = 0\n",
      "for wo in helpers.diana.word_orders(ag, search_terms, with_agreement = True):\n",
      "    if len(wo.word_order) != len(wo.agreement):\n",
      "        continue\n",
      "    if \"v.aff\" in wo.word_order:\n",
      "        v_index = wo.word_order.index(\"v.aff\")\n",
      "        if wo.agreement[v_index] == \"noagr\":\n",
      "            noagr_possible += 2\n",
      "            if \"EXP\" in wo.word_order:\n",
      "                noagr_overt += 1\n",
      "            if \"STIM\" in wo.word_order:\n",
      "                noagr_overt += 1\n",
      "        else:\n",
      "            agr_possible += 2\n",
      "            if \"EXP\" in wo.word_order:\n",
      "                agr_overt += 1\n",
      "            if \"STIM\" in wo.word_order:\n",
      "                agr_overt += 1\n",
      "print(\"with agreement: {} / {} = {}\".format(agr_overt, agr_possible, float(agr_overt)/agr_possible))\n",
      "print(\"without agreement: {} / {} = {}\".format(noagr_overt, noagr_possible, float(noagr_overt)/noagr_possible))"
     ],
     "language": "python",
     "metadata": {},
     "outputs": [
      {
       "output_type": "stream",
       "stream": "stdout",
       "text": [
        "with agreement: 49 / 64 = 0.765625\n",
        "without agreement: 19 / 22 = 0.8636363636363636\n"
       ]
      }
     ],
     "prompt_number": 62
    },
    {
     "cell_type": "markdown",
     "metadata": {},
     "source": [
      "### Statistical test\n",
      "Hypthesis H0: It does not depend on agreement whether S in v.intr sentences is expressed overtly?"
     ]
    },
    {
     "cell_type": "code",
     "collapsed": false,
     "input": [
      "cont_table = [ [agr_overt, agr_possible-agr_overt], [noagr_overt, noagr_possible-noagr_overt] ]\n",
      "oddsratio, pvalue = scipy.stats.fisher_exact(cont_table)\n",
      "print(pvalue)"
     ],
     "language": "python",
     "metadata": {},
     "outputs": [
      {
       "output_type": "stream",
       "stream": "stdout",
       "text": [
        "0.543844035181\n"
       ]
      }
     ],
     "prompt_number": 63
    },
    {
     "cell_type": "markdown",
     "metadata": {},
     "source": [
      "We cannot reject H0 as p > 0.05. It does not depent on agreement wether the argument is expressed overtly."
     ]
    },
    {
     "cell_type": "markdown",
     "metadata": {},
     "source": [
      "# 4. Arguments in \"v.aff\" vs. \"v.tr\" sentences: ouvert vs. zero"
     ]
    },
    {
     "cell_type": "markdown",
     "metadata": {},
     "source": [
      "### Counts"
     ]
    },
    {
     "cell_type": "code",
     "collapsed": false,
     "input": [
      "v_tree = { \"v.aff\": collections.defaultdict(int), \"v.tr\": collections.defaultdict(int) }\n",
      "for wo in word_orders:\n",
      "    v = None\n",
      "    if \"v.tr\" in wo:\n",
      "        v = \"v.tr\"\n",
      "    if \"v.aff\" in wo:\n",
      "        v = \"v.aff\"\n",
      "    if v is not None:\n",
      "        wo2 = tuple([e for e in sorted(wo) if e != \"v.aff\" and e != \"v.tr\"])\n",
      "        v_tree[v][wo2] += word_orders[wo]\n",
      "\n",
      "for v in [\"v.aff\", \"v.tr\"]:\n",
      "    print(v)\n",
      "    for e in v_tree[v]:\n",
      "        print(\"{0} => {1}\".format(e, v_tree[v][e]))"
     ],
     "language": "python",
     "metadata": {},
     "outputs": [
      {
       "output_type": "stream",
       "stream": "stdout",
       "text": [
        "v.aff\n",
        "('EXP', 'zero-STIM') => 4\n",
        "('EXP', 'STIM') => 27\n",
        "('zero-EXP', 'zero-STIM') => 2\n",
        "('STIM', 'zero-EXP') => 10\n",
        "v.tr\n",
        "('P', 'zero-A') => 150\n",
        "('zero-A', 'zero-P') => 42\n",
        "('A', 'P') => 137\n",
        "('A', 'zero-P') => 20\n"
       ]
      }
     ],
     "prompt_number": 64
    },
    {
     "cell_type": "markdown",
     "metadata": {},
     "source": [
      "### Statistical test for A/EXP"
     ]
    },
    {
     "cell_type": "markdown",
     "metadata": {},
     "source": [
      "Hypothesis 1 (H0): It does not depend on the type of the verb (\"v.tr\" vs. \"v.aff\") if the A/EXP is expressed ouvertly.\n",
      "\n",
      "For the test we use the Fisher exact test, as this test also works for small numbers (http://docs.scipy.org/doc/scipy-0.13.0/reference/generated/scipy.stats.fisher_exact.html)."
     ]
    },
    {
     "cell_type": "code",
     "collapsed": false,
     "input": [
      "import scipy.stats\n",
      "cont_table = [\n",
      "    [ v_tree[\"v.aff\"][('EXP', 'zero-STIM')] + v_tree[\"v.aff\"][('EXP', 'STIM')],\n",
      "      v_tree[\"v.aff\"][('zero-EXP', 'zero-STIM')] + v_tree[\"v.aff\"][('STIM', 'zero-EXP')] ],\n",
      "    [ v_tree[\"v.tr\"][('A', 'P')] + v_tree[\"v.tr\"][('A', 'zero-P')], \n",
      "      v_tree[\"v.tr\"][('P', 'zero-A')] + v_tree[\"v.tr\"][('zero-A', 'zero-P')] ]\n",
      "]\n",
      "cont_table"
     ],
     "language": "python",
     "metadata": {},
     "outputs": [
      {
       "metadata": {},
       "output_type": "pyout",
       "prompt_number": 65,
       "text": [
        "[[31, 12], [157, 192]]"
       ]
      }
     ],
     "prompt_number": 65
    },
    {
     "cell_type": "code",
     "collapsed": false,
     "input": [
      "oddsratio, pvalue = scipy.stats.fisher_exact(cont_table)\n",
      "pvalue"
     ],
     "language": "python",
     "metadata": {},
     "outputs": [
      {
       "metadata": {},
       "output_type": "pyout",
       "prompt_number": 66,
       "text": [
        "0.0010331791250171565"
       ]
      }
     ],
     "prompt_number": 66
    },
    {
     "cell_type": "markdown",
     "metadata": {},
     "source": [
      "We reject the null hypothesis, as the chances of getting a distribution as the observed one are p < 0.05. The verb type affects the ouvertness of the A/EXP argument. In this case the \"v.aff\" sentences have sigificantly more ouvert arguments EXP then the \"v.tr\" sentences have ouvert A."
     ]
    },
    {
     "cell_type": "markdown",
     "metadata": {},
     "source": [
      "### Statistical test for P/STIM"
     ]
    },
    {
     "cell_type": "markdown",
     "metadata": {},
     "source": [
      "Hypothesis 2 (H0): It does not depend on the type of the verb (\"v.tr\" vs. \"v.aff\") if the P/STIM is expressed ouvertly."
     ]
    },
    {
     "cell_type": "code",
     "collapsed": false,
     "input": [
      "import scipy.stats\n",
      "cont_table = [\n",
      "    [ v_tree[\"v.aff\"][('STIM', 'zero-EXP')] + v_tree[\"v.aff\"][('EXP', 'STIM')],\n",
      "      v_tree[\"v.aff\"][('zero-EXP', 'zero-STIM')] + v_tree[\"v.aff\"][('EXP', 'zero-STIM')] ],\n",
      "    [ v_tree[\"v.tr\"][('A', 'P')] + v_tree[\"v.tr\"][('P', 'zero-A')], \n",
      "      v_tree[\"v.tr\"][('A', 'zero-P')] + v_tree[\"v.tr\"][('zero-A', 'zero-P')] ]\n",
      "]\n",
      "cont_table"
     ],
     "language": "python",
     "metadata": {},
     "outputs": [
      {
       "metadata": {},
       "output_type": "pyout",
       "prompt_number": 67,
       "text": [
        "[[37, 6], [287, 62]]"
       ]
      }
     ],
     "prompt_number": 67
    },
    {
     "cell_type": "code",
     "collapsed": false,
     "input": [
      "oddsratio, pvalue = scipy.stats.fisher_exact(cont_table)\n",
      "pvalue"
     ],
     "language": "python",
     "metadata": {},
     "outputs": [
      {
       "metadata": {},
       "output_type": "pyout",
       "prompt_number": 68,
       "text": [
        "0.67113505746109936"
       ]
      }
     ],
     "prompt_number": 68
    },
    {
     "cell_type": "markdown",
     "metadata": {},
     "source": [
      "In this case we cannot reject the null hypothesis, as p > 0.05. There is no statistical evidence that the verb type affects the ouvertness of P/STIM."
     ]
    },
    {
     "cell_type": "markdown",
     "metadata": {},
     "source": [
      "# 5. Positions of S, A and P"
     ]
    },
    {
     "cell_type": "code",
     "collapsed": false,
     "input": [
      "other_verbs = [ 'COP', 'v.tr', 'v.intr', 'v.aff' ]\n",
      "verb_map = { v: \"V\" for v in other_verbs }\n",
      "\n",
      "A_values = []\n",
      "P_values = []\n",
      "S_values = []\n",
      "for wo in helpers.diana.word_orders(ag, annotation_map = verb_map):\n",
      "    word_order = [w for w in wo.word_order if not w.startswith(\"zero-\")]\n",
      "    if \"V\" in word_order:\n",
      "        v_index = word_order.index(\"V\")\n",
      "        if \"A\" in word_order:\n",
      "            A_values.append(word_order.index(\"A\") - v_index)\n",
      "        if \"P\" in word_order:\n",
      "            P_values.append(word_order.index(\"P\") - v_index)\n",
      "        if \"S\" in word_order:\n",
      "            S_values.append(word_order.index(\"S\") - v_index)"
     ],
     "language": "python",
     "metadata": {},
     "outputs": [],
     "prompt_number": 69
    },
    {
     "cell_type": "code",
     "collapsed": false,
     "input": [
      "%matplotlib inline\n",
      "import matplotlib.pyplot as plt"
     ],
     "language": "python",
     "metadata": {},
     "outputs": [],
     "prompt_number": 70
    },
    {
     "cell_type": "code",
     "collapsed": false,
     "input": [
      "fig, axs = plt.subplots(1, 3, figsize=(14,4))\n",
      "axs[0].hist(S_values, range(min(S_values), max(S_values)+2))\n",
      "axs[0].set_title(\"Positions of S\")\n",
      "axs[1].hist(A_values, range(min(A_values), max(A_values)+2))\n",
      "axs[1].set_title(\"Positions of A\")\n",
      "axs[2].hist(P_values, range(min(P_values), max(P_values)+2))\n",
      "ret = axs[2].set_title(\"Positions of P\")"
     ],
     "language": "python",
     "metadata": {},
     "outputs": [
      {
       "metadata": {},
       "output_type": "display_data",
       "png": "[encoded data removed]",
       "text": [
        "<matplotlib.figure.Figure at 0x7f1c3c7545c0>"
       ]
      }
     ],
     "prompt_number": 71
    },
    {
     "cell_type": "markdown",
     "metadata": {},
     "source": [
      "## Box plots of positions"
     ]
    },
    {
     "cell_type": "code",
     "collapsed": false,
     "input": [
      "plt.figure(figsize=(10,6))\n",
      "plt.boxplot([S_values, A_values, P_values])\n",
      "plt.title(\"Positions of S, A and P\")\n",
      "ret = plt.xticks([1, 2, 3], [\"S\", \"A\", \"P\"])"
     ],
     "language": "python",
     "metadata": {},
     "outputs": [
      {
       "metadata": {},
       "output_type": "display_data",
       "png": "[encoded data removed]",
       "text": [
        "<matplotlib.figure.Figure at 0x7f1c3c748a20>"
       ]
      }
     ],
     "prompt_number": 72
    },
    {
     "cell_type": "markdown",
     "metadata": {},
     "source": [
      "## Plots by clause type"
     ]
    },
    {
     "cell_type": "code",
     "collapsed": false,
     "input": [
      "A_values = [[], []]\n",
      "P_values = [[], []]\n",
      "S_values = [[], []]\n",
      "clause_types = [\"m\", \"m.rs\", \"sub\", \"sub.rs\"]\n",
      "for wo in helpers.diana.word_orders(ag, annotation_map = verb_map):\n",
      "    word_order = [w for w in wo.word_order if not w.startswith(\"zero-\")]\n",
      "\n",
      "    if \"V\" in word_order and wo.clause_type in clause_types:\n",
      "        ind = 0\n",
      "        if wo.clause_type == \"sub\" or wo.clause_type == \"sub.rs\":\n",
      "            ind = 1\n",
      "        v_index = word_order.index(\"V\")\n",
      "        if \"A\" in word_order:\n",
      "            A_values[ind].append(word_order.index(\"A\") - v_index)\n",
      "        if \"P\" in word_order:\n",
      "            P_values[ind].append(word_order.index(\"P\") - v_index)\n",
      "        if \"S\" in word_order:\n",
      "            S_values[ind].append(word_order.index(\"S\") - v_index)"
     ],
     "language": "python",
     "metadata": {},
     "outputs": [],
     "prompt_number": 73
    },
    {
     "cell_type": "code",
     "collapsed": false,
     "input": [
      "fig, axs = plt.subplots(2, 3, figsize=(14,10))\n",
      "for ind in [0, 1]:\n",
      "    type_text = \"main\"\n",
      "    if ind == 1:\n",
      "        type_text = \"sub\"\n",
      "    axs[ind][0].hist(S_values[ind], range(min(S_values[ind]), max(S_values[ind])+2))\n",
      "    axs[ind][0].set_title(\"Positions of S in {0} clauses\".format(type_text))\n",
      "    axs[ind][1].hist(A_values[ind], range(min(A_values[ind]), max(A_values[ind])+2))\n",
      "    axs[ind][1].set_title(\"Positions of A {0} clauses\".format(type_text))\n",
      "    axs[ind][2].hist(P_values[ind], range(min(P_values[ind]), max(P_values[ind])+2))\n",
      "    ret = axs[ind][2].set_title(\"Positions of P {0} clauses\".format(type_text))"
     ],
     "language": "python",
     "metadata": {},
     "outputs": [
      {
       "metadata": {},
       "output_type": "display_data",
       "png": "[encoded data removed]",
       "text": [
        "<matplotlib.figure.Figure at 0x7fbbcf2e60f0>"
       ]
      }
     ],
     "prompt_number": 73
    },
    {
     "cell_type": "markdown",
     "metadata": {},
     "source": [
      "## Box plots by clause type"
     ]
    },
    {
     "cell_type": "code",
     "collapsed": false,
     "input": [
      "fig, axs = plt.subplots(1, 2, figsize=(14,6))\n",
      "for ind in [0, 1]:\n",
      "    type_text = \"main\"\n",
      "    if ind == 1:\n",
      "        type_text = \"sub\"\n",
      "\n",
      "    axs[ind].boxplot([S_values[ind], A_values[ind], P_values[ind]])\n",
      "    axs[ind].set_title(\"Positions of S, A and P in {0} clauses\".format(type_text))\n",
      "    ret = plt.xticks([1, 2, 3], [\"S\", \"A\", \"P\"])"
     ],
     "language": "python",
     "metadata": {},
     "outputs": [
      {
       "metadata": {},
       "output_type": "display_data",
       "png": "[encoded data removed]",
       "text": [
        "<matplotlib.figure.Figure at 0x7f1c3b56a240>"
       ]
      }
     ],
     "prompt_number": 74
    },
    {
     "cell_type": "code",
     "collapsed": false,
     "input": [],
     "language": "python",
     "metadata": {},
     "outputs": []
    }
   ],
   "metadata": {}
  }
 ]
}