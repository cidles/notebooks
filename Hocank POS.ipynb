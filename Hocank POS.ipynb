{
 "metadata": {
  "name": "Hocank POS"
 },
 "nbformat": 3,
 "nbformat_minor": 0,
 "worksheets": [
  {
   "cells": [
    {
     "cell_type": "code",
     "collapsed": false,
     "input": [
      "import poioapi.annotationgraph\n",
      "import poioapi.data"
     ],
     "language": "python",
     "metadata": {},
     "outputs": [],
     "prompt_number": 1
    },
    {
     "cell_type": "code",
     "collapsed": false,
     "input": [
      "%cd h:/SkyDrive/CIDLeS/Poio/Example files/Helmbrecht/Hocank"
     ],
     "language": "python",
     "metadata": {},
     "outputs": [
      {
       "output_type": "stream",
       "stream": "stdout",
       "text": [
        "h:\\SkyDrive\\CIDLeS\\Poio\\Example files\\Helmbrecht\\Hocank\n"
       ]
      }
     ],
     "prompt_number": 2
    },
    {
     "cell_type": "code",
     "collapsed": false,
     "input": [
      "class DataStructureTypeElan(poioapi.data.DataStructureType):\n",
      "    name = \"ELAN\"\n",
      "\n",
      "    data_hierarchy =\\\n",
      "    [ 'or'\n",
      "    ]\n",
      "\n",
      "data_hierarchy = poioapi.data.GRAID\n",
      "\n",
      "annotation_graph = poioapi.annotationgraph.AnnotationGraph(data_hierarchy)\n",
      "annotation_graph.structure_type_handler = DataStructureTypeElan()"
     ],
     "language": "python",
     "metadata": {},
     "outputs": [],
     "prompt_number": 3
    },
    {
     "cell_type": "code",
     "collapsed": false,
     "input": [
      "import poioapi.io.elan\n",
      "eaf = poioapi.io.elan.Elan(\"05IH_ED_01_IH.eaf\")\n",
      "annotation_graph.graf = eaf.elan_to_graf()"
     ],
     "language": "python",
     "metadata": {},
     "outputs": [],
     "prompt_number": 8
    },
    {
     "cell_type": "code",
     "collapsed": false,
     "input": [
      "node = annotation_graph.graf.nodes['ref/ref/n104']"
     ],
     "language": "python",
     "metadata": {},
     "outputs": [],
     "prompt_number": 9
    },
    {
     "cell_type": "code",
     "collapsed": false,
     "input": [
      "node.annotations"
     ],
     "language": "python",
     "metadata": {},
     "outputs": [
      {
       "output_type": "pyout",
       "prompt_number": 10,
       "text": [
        "[Annotation('ref', 'ann104'), Annotation('or', 'ann107'), Annotation('tx', 'ann108'), Annotation('mo', 'ann105'), Annotation('mo', 'ann111'), Annotation('mo', 'ann113'), Annotation('ft', 'ann109'), Annotation('dt', 'ann110')]"
       ]
      }
     ],
     "prompt_number": 10
    },
    {
     "cell_type": "code",
     "collapsed": false,
     "input": [
      "import glob\n",
      "import codecs\n",
      "import poioapi.io.elan\n",
      "reload(poioapi.io.elan)\n",
      "for inputfile in glob.glob(\"*.eaf\"):\n",
      "    eaf = poioapi.io.elan.Elan(inputfile)\n",
      "    annotation_graph.graf = eaf.elan_to_graf()\n",
      "    html = annotation_graph.as_html_table(full_html = True)\n",
      "    outputfile = inputfile + \".html\"\n",
      "    f = codecs.open(outputfile, \"w\", \"utf-8\")\n",
      "    f.write(html)\n",
      "    f.close()\n"
     ],
     "language": "python",
     "metadata": {},
     "outputs": [],
     "prompt_number": 6
    },
    {
     "cell_type": "code",
     "collapsed": false,
     "input": [],
     "language": "python",
     "metadata": {},
     "outputs": []
    }
   ],
   "metadata": {}
  }
 ]
}