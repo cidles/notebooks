{
 "metadata": {
  "name": "",
  "signature": "sha256:cedacf580a5eb8744510abf3a46013f33c313fd8d74f25fc2aea9d51b2d55346"
 },
 "nbformat": 3,
 "nbformat_minor": 0,
 "worksheets": [
  {
   "cells": [
    {
     "cell_type": "markdown",
     "metadata": {},
     "source": [
      "# 0. Loading the data"
     ]
    },
    {
     "cell_type": "markdown",
     "metadata": {},
     "source": [
      "The data was exported from an Excel file, in Open Office, with \"Save As\"->\"Text CSV\", as \"UTF-8\", \"{Tabulator}\" as field seperator and double quotes (\") as text seperator."
     ]
    },
    {
     "cell_type": "code",
     "collapsed": false,
     "input": [
      "%load_ext autoreload\n",
      "%autoreload 2"
     ],
     "language": "python",
     "metadata": {},
     "outputs": [],
     "prompt_number": 1
    },
    {
     "cell_type": "code",
     "collapsed": false,
     "input": [
      "import helpers.diana\n",
      "skip_lines = [\n",
      "    \"Satire_and_humor_01_Two travellers\",\n",
      "    \"Satire_and_humor_02_The king's dispute\",\n",
      "    \"Satire_and_humor_03_King and slave\",\n",
      "    \"Satire_and_humor_04_Herdsman and Shamkhal\",\n",
      "    \"Satire_and_humor_05_Bratak and the rich\",\n",
      "    \"Satire_and_humor_06_Shephard and khan\",\n",
      "    \"Satire_and_humor_07_Bolo and the old woman\",\n",
      "    \"Satire_and_humor_08_King and fool\",\n",
      "    \"Satire_and_humor_09_Shax Abbas and the widower's son\",\n",
      "    \"Satire_and_humor_10_Shakh Abbas and the mother\",\n",
      "    \"Satire_and_humor_11_Shakh Abbas and the man\",\n",
      "    \"Satire_and_humor_12_Master and boat\",\n",
      "    \"Satire_and_humor_13_Craft of the smith\",\n",
      "    \"Satire_and_humor_14_Mulla and suslik\",\n",
      "    \"Satire_and_humor_15_Mullah and the poor\",\n",
      "    \"Satire_and_humor_16_Mention me in the prayer\",\n",
      "    \"Satire_and_humor_17_Big alkham\",\n",
      "    \"Satire_and_humor_18_Chief and burried\",\n",
      "    \"Satire_and_humor_19_Khinkal in paradise\",\n",
      "    \"Satire_and_humor_20_The horse's pace\",\n",
      "    \"Satire_and_humor_21_Cat\",\n",
      "    \"Satire_and_humor_22_Man_bought_kuvshin\",\n",
      "    \"Satire_and_humor_23_Crying for the son\",\n",
      "    \"Satire_and_humor_24_The escaping hare\",\n",
      "    \"Satire_and_humor_25_broken\",\n",
      "    \"Satire_and_humor_26_reversed legs\",\n",
      "    \"Satire_and_humor_27_friendship with the snow\",\n",
      "    \"Satire_and_humor_28_Man and bird\",\n",
      "    \"nice reflexive, but not clear whether the second one is in a relative clause or in the main clause\",\n",
      "    \"looks like reflexive in a postpositional phrase\"\n",
      "]\n",
      "tier_numbers = {\n",
      "    \"clause_id\": 5,\n",
      "    \"clause_type\": 6,\n",
      "    \"grammatical_relation\": 7,\n",
      "    \"pos_agreement\": 9,\n",
      "    \"last_line\": 11\n",
      "}\n",
      "ag = helpers.diana.from_excel(\"data/AvarAnnotation.csv\", skip_lines=skip_lines, tier_numbers=tier_numbers)"
     ],
     "language": "python",
     "metadata": {},
     "outputs": [
      {
       "output_type": "stream",
       "stream": "stdout",
       "text": [
        "Error: duplicate clause ID: #3\n",
        "Error: duplicate clause ID: #627"
       ]
      },
      {
       "output_type": "stream",
       "stream": "stdout",
       "text": [
        "\n",
        "Error: duplicate clause ID: #628\n"
       ]
      }
     ],
     "prompt_number": 20
    },
    {
     "cell_type": "markdown",
     "metadata": {},
     "source": [
      "# 1. Linear order"
     ]
    },
    {
     "cell_type": "code",
     "collapsed": false,
     "input": [
      "verbs = [ 'COP', 'cop', 'SAY', 'v.tr', 'v.intr', 'v.aff' ]\n",
      "verb_map = { v: \"V\" for v in verbs}"
     ],
     "language": "python",
     "metadata": {},
     "outputs": [],
     "prompt_number": 21
    },
    {
     "cell_type": "code",
     "collapsed": false,
     "input": [
      "import collections\n",
      "\n",
      "others = [ 'A', 'S', 'P', 'EXP', 'STIM', 'zero-A', 'zero-S', 'zero-P', 'zero-EXP', 'zero-STIM' ]\n",
      "search_terms = verbs + others\n",
      "\n",
      "word_orders = collections.defaultdict(int)\n",
      "word_orders_ids = collections.defaultdict(list)\n",
      "\n",
      "for wo in helpers.diana.word_orders(ag, search_terms):\n",
      "    word_orders[tuple(wo.word_order)] += 1\n",
      "    word_orders_ids[tuple(wo.word_order)].append(wo.clause_id)\n",
      "\n",
      "for word_order, count in word_orders.items():\n",
      "    print(\"{0} => {1}\".format(word_order, count))\n",
      "    if count < 5:\n",
      "        print(\"    {1}\".format(word_order, word_orders_ids[word_order]))"
     ],
     "language": "python",
     "metadata": {},
     "outputs": [
      {
       "output_type": "stream",
       "stream": "stdout",
       "text": [
        "('zero-S', 'COP') => 20\n",
        "('zero-S', 'P', 'v.intr') => 1\n",
        "    ['clause_id..n#813']\n",
        "('zero-A', 'v.tr') => 1\n",
        "    ['clause_id..n#120']\n",
        "('A', 'SAY') => 42\n",
        "('v.tr', 'A', 'P') => 10\n",
        "('zero-P', 'v.tr', 'A') => 3\n",
        "    ['clause_id..n#880', 'clause_id..n#274', 'clause_id..n#236']\n",
        "('zero-EXP', 'zero-STIM', 'v.aff') => 2\n",
        "    ['clause_id..n#295', 'clause_id..n#706']\n",
        "('STIM', 'v.aff', 'EXP') => 3\n",
        "    ['clause_id..n#417', 'clause_id..n#97', 'clause_id..n#98']\n",
        "('P', 'v.tr') => 1\n",
        "    ['clause_id..n#6']\n",
        "('A', 'zero-P', 'v.tr') => 16\n",
        "('zero-EXP', 'STIM', 'v.aff') => 10\n",
        "('S', 'cop') => 1\n",
        "    ['clause_id..n#426']\n",
        "('SAY', 'zero-A') => 2\n",
        "    ['clause_id..n#688', 'clause_id..n#244']\n",
        "('EXP', 'v.aff', 'STIM') => 5\n",
        "('EXP', 'v.aff', 'P') => 1\n",
        "    ['clause_id..n#561']\n",
        "('P', 'v.intr') => 2\n",
        "    ['clause_id..n#999', 'clause_id..n#784']\n",
        "('P', 'zero-A', 'v.tr') => 1\n",
        "    ['clause_id..n#185']\n",
        "('zero-A', 'v.tr', 'P') => 14\n",
        "('EXP', 'zero-STIM', 'v.aff') => 4\n",
        "    ['clause_id..n#78', 'clause_id..n#57', 'clause_id..n#611', 'clause_id..n#64']\n",
        "('P', 'v.intr', 'A') => 1\n",
        "    ['clause_id..n#374']\n",
        "('v.tr', 'P', 'A') => 1\n",
        "    ['clause_id..n#443']\n",
        "('A', 'v.tr', 'P') => 12\n",
        "('A',) => 26\n",
        "('zero-A', 'P', 'v.intr') => 1\n",
        "    ['clause_id..n#297']\n",
        "('v.aff', 'EXP', 'STIM') => 1\n",
        "    ['clause_id..n#270']\n",
        "('S',) => 1\n",
        "    ['clause_id..n#251']\n",
        "('A', 'P', 'v.tr') => 85\n",
        "('zero-A', 'zero-P', 'v.tr') => 41\n",
        "('SAY', 'A') => 41\n",
        "('zero-S', 'v.intr') => 122\n",
        "('P', 'COP') => 1\n",
        "    ['clause_id..n#26']\n",
        "('COP', 'S') => 15\n",
        "('v.intr', 'S') => 33\n",
        "('S', 'v.intr') => 165\n",
        "('zero-S', 'v.tr') => 3\n",
        "    ['clause_id..n#872', 'clause_id..n#857', 'clause_id..n#390']\n",
        "('P', 'v.tr', 'A') => 15\n",
        "('S', 'v.tr') => 4\n",
        "    ['clause_id..n#975', 'clause_id..n#870', 'clause_id..n#847', 'clause_id..n#877']\n",
        "('P', 'A', 'v.tr') => 13\n",
        "('zero-A',) => 5\n",
        "('STIM', 'EXP', 'v.aff') => 3\n",
        "    ['clause_id..n#997', 'clause_id..n#99', 'clause_id..n#359']\n",
        "('SAY', 'A', 'S', 'COP') => 1\n",
        "    ['clause_id..n#941']\n",
        "() => 4\n",
        "    ['clause_id..n#511', 'clause_id..n#237', 'clause_id..nm', 'clause_id..n#669']\n",
        "('A', 'P') => 1\n",
        "    ['clause_id..n#253']\n",
        "('S', 'COP') => 99\n",
        "('zero-A', 'SAY') => 22\n",
        "('EXP', 'STIM', 'v.aff') => 13\n",
        "('zero-A', 'P', 'v.tr') => 133\n"
       ]
      }
     ],
     "prompt_number": 22
    },
    {
     "cell_type": "markdown",
     "metadata": {},
     "source": [
      "## 1.1. Are subordinate clauses significantly more often verb-final than main clauses?"
     ]
    },
    {
     "cell_type": "code",
     "collapsed": false,
     "input": [
      "word_orders_main = []\n",
      "word_orders_main_count = collections.defaultdict(int)\n",
      "word_orders_sub = []\n",
      "word_orders_sub_count = collections.defaultdict(int)\n",
      "main_clause_types = [ \"m\", \"m.rs\" ]\n",
      "sub_clause_types = [ \"sub\", \"sub.rs\" ]\n",
      "clause_types = main_clause_types + sub_clause_types\n",
      "search_terms = verbs + ['A', 'S', 'P', 'EXP', 'STIM']\n",
      "\n",
      "for wo in helpers.diana.word_orders(ag, search_terms, verb_map):\n",
      "    if \"V\" in wo.word_order and wo.clause_type in clause_types and len(wo.word_order) > 1:\n",
      "        if wo.clause_type in sub_clause_types:\n",
      "            word_orders_sub.append(wo.word_order)\n",
      "            word_orders_sub_count[tuple(wo.word_order)] += 1\n",
      "        else:\n",
      "            word_orders_main.append(wo.word_order)\n",
      "            word_orders_main_count[tuple(wo.word_order)] += 1 "
     ],
     "language": "python",
     "metadata": {},
     "outputs": [],
     "prompt_number": 23
    },
    {
     "cell_type": "markdown",
     "metadata": {},
     "source": [
      "### Statistical test"
     ]
    },
    {
     "cell_type": "markdown",
     "metadata": {},
     "source": [
      "Hypothesis H0: It does not depend on the clause type (sub vs. main) whether the clause unit is verb final."
     ]
    },
    {
     "cell_type": "code",
     "collapsed": false,
     "input": [
      "main_v_fin = 0; main_v_nonfin = 0; sub_v_fin = 0; sub_v_nonfin = 0;\n",
      "for wo, c in word_orders_main_count.items():\n",
      "    if wo[-1] == \"V\":\n",
      "        main_v_fin += c\n",
      "    else:\n",
      "        main_v_nonfin += c\n",
      "for wo, c in word_orders_sub_count.items():\n",
      "    if wo[-1] == \"V\":\n",
      "        sub_v_fin += c\n",
      "    else:\n",
      "        sub_v_nonfin += c\n",
      "cont_table = [ [main_v_fin, main_v_nonfin], [sub_v_fin, sub_v_nonfin] ]\n",
      "cont_table"
     ],
     "language": "python",
     "metadata": {},
     "outputs": [
      {
       "metadata": {},
       "output_type": "pyout",
       "prompt_number": 24,
       "text": [
        "[[434, 139], [160, 15]]"
       ]
      }
     ],
     "prompt_number": 24
    },
    {
     "cell_type": "code",
     "collapsed": false,
     "input": [
      "import scipy.stats\n",
      "oddsratio, pvalue = scipy.stats.fisher_exact(cont_table)\n",
      "pvalue"
     ],
     "language": "python",
     "metadata": {},
     "outputs": [
      {
       "metadata": {},
       "output_type": "pyout",
       "prompt_number": 26,
       "text": [
        "2.0864356971788013e-06"
       ]
      }
     ],
     "prompt_number": 26
    },
    {
     "cell_type": "markdown",
     "metadata": {},
     "source": [
      "We reject the null hypothesis, as the chances of getting a distribution as the observed one are p < 0.05. The clause type affects the verb \"finalness\". In this case subordinate clauses have a sifgnificant higher count of verb final word orders."
     ]
    },
    {
     "cell_type": "markdown",
     "metadata": {},
     "source": [
      "## 1.2. How differ main clauses and subordinate clauses in their word orders?"
     ]
    },
    {
     "cell_type": "markdown",
     "metadata": {},
     "source": [
      "Here are are the basic counts:"
     ]
    },
    {
     "cell_type": "code",
     "collapsed": false,
     "input": [
      "print(\"Counts for main clauses:\")\n",
      "for wo, c in word_orders_main_count.items():\n",
      "    print(\"{0} => {1}\".format(wo, c))\n",
      "print(\"\\nCounts for sub clauses:\")\n",
      "for wo, c in word_orders_sub_count.items():\n",
      "    print(\"{0} => {1}\".format(wo, c))\n"
     ],
     "language": "python",
     "metadata": {},
     "outputs": [
      {
       "output_type": "stream",
       "stream": "stdout",
       "text": [
        "Counts for main clauses:\n",
        "('EXP', 'V') => 4\n",
        "('V', 'EXP', 'STIM') => 1\n",
        "('EXP', 'V', 'P') => 1\n",
        "('V', 'P', 'A') => 1\n",
        "('P', 'V') => 64\n",
        "('A', 'P', 'V') => 73\n",
        "('V', 'A') => 42\n",
        "('STIM', 'V', 'EXP') => 3\n",
        "('A', 'V', 'P') => 10\n",
        "('P', 'A', 'V') => 9\n",
        "('EXP', 'STIM', 'V') => 11\n",
        "('V', 'A', 'S', 'V') => 1\n",
        "('V', 'S') => 41\n",
        "('V', 'A', 'P') => 10\n",
        "('STIM', 'EXP', 'V') => 2\n",
        "('STIM', 'V') => 7\n",
        "('S', 'V') => 212\n",
        "('A', 'V') => 51\n",
        "('EXP', 'V', 'STIM') => 4\n",
        "('P', 'V', 'A') => 14\n",
        "('V', 'P') => 12\n",
        "\n",
        "Counts for sub clauses:\n",
        "('P', 'V') => 76\n",
        "('A', 'P', 'V') => 11\n",
        "('V', 'A') => 1\n",
        "('A', 'V', 'P') => 2\n",
        "('P', 'A', 'V') => 4\n",
        "('V', 'S') => 7\n",
        "('S', 'V') => 56\n",
        "('STIM', 'EXP', 'V') => 1\n",
        "('STIM', 'V') => 3\n",
        "('EXP', 'STIM', 'V') => 2\n",
        "('A', 'V') => 7\n",
        "('EXP', 'V', 'STIM') => 1\n",
        "('P', 'V', 'A') => 2\n",
        "('V', 'P') => 2\n"
       ]
      }
     ],
     "prompt_number": 27
    },
    {
     "cell_type": "markdown",
     "metadata": {},
     "source": [
      "## 1.3. Where are G, BEN, G, TIME, LOC, ADD usually positioned? (e.g. before or after the verb)"
     ]
    },
    {
     "cell_type": "code",
     "collapsed": false,
     "input": [
      "particles = [ 'G', 'BEN', 'TIME', 'LOC', 'ADD' ]\n",
      "pos_counts = [ [0, 0] for _ in particles ]\n",
      "search_terms = verbs + particles\n",
      "\n",
      "for wo in helpers.diana.word_orders(ag, search_terms, verb_map):\n",
      "    for i, p in enumerate(particles):\n",
      "        if \"V\" in wo.word_order and p in wo.word_order:\n",
      "            if wo.word_order.index(\"V\") < wo.word_order.index(p):\n",
      "                pos_counts[i][0] += 1\n",
      "            else:\n",
      "                pos_counts[i][1] += 1\n",
      "                \n",
      "for i, p in enumerate(particles):\n",
      "    print(p)\n",
      "    print(\"    Count after verb:  {0}\".format(pos_counts[i][0]))\n",
      "    print(\"    Count before verb: {0}\".format(pos_counts[i][1]))"
     ],
     "language": "python",
     "metadata": {},
     "outputs": [
      {
       "output_type": "stream",
       "stream": "stdout",
       "text": [
        "G\n",
        "    Count after verb:  25\n",
        "    Count before verb: 155\n",
        "BEN\n",
        "    Count after verb:  9\n",
        "    Count before verb: 39\n",
        "TIME\n",
        "    Count after verb:  5\n",
        "    Count before verb: 61\n",
        "LOC\n",
        "    Count after verb:  12\n",
        "    Count before verb: 55\n",
        "ADD\n",
        "    Count after verb:  14\n",
        "    Count before verb: 12\n"
       ]
      }
     ],
     "prompt_number": 28
    },
    {
     "cell_type": "markdown",
     "metadata": {},
     "source": [
      "## 1.4. In main clauses: are BEN arguments significantly more often positioned before the verb than after the verb?"
     ]
    },
    {
     "cell_type": "code",
     "collapsed": false,
     "input": [
      "particles = [ 'BEN', 'G', 'ADD' ]\n",
      "pos_counts = [ [0, 0] for _ in particles ]\n",
      "search_terms = verbs + particles\n",
      "\n",
      "before = 0\n",
      "after = 0\n",
      "for wo in helpers.diana.word_orders(ag, search_terms, verb_map):\n",
      "    for i, p in enumerate(particles):\n",
      "        if wo.clause_type in main_clause_types and \"V\" in wo.word_order and p in wo.word_order:\n",
      "            if wo.word_order.index(\"V\") < wo.word_order.index(p):\n",
      "                pos_counts[i][0] += 1\n",
      "            else:\n",
      "                pos_counts[i][1] += 1\n",
      "\n",
      "for i, p in enumerate(particles):\n",
      "    print(p)\n",
      "    print(\"    Count after verb:  {0}\".format(pos_counts[i][0]))\n",
      "    print(\"    Count before verb: {0}\".format(pos_counts[i][1]))"
     ],
     "language": "python",
     "metadata": {},
     "outputs": [
      {
       "output_type": "stream",
       "stream": "stdout",
       "text": [
        "BEN\n",
        "    Count after verb:  8\n",
        "    Count before verb: 31\n",
        "G\n",
        "    Count after verb:  23\n",
        "    Count before verb: 90\n",
        "ADD\n",
        "    Count after verb:  12\n",
        "    Count before verb: 10\n"
       ]
      }
     ],
     "prompt_number": 30
    },
    {
     "cell_type": "markdown",
     "metadata": {},
     "source": [
      "### Statistical test\n",
      "\n",
      "I am using a binomial test here: http://docs.scipy.org/doc/scipy/reference/generated/scipy.stats.binom_test.html#scipy.stats.binom_test"
     ]
    },
    {
     "cell_type": "code",
     "collapsed": false,
     "input": [
      "for i, p in enumerate(particles):\n",
      "    print(\"Test for '{0}'\".format(p))\n",
      "    print(scipy.stats.binom_test(pos_counts[i]))"
     ],
     "language": "python",
     "metadata": {},
     "outputs": [
      {
       "output_type": "stream",
       "stream": "stdout",
       "text": [
        "Test for 'BEN'\n",
        "0.000294076875434\n",
        "Test for 'G'\n",
        "1.48849064758e-10\n",
        "Test for 'ADD'\n",
        "0.831811904907\n"
       ]
      }
     ],
     "prompt_number": 31
    },
    {
     "cell_type": "markdown",
     "metadata": {},
     "source": [
      "Except for \"ADD\" it is very unlikely that those counts are random. So the difference for \"BEN\" and \"G\" is significant.\n",
      "\n",
      "I don't know what \"[...] for all three together (BEN + G + ADD)\" should mean (see your Word document). Could you explain?"
     ]
    },
    {
     "cell_type": "markdown",
     "metadata": {},
     "source": [
      "# 2. Arguments in \"v.aff\" vs. \"v.tr\" sentences: ouvert vs. zero"
     ]
    },
    {
     "cell_type": "markdown",
     "metadata": {},
     "source": [
      "### Counts"
     ]
    },
    {
     "cell_type": "code",
     "collapsed": false,
     "input": [
      "v_tree = { \"v.aff\": collections.defaultdict(int), \"v.tr\": collections.defaultdict(int) }\n",
      "for wo in word_orders:\n",
      "    v = None\n",
      "    if \"v.tr\" in wo:\n",
      "        v = \"v.tr\"\n",
      "    if \"v.aff\" in wo:\n",
      "        v = \"v.aff\"\n",
      "    if v is not None:\n",
      "        wo2 = tuple([e for e in sorted(wo) if e != \"v.aff\" and e != \"v.tr\"])\n",
      "        v_tree[v][wo2] += word_orders[wo]\n",
      "\n",
      "for v in [\"v.aff\", \"v.tr\"]:\n",
      "    print(v)\n",
      "    for e in v_tree[v]:\n",
      "        print(\"{0} => {1}\".format(e, v_tree[v][e]))"
     ],
     "language": "python",
     "metadata": {},
     "outputs": [
      {
       "output_type": "stream",
       "stream": "stdout",
       "text": [
        "v.aff\n",
        "('STIM', 'zero-EXP') => 10\n",
        "('EXP', 'zero-STIM') => 4\n",
        "('EXP', 'P') => 1\n",
        "('EXP', 'STIM') => 25\n",
        "('zero-EXP', 'zero-STIM') => 2\n",
        "v.tr\n",
        "('zero-A', 'zero-P') => 41\n",
        "('zero-S',) => 3\n",
        "('P', 'zero-A') => 148\n",
        "('zero-A',) => 1\n",
        "('S',) => 4\n",
        "('A', 'P') => 136\n",
        "('A', 'zero-P') => 19\n",
        "('P',) => 1\n"
       ]
      }
     ],
     "prompt_number": 32
    },
    {
     "cell_type": "markdown",
     "metadata": {},
     "source": [
      "### Statistical test for A/EXP"
     ]
    },
    {
     "cell_type": "markdown",
     "metadata": {},
     "source": [
      "Hypothesis 1 (H0): It does not depend on the type of the verb (\"v.tr\" vs. \"v.aff\") if the A/EXP is expressed ouvertly.\n",
      "\n",
      "For the test we use the Fisher exact test, as this test also works for small numbers (http://docs.scipy.org/doc/scipy-0.13.0/reference/generated/scipy.stats.fisher_exact.html)."
     ]
    },
    {
     "cell_type": "code",
     "collapsed": false,
     "input": [
      "import scipy.stats\n",
      "cont_table = [\n",
      "    [ v_tree[\"v.aff\"][('EXP', 'zero-STIM')] + v_tree[\"v.aff\"][('EXP', 'STIM')],\n",
      "      v_tree[\"v.aff\"][('zero-EXP', 'zero-STIM')] + v_tree[\"v.aff\"][('STIM', 'zero-EXP')] ],\n",
      "    [ v_tree[\"v.tr\"][('A', 'P')] + v_tree[\"v.tr\"][('A', 'zero-P')], \n",
      "      v_tree[\"v.tr\"][('P', 'zero-A')] + v_tree[\"v.tr\"][('zero-A', 'zero-P')] ]\n",
      "]\n",
      "cont_table"
     ],
     "language": "python",
     "metadata": {},
     "outputs": [
      {
       "metadata": {},
       "output_type": "pyout",
       "prompt_number": 33,
       "text": [
        "[[29, 12], [155, 189]]"
       ]
      }
     ],
     "prompt_number": 33
    },
    {
     "cell_type": "code",
     "collapsed": false,
     "input": [
      "oddsratio, pvalue = scipy.stats.fisher_exact(cont_table)\n",
      "pvalue"
     ],
     "language": "python",
     "metadata": {},
     "outputs": [
      {
       "metadata": {},
       "output_type": "pyout",
       "prompt_number": 34,
       "text": [
        "0.0025714934424959333"
       ]
      }
     ],
     "prompt_number": 34
    },
    {
     "cell_type": "markdown",
     "metadata": {},
     "source": [
      "We reject the null hypothesis, as the chances of getting a distribution as the observed one are p < 0.05. The verb type affects the ouvertness of the A/EXP argument. In this case the \"v.aff\" sentences have sigificantly more ouvert arguments EXP then the \"v.tr\" sentences have ouvert A."
     ]
    },
    {
     "cell_type": "markdown",
     "metadata": {},
     "source": [
      "### Statistical test for P/STIM"
     ]
    },
    {
     "cell_type": "markdown",
     "metadata": {},
     "source": [
      "Hypothesis 2 (H0): It does not depend on the type of the verb (\"v.tr\" vs. \"v.aff\") if the P/STIM is expressed ouvertly."
     ]
    },
    {
     "cell_type": "code",
     "collapsed": false,
     "input": [
      "import scipy.stats\n",
      "cont_table = [\n",
      "    [ v_tree[\"v.aff\"][('STIM', 'zero-EXP')] + v_tree[\"v.aff\"][('EXP', 'STIM')],\n",
      "      v_tree[\"v.aff\"][('zero-EXP', 'zero-STIM')] + v_tree[\"v.aff\"][('EXP', 'zero-STIM')] ],\n",
      "    [ v_tree[\"v.tr\"][('A', 'P')] + v_tree[\"v.tr\"][('P', 'zero-A')], \n",
      "      v_tree[\"v.tr\"][('A', 'zero-P')] + v_tree[\"v.tr\"][('zero-A', 'zero-P')] ]\n",
      "]\n",
      "cont_table"
     ],
     "language": "python",
     "metadata": {},
     "outputs": [
      {
       "metadata": {},
       "output_type": "pyout",
       "prompt_number": 35,
       "text": [
        "[[35, 6], [284, 60]]"
       ]
      }
     ],
     "prompt_number": 35
    },
    {
     "cell_type": "code",
     "collapsed": false,
     "input": [
      "oddsratio, pvalue = scipy.stats.fisher_exact(cont_table)\n",
      "pvalue"
     ],
     "language": "python",
     "metadata": {},
     "outputs": [
      {
       "metadata": {},
       "output_type": "pyout",
       "prompt_number": 36,
       "text": [
        "0.82704570068924377"
       ]
      }
     ],
     "prompt_number": 36
    },
    {
     "cell_type": "markdown",
     "metadata": {},
     "source": [
      "In this case we cannot reject the null hypothesis, as p > 0.05. There is no statistical evidence that the verb type affects the ouvertness of P/STIM."
     ]
    },
    {
     "cell_type": "markdown",
     "metadata": {},
     "source": [
      "## Positions of S, A and P"
     ]
    },
    {
     "cell_type": "code",
     "collapsed": false,
     "input": [
      "A_values = []\n",
      "P_values = []\n",
      "S_values = []\n",
      "for parent_node in clause_unit_nodes:\n",
      "    word_order = []\n",
      "    for gramm_node in ag.nodes_for_tier(\"grammatical_relation\", parent_node):\n",
      "        a_list = ag.annotations_for_tier(\"grammatical_relation\", gramm_node)\n",
      "        if len(a_list) > 0:\n",
      "            a_value = ag.annotation_value_for_annotation(a_list[0])\n",
      "            if a_value in verbs:\n",
      "                a_value = \"V\"\n",
      "            word_order.append(a_value)\n",
      "    if \"V\" in word_order:\n",
      "        v_index = word_order.index(\"V\")\n",
      "        if \"A\" in word_order:\n",
      "            A_values.append(word_order.index(\"A\") - v_index)\n",
      "        if \"P\" in word_order:\n",
      "            P_values.append(word_order.index(\"P\") - v_index)\n",
      "        if \"S\" in word_order:\n",
      "            S_values.append(word_order.index(\"S\") - v_index)"
     ],
     "language": "python",
     "metadata": {},
     "outputs": [
      {
       "ename": "NameError",
       "evalue": "name 'clause_unit_nodes' is not defined",
       "output_type": "pyerr",
       "traceback": [
        "\u001b[1;31m---------------------------------------------------------------------------\u001b[0m\n\u001b[1;31mNameError\u001b[0m                                 Traceback (most recent call last)",
        "\u001b[1;32m<ipython-input-37-091ba9ae0b6b>\u001b[0m in \u001b[0;36m<module>\u001b[1;34m()\u001b[0m\n\u001b[0;32m      2\u001b[0m \u001b[0mP_values\u001b[0m \u001b[1;33m=\u001b[0m \u001b[1;33m[\u001b[0m\u001b[1;33m]\u001b[0m\u001b[1;33m\u001b[0m\u001b[0m\n\u001b[0;32m      3\u001b[0m \u001b[0mS_values\u001b[0m \u001b[1;33m=\u001b[0m \u001b[1;33m[\u001b[0m\u001b[1;33m]\u001b[0m\u001b[1;33m\u001b[0m\u001b[0m\n\u001b[1;32m----> 4\u001b[1;33m \u001b[1;32mfor\u001b[0m \u001b[0mparent_node\u001b[0m \u001b[1;32min\u001b[0m \u001b[0mclause_unit_nodes\u001b[0m\u001b[1;33m:\u001b[0m\u001b[1;33m\u001b[0m\u001b[0m\n\u001b[0m\u001b[0;32m      5\u001b[0m     \u001b[0mword_order\u001b[0m \u001b[1;33m=\u001b[0m \u001b[1;33m[\u001b[0m\u001b[1;33m]\u001b[0m\u001b[1;33m\u001b[0m\u001b[0m\n\u001b[0;32m      6\u001b[0m     \u001b[1;32mfor\u001b[0m \u001b[0mgramm_node\u001b[0m \u001b[1;32min\u001b[0m \u001b[0mag\u001b[0m\u001b[1;33m.\u001b[0m\u001b[0mnodes_for_tier\u001b[0m\u001b[1;33m(\u001b[0m\u001b[1;34m\"grammatical_relation\"\u001b[0m\u001b[1;33m,\u001b[0m \u001b[0mparent_node\u001b[0m\u001b[1;33m)\u001b[0m\u001b[1;33m:\u001b[0m\u001b[1;33m\u001b[0m\u001b[0m\n",
        "\u001b[1;31mNameError\u001b[0m: name 'clause_unit_nodes' is not defined"
       ]
      }
     ],
     "prompt_number": 37
    },
    {
     "cell_type": "code",
     "collapsed": false,
     "input": [
      "%matplotlib inline\n",
      "import matplotlib.pyplot as plt"
     ],
     "language": "python",
     "metadata": {},
     "outputs": [],
     "prompt_number": 38
    },
    {
     "cell_type": "code",
     "collapsed": false,
     "input": [
      "fig, axs = plt.subplots(1, 3, figsize=(14,4))\n",
      "axs[0].hist(S_values, range(min(S_values), max(S_values)+2))\n",
      "axs[0].set_title(\"Positions of S\")\n",
      "axs[1].hist(A_values, range(min(A_values), max(A_values)+2))\n",
      "axs[1].set_title(\"Positions of A\")\n",
      "axs[2].hist(P_values, range(min(P_values), max(P_values)+2))\n",
      "ret = axs[2].set_title(\"Positions of P\")"
     ],
     "language": "python",
     "metadata": {},
     "outputs": [
      {
       "ename": "ValueError",
       "evalue": "min() arg is an empty sequence",
       "output_type": "pyerr",
       "traceback": [
        "\u001b[1;31m---------------------------------------------------------------------------\u001b[0m\n\u001b[1;31mValueError\u001b[0m                                Traceback (most recent call last)",
        "\u001b[1;32m<ipython-input-39-7c2dac80e234>\u001b[0m in \u001b[0;36m<module>\u001b[1;34m()\u001b[0m\n\u001b[0;32m      1\u001b[0m \u001b[0mfig\u001b[0m\u001b[1;33m,\u001b[0m \u001b[0maxs\u001b[0m \u001b[1;33m=\u001b[0m \u001b[0mplt\u001b[0m\u001b[1;33m.\u001b[0m\u001b[0msubplots\u001b[0m\u001b[1;33m(\u001b[0m\u001b[1;36m1\u001b[0m\u001b[1;33m,\u001b[0m \u001b[1;36m3\u001b[0m\u001b[1;33m,\u001b[0m \u001b[0mfigsize\u001b[0m\u001b[1;33m=\u001b[0m\u001b[1;33m(\u001b[0m\u001b[1;36m14\u001b[0m\u001b[1;33m,\u001b[0m\u001b[1;36m4\u001b[0m\u001b[1;33m)\u001b[0m\u001b[1;33m)\u001b[0m\u001b[1;33m\u001b[0m\u001b[0m\n\u001b[1;32m----> 2\u001b[1;33m \u001b[0maxs\u001b[0m\u001b[1;33m[\u001b[0m\u001b[1;36m0\u001b[0m\u001b[1;33m]\u001b[0m\u001b[1;33m.\u001b[0m\u001b[0mhist\u001b[0m\u001b[1;33m(\u001b[0m\u001b[0mS_values\u001b[0m\u001b[1;33m,\u001b[0m \u001b[0mrange\u001b[0m\u001b[1;33m(\u001b[0m\u001b[0mmin\u001b[0m\u001b[1;33m(\u001b[0m\u001b[0mS_values\u001b[0m\u001b[1;33m)\u001b[0m\u001b[1;33m,\u001b[0m \u001b[0mmax\u001b[0m\u001b[1;33m(\u001b[0m\u001b[0mS_values\u001b[0m\u001b[1;33m)\u001b[0m\u001b[1;33m+\u001b[0m\u001b[1;36m2\u001b[0m\u001b[1;33m)\u001b[0m\u001b[1;33m)\u001b[0m\u001b[1;33m\u001b[0m\u001b[0m\n\u001b[0m\u001b[0;32m      3\u001b[0m \u001b[0maxs\u001b[0m\u001b[1;33m[\u001b[0m\u001b[1;36m0\u001b[0m\u001b[1;33m]\u001b[0m\u001b[1;33m.\u001b[0m\u001b[0mset_title\u001b[0m\u001b[1;33m(\u001b[0m\u001b[1;34m\"Positions of S\"\u001b[0m\u001b[1;33m)\u001b[0m\u001b[1;33m\u001b[0m\u001b[0m\n\u001b[0;32m      4\u001b[0m \u001b[0maxs\u001b[0m\u001b[1;33m[\u001b[0m\u001b[1;36m1\u001b[0m\u001b[1;33m]\u001b[0m\u001b[1;33m.\u001b[0m\u001b[0mhist\u001b[0m\u001b[1;33m(\u001b[0m\u001b[0mA_values\u001b[0m\u001b[1;33m,\u001b[0m \u001b[0mrange\u001b[0m\u001b[1;33m(\u001b[0m\u001b[0mmin\u001b[0m\u001b[1;33m(\u001b[0m\u001b[0mA_values\u001b[0m\u001b[1;33m)\u001b[0m\u001b[1;33m,\u001b[0m \u001b[0mmax\u001b[0m\u001b[1;33m(\u001b[0m\u001b[0mA_values\u001b[0m\u001b[1;33m)\u001b[0m\u001b[1;33m+\u001b[0m\u001b[1;36m2\u001b[0m\u001b[1;33m)\u001b[0m\u001b[1;33m)\u001b[0m\u001b[1;33m\u001b[0m\u001b[0m\n\u001b[0;32m      5\u001b[0m \u001b[0maxs\u001b[0m\u001b[1;33m[\u001b[0m\u001b[1;36m1\u001b[0m\u001b[1;33m]\u001b[0m\u001b[1;33m.\u001b[0m\u001b[0mset_title\u001b[0m\u001b[1;33m(\u001b[0m\u001b[1;34m\"Positions of A\"\u001b[0m\u001b[1;33m)\u001b[0m\u001b[1;33m\u001b[0m\u001b[0m\n",
        "\u001b[1;31mValueError\u001b[0m: min() arg is an empty sequence"
       ]
      },
      {
       "metadata": {},
       "output_type": "display_data",
       "png": "[encoded data removed]",
       "text": [
        "<matplotlib.figure.Figure at 0x7f7defd4c630>"
       ]
      }
     ],
     "prompt_number": 39
    },
    {
     "cell_type": "markdown",
     "metadata": {},
     "source": [
      "## Box plots of positions"
     ]
    },
    {
     "cell_type": "code",
     "collapsed": false,
     "input": [
      "plt.figure(figsize=(10,6))\n",
      "plt.boxplot([S_values, A_values, P_values])\n",
      "plt.title(\"Positions of S, A and P\")\n",
      "ret = plt.xticks([1, 2, 3], [\"S\", \"A\", \"P\"])"
     ],
     "language": "python",
     "metadata": {},
     "outputs": [
      {
       "metadata": {},
       "output_type": "display_data",
       "png": "[encoded data removed]",
       "text": [
        "<matplotlib.figure.Figure at 0x7f7dfbcf1b38>"
       ]
      }
     ],
     "prompt_number": 40
    },
    {
     "cell_type": "markdown",
     "metadata": {},
     "source": [
      "## Plots by clause type"
     ]
    },
    {
     "cell_type": "code",
     "collapsed": false,
     "input": [
      "A_values = [[], []]\n",
      "P_values = [[], []]\n",
      "S_values = [[], []]\n",
      "clause_types = [\"m\", \"m.rs\", \"sub\", \"sub.rs\"]\n",
      "for parent_node in clause_unit_nodes:\n",
      "    word_order = []\n",
      "    clause_type = None\n",
      "    type_node = ag.nodes_for_tier(\"clause_type\", parent_node)\n",
      "    if len(type_node) > 0:\n",
      "        clause_type_ann = ag.annotations_for_tier(\"clause_type\", type_node[0])\n",
      "        clause_type = ag.annotation_value_for_annotation(clause_type_ann[0])\n",
      "    for gramm_node in ag.nodes_for_tier(\"grammatical_relation\", parent_node):\n",
      "        a_list = ag.annotations_for_tier(\"grammatical_relation\", gramm_node)\n",
      "        if len(a_list) > 0:\n",
      "            a_value = ag.annotation_value_for_annotation(a_list[0])\n",
      "            if a_value in verbs:\n",
      "                a_value = \"V\"\n",
      "            word_order.append(a_value)\n",
      "    if \"V\" in word_order and clause_type in clause_types:\n",
      "        ind = 0\n",
      "        if clause_type == \"sub\" or clause_type == \"sub.rs\":\n",
      "            ind = 1\n",
      "        v_index = word_order.index(\"V\")\n",
      "        if \"A\" in word_order:\n",
      "            A_values[ind].append(word_order.index(\"A\") - v_index)\n",
      "        if \"P\" in word_order:\n",
      "            P_values[ind].append(word_order.index(\"P\") - v_index)\n",
      "        if \"S\" in word_order:\n",
      "            S_values[ind].append(word_order.index(\"S\") - v_index)"
     ],
     "language": "python",
     "metadata": {},
     "outputs": [
      {
       "ename": "NameError",
       "evalue": "name 'clause_unit_nodes' is not defined",
       "output_type": "pyerr",
       "traceback": [
        "\u001b[1;31m---------------------------------------------------------------------------\u001b[0m\n\u001b[1;31mNameError\u001b[0m                                 Traceback (most recent call last)",
        "\u001b[1;32m<ipython-input-41-bb7bf938015f>\u001b[0m in \u001b[0;36m<module>\u001b[1;34m()\u001b[0m\n\u001b[0;32m      3\u001b[0m \u001b[0mS_values\u001b[0m \u001b[1;33m=\u001b[0m \u001b[1;33m[\u001b[0m\u001b[1;33m[\u001b[0m\u001b[1;33m]\u001b[0m\u001b[1;33m,\u001b[0m \u001b[1;33m[\u001b[0m\u001b[1;33m]\u001b[0m\u001b[1;33m]\u001b[0m\u001b[1;33m\u001b[0m\u001b[0m\n\u001b[0;32m      4\u001b[0m \u001b[0mclause_types\u001b[0m \u001b[1;33m=\u001b[0m \u001b[1;33m[\u001b[0m\u001b[1;34m\"m\"\u001b[0m\u001b[1;33m,\u001b[0m \u001b[1;34m\"m.rs\"\u001b[0m\u001b[1;33m,\u001b[0m \u001b[1;34m\"sub\"\u001b[0m\u001b[1;33m,\u001b[0m \u001b[1;34m\"sub.rs\"\u001b[0m\u001b[1;33m]\u001b[0m\u001b[1;33m\u001b[0m\u001b[0m\n\u001b[1;32m----> 5\u001b[1;33m \u001b[1;32mfor\u001b[0m \u001b[0mparent_node\u001b[0m \u001b[1;32min\u001b[0m \u001b[0mclause_unit_nodes\u001b[0m\u001b[1;33m:\u001b[0m\u001b[1;33m\u001b[0m\u001b[0m\n\u001b[0m\u001b[0;32m      6\u001b[0m     \u001b[0mword_order\u001b[0m \u001b[1;33m=\u001b[0m \u001b[1;33m[\u001b[0m\u001b[1;33m]\u001b[0m\u001b[1;33m\u001b[0m\u001b[0m\n\u001b[0;32m      7\u001b[0m     \u001b[0mclause_type\u001b[0m \u001b[1;33m=\u001b[0m \u001b[1;32mNone\u001b[0m\u001b[1;33m\u001b[0m\u001b[0m\n",
        "\u001b[1;31mNameError\u001b[0m: name 'clause_unit_nodes' is not defined"
       ]
      }
     ],
     "prompt_number": 41
    },
    {
     "cell_type": "code",
     "collapsed": false,
     "input": [
      "fig, axs = plt.subplots(2, 3, figsize=(14,10))\n",
      "for ind in [0, 1]:\n",
      "    type_text = \"main\"\n",
      "    if ind == 1:\n",
      "        type_text = \"sub\"\n",
      "    axs[ind][0].hist(S_values[ind], range(min(S_values[ind]), max(S_values[ind])+2))\n",
      "    axs[ind][0].set_title(\"Positions of S in {0} clauses\".format(type_text))\n",
      "    axs[ind][1].hist(A_values[ind], range(min(A_values[ind]), max(A_values[ind])+2))\n",
      "    axs[ind][1].set_title(\"Positions of A {0} clauses\".format(type_text))\n",
      "    axs[ind][2].hist(P_values[ind], range(min(P_values[ind]), max(P_values[ind])+2))\n",
      "    ret = axs[ind][2].set_title(\"Positions of P {0} clauses\".format(type_text))"
     ],
     "language": "python",
     "metadata": {},
     "outputs": [
      {
       "ename": "ValueError",
       "evalue": "min() arg is an empty sequence",
       "output_type": "pyerr",
       "traceback": [
        "\u001b[1;31m---------------------------------------------------------------------------\u001b[0m\n\u001b[1;31mValueError\u001b[0m                                Traceback (most recent call last)",
        "\u001b[1;32m<ipython-input-42-4ccbee444a0d>\u001b[0m in \u001b[0;36m<module>\u001b[1;34m()\u001b[0m\n\u001b[0;32m      4\u001b[0m     \u001b[1;32mif\u001b[0m \u001b[0mind\u001b[0m \u001b[1;33m==\u001b[0m \u001b[1;36m1\u001b[0m\u001b[1;33m:\u001b[0m\u001b[1;33m\u001b[0m\u001b[0m\n\u001b[0;32m      5\u001b[0m         \u001b[0mtype_text\u001b[0m \u001b[1;33m=\u001b[0m \u001b[1;34m\"sub\"\u001b[0m\u001b[1;33m\u001b[0m\u001b[0m\n\u001b[1;32m----> 6\u001b[1;33m     \u001b[0maxs\u001b[0m\u001b[1;33m[\u001b[0m\u001b[0mind\u001b[0m\u001b[1;33m]\u001b[0m\u001b[1;33m[\u001b[0m\u001b[1;36m0\u001b[0m\u001b[1;33m]\u001b[0m\u001b[1;33m.\u001b[0m\u001b[0mhist\u001b[0m\u001b[1;33m(\u001b[0m\u001b[0mS_values\u001b[0m\u001b[1;33m[\u001b[0m\u001b[0mind\u001b[0m\u001b[1;33m]\u001b[0m\u001b[1;33m,\u001b[0m \u001b[0mrange\u001b[0m\u001b[1;33m(\u001b[0m\u001b[0mmin\u001b[0m\u001b[1;33m(\u001b[0m\u001b[0mS_values\u001b[0m\u001b[1;33m[\u001b[0m\u001b[0mind\u001b[0m\u001b[1;33m]\u001b[0m\u001b[1;33m)\u001b[0m\u001b[1;33m,\u001b[0m \u001b[0mmax\u001b[0m\u001b[1;33m(\u001b[0m\u001b[0mS_values\u001b[0m\u001b[1;33m[\u001b[0m\u001b[0mind\u001b[0m\u001b[1;33m]\u001b[0m\u001b[1;33m)\u001b[0m\u001b[1;33m+\u001b[0m\u001b[1;36m2\u001b[0m\u001b[1;33m)\u001b[0m\u001b[1;33m)\u001b[0m\u001b[1;33m\u001b[0m\u001b[0m\n\u001b[0m\u001b[0;32m      7\u001b[0m     \u001b[0maxs\u001b[0m\u001b[1;33m[\u001b[0m\u001b[0mind\u001b[0m\u001b[1;33m]\u001b[0m\u001b[1;33m[\u001b[0m\u001b[1;36m0\u001b[0m\u001b[1;33m]\u001b[0m\u001b[1;33m.\u001b[0m\u001b[0mset_title\u001b[0m\u001b[1;33m(\u001b[0m\u001b[1;34m\"Positions of S in {0} clauses\"\u001b[0m\u001b[1;33m.\u001b[0m\u001b[0mformat\u001b[0m\u001b[1;33m(\u001b[0m\u001b[0mtype_text\u001b[0m\u001b[1;33m)\u001b[0m\u001b[1;33m)\u001b[0m\u001b[1;33m\u001b[0m\u001b[0m\n\u001b[0;32m      8\u001b[0m     \u001b[0maxs\u001b[0m\u001b[1;33m[\u001b[0m\u001b[0mind\u001b[0m\u001b[1;33m]\u001b[0m\u001b[1;33m[\u001b[0m\u001b[1;36m1\u001b[0m\u001b[1;33m]\u001b[0m\u001b[1;33m.\u001b[0m\u001b[0mhist\u001b[0m\u001b[1;33m(\u001b[0m\u001b[0mA_values\u001b[0m\u001b[1;33m[\u001b[0m\u001b[0mind\u001b[0m\u001b[1;33m]\u001b[0m\u001b[1;33m,\u001b[0m \u001b[0mrange\u001b[0m\u001b[1;33m(\u001b[0m\u001b[0mmin\u001b[0m\u001b[1;33m(\u001b[0m\u001b[0mA_values\u001b[0m\u001b[1;33m[\u001b[0m\u001b[0mind\u001b[0m\u001b[1;33m]\u001b[0m\u001b[1;33m)\u001b[0m\u001b[1;33m,\u001b[0m \u001b[0mmax\u001b[0m\u001b[1;33m(\u001b[0m\u001b[0mA_values\u001b[0m\u001b[1;33m[\u001b[0m\u001b[0mind\u001b[0m\u001b[1;33m]\u001b[0m\u001b[1;33m)\u001b[0m\u001b[1;33m+\u001b[0m\u001b[1;36m2\u001b[0m\u001b[1;33m)\u001b[0m\u001b[1;33m)\u001b[0m\u001b[1;33m\u001b[0m\u001b[0m\n",
        "\u001b[1;31mValueError\u001b[0m: min() arg is an empty sequence"
       ]
      },
      {
       "metadata": {},
       "output_type": "display_data",
       "png": "[encoded data removed]",
       "text": [
        "<matplotlib.figure.Figure at 0x7f7dfb51b0f0>"
       ]
      }
     ],
     "prompt_number": 42
    },
    {
     "cell_type": "markdown",
     "metadata": {},
     "source": [
      "## Box plots by clause type"
     ]
    },
    {
     "cell_type": "code",
     "collapsed": false,
     "input": [
      "fig, axs = plt.subplots(1, 2, figsize=(14,6))\n",
      "for ind in [0, 1]:\n",
      "    type_text = \"main\"\n",
      "    if ind == 1:\n",
      "        type_text = \"sub\"\n",
      "\n",
      "    axs[ind].boxplot([S_values[ind], A_values[ind], P_values[ind]])\n",
      "    axs[ind].set_title(\"Positions of S, A and P in {0} clauses\".format(type_text))\n",
      "    ret = plt.xticks([1, 2, 3], [\"S\", \"A\", \"P\"])"
     ],
     "language": "python",
     "metadata": {},
     "outputs": [
      {
       "metadata": {},
       "output_type": "display_data",
       "png": "[encoded data removed]",
       "text": [
        "<matplotlib.figure.Figure at 0x7f7ddf5163c8>"
       ]
      }
     ],
     "prompt_number": 43
    },
    {
     "cell_type": "code",
     "collapsed": false,
     "input": [],
     "language": "python",
     "metadata": {},
     "outputs": []
    }
   ],
   "metadata": {}
  }
 ]
}