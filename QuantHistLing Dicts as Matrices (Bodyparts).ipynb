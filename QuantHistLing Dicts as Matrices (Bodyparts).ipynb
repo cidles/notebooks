{
 "metadata": {
  "name": "QuantHistLing Dicts as Matrices (Bodyparts)"
 },
 "nbformat": 3,
 "nbformat_minor": 0,
 "worksheets": [
  {
   "cells": [
    {
     "cell_type": "code",
     "collapsed": false,
     "input": [
      "import os\n",
      "import csv\n",
      "import codecs\n",
      "import re\n",
      "import glob\n",
      "import collections\n",
      "\n",
      "import numpy as np\n",
      "#import networkx\n",
      "import graf"
     ],
     "language": "python",
     "metadata": {},
     "outputs": [],
     "prompt_number": 2
    },
    {
     "cell_type": "markdown",
     "metadata": {},
     "source": [
      "## Get the sources\n",
      "\n",
      "Change to the directory where you extracted the ZIP archive that you downloaded from the QuantHistLing website:"
     ]
    },
    {
     "cell_type": "code",
     "collapsed": false,
     "input": [
      "os.chdir(\"h:/Corpora/qlc/graf\")"
     ],
     "language": "python",
     "metadata": {},
     "outputs": [],
     "prompt_number": 3
    },
    {
     "cell_type": "markdown",
     "metadata": {},
     "source": [
      "Now we open the file \"sources.csv\" and read out all the sources that are part of the component \"Witotoan\" and that are dictionaries. We will store a list of those source in `witotoan_sources`:"
     ]
    },
    {
     "cell_type": "code",
     "collapsed": false,
     "input": [
      "sources = csv.reader(open(\"sources.csv\", \"rU\"), delimiter=\"\\t\")\n",
      "witotoan_sources = list()\n",
      "for source in sources:\n",
      "    if True: #source[5] == \"Witotoan\" and source[1] == \"dictionary\": \n",
      "        witotoan_sources.append(source[0])"
     ],
     "language": "python",
     "metadata": {},
     "outputs": [],
     "prompt_number": 113
    },
    {
     "cell_type": "markdown",
     "metadata": {},
     "source": [
      "## GrAF to NetworkX\n",
      "\n",
      "Next we define a helper function that transform a GrAF graph into a networkx graph. For this we traverse the graph by querying for all entries. For each entry we look for connected nodes that have \"head\" or \"translation\" annotation. All of those nodes that are Spanish are stored in the list `spa`. All non-Spanish annotations are stored in `others`. In the end the collected annotation are added to the new networkx graph, and each spanish node is connected to all the other nodes for each entry:"
     ]
    },
    {
     "cell_type": "code",
     "collapsed": false,
     "input": [
      "with codecs.open(\"body-part-terms-spanish.txt\") as f:\n",
      "    bodyparts = f.read().splitlines()"
     ],
     "language": "python",
     "metadata": {},
     "outputs": [],
     "prompt_number": 20
    },
    {
     "cell_type": "code",
     "collapsed": false,
     "input": [
      "#import regex as re\n",
      "#def remove_punctuation(text):\n",
      "#    return re.sub(ur\"\\p{P}+\", \"\", text)\n",
      "\n",
      "import unicodedata\n",
      "tbl = dict.fromkeys(i for i in xrange(sys.maxunicode)\n",
      "                      if unicodedata.category(unichr(i)).startswith('P'))\n",
      "def remove_punctuation(text):\n",
      "    return text.translate(tbl)"
     ],
     "language": "python",
     "metadata": {},
     "outputs": [],
     "prompt_number": 34
    },
    {
     "cell_type": "code",
     "collapsed": false,
     "input": [
      "parser = graf.GraphParser()\n",
      "all_dicts_frame = None\n",
      "parsed_first = False\n",
      "\n",
      "spa_to_indi = collections.defaultdict(list)\n",
      "indi = set()\n",
      "spa = set()\n",
      "\n",
      "for d in witotoan_sources:\n",
      "    for f in glob.glob(os.path.join(d, \"dict-*-dictinterpretation.xml\")):\n",
      "        #print(\"Parsing {0}...\".format(f))\n",
      "        graf_graph = parser.parse(f)\n",
      "    \n",
      "        for (node_id, node) in graf_graph.nodes.items():\n",
      "            if node_id.endswith(\"entry\"):\n",
      "                entry_spa = list()\n",
      "                others = dict()\n",
      "                for e in node.out_edges:\n",
      "                    if e.annotations.get_first().label == \"head\" or e.annotations.get_first().label == \"translation\":\n",
      "                        # get lang\n",
      "                        features = e.to_node.annotations.get_first().features\n",
      "                        lang = None\n",
      "                        try:\n",
      "                            lang = features.get_value(\"iso-639-3\")\n",
      "                        except KeyError:\n",
      "                            next\n",
      "                            \n",
      "                        if lang  == \"spa\":\n",
      "                            substr = features.get_value(\"substring\")\n",
      "                            if substr in bodyparts:\n",
      "                                entry_spa.append(substr)\n",
      "                            else:\n",
      "                                next\n",
      "                            #substr = remove_punctuation(features.get_value(\"substring\"))\n",
      "                            #for w in substr.split(\" \"):\n",
      "                            #    entry_spa.append(w)\n",
      "                        elif lang:\n",
      "                            try:\n",
      "                                trans = u\"{0}|{1}\".format(features.get_value(\"substring\"), d)\n",
      "                                others[trans] = features.get_value(\"iso-639-3\")\n",
      "                            except KeyError:\n",
      "                                next\n",
      "                                \n",
      "                if len(entry_spa) > 0:\n",
      "                    for head in entry_spa:\n",
      "                        for translation in others:\n",
      "                            spa_to_indi[head].append(translation)\n",
      "                            spa.add(head)\n",
      "                            indi.add(translation)\n"
     ],
     "language": "python",
     "metadata": {},
     "outputs": [],
     "prompt_number": 114
    },
    {
     "cell_type": "code",
     "collapsed": false,
     "input": [
      "import gc\n",
      "gc.collect()"
     ],
     "language": "python",
     "metadata": {},
     "outputs": [
      {
       "output_type": "pyout",
       "prompt_number": 115,
       "text": [
        "83840"
       ]
      }
     ],
     "prompt_number": 115
    },
    {
     "cell_type": "code",
     "collapsed": false,
     "input": [
      "import scipy.sparse\n",
      "spa = list(spa)\n",
      "indi = list(indi)\n",
      "all_dicts_cooc = scipy.sparse.lil_matrix((len(indi), len(spa)))\n",
      "#all_dicts_cooc = numpy.zeros((len(indi), len(spa)))"
     ],
     "language": "python",
     "metadata": {},
     "outputs": [],
     "prompt_number": 116
    },
    {
     "cell_type": "code",
     "collapsed": false,
     "input": [
      "len(spa)"
     ],
     "language": "python",
     "metadata": {},
     "outputs": [
      {
       "output_type": "pyout",
       "prompt_number": 118,
       "text": [
        "82"
       ]
      }
     ],
     "prompt_number": 118
    },
    {
     "cell_type": "code",
     "collapsed": false,
     "input": [
      "for i, head in enumerate(spa):\n",
      "    for trans in spa_to_indi[head]:\n",
      "        all_dicts_cooc[indi.index(trans), i] = 1"
     ],
     "language": "python",
     "metadata": {},
     "outputs": [],
     "prompt_number": 119
    },
    {
     "cell_type": "code",
     "collapsed": false,
     "input": [
      "all_dicts_cooc = scipy.sparse.csc_matrix(all_dicts_cooc)"
     ],
     "language": "python",
     "metadata": {},
     "outputs": [],
     "prompt_number": 120
    },
    {
     "cell_type": "code",
     "collapsed": false,
     "input": [
      "spa.index(u\"nalga\")"
     ],
     "language": "python",
     "metadata": {},
     "outputs": [
      {
       "output_type": "pyout",
       "prompt_number": 128,
       "text": [
        "3"
       ]
      }
     ],
     "prompt_number": 128
    },
    {
     "cell_type": "code",
     "collapsed": false,
     "input": [
      "np.nonzero(all_dicts_cooc[:,3])"
     ],
     "language": "python",
     "metadata": {},
     "outputs": [
      {
       "output_type": "pyout",
       "prompt_number": 129,
       "text": [
        "(array([ 104,  154,  331,  450,  498,  519,  557,  712,  715,  781,  839,\n",
        "        871,  911,  927,  996, 1075, 1157, 1279, 1288, 1295, 1384, 1548,\n",
        "       1566, 1694, 1701, 1881, 1895, 1957, 1963, 1977, 2017, 2018, 2043]),\n",
        " array([0, 0, 0, 0, 0, 0, 0, 0, 0, 0, 0, 0, 0, 0, 0, 0, 0, 0, 0, 0, 0, 0, 0,\n",
        "       0, 0, 0, 0, 0, 0, 0, 0, 0, 0]))"
       ]
      }
     ],
     "prompt_number": 129
    },
    {
     "cell_type": "code",
     "collapsed": false,
     "input": [
      "indi[56]"
     ],
     "language": "python",
     "metadata": {},
     "outputs": [
      {
       "output_type": "pyout",
       "prompt_number": 123,
       "text": [
        "u'ni\\u0301i\\u0301waco|thiesen1998'"
       ]
      }
     ],
     "prompt_number": 123
    },
    {
     "cell_type": "code",
     "collapsed": false,
     "input": [
      "spa_similarity = np.dot(all_dicts_cooc.T, all_dicts_cooc)"
     ],
     "language": "python",
     "metadata": {},
     "outputs": [],
     "prompt_number": 124
    },
    {
     "cell_type": "code",
     "collapsed": false,
     "input": [
      "np.nonzero(spa_similarity[:,3].todense())"
     ],
     "language": "python",
     "metadata": {},
     "outputs": [
      {
       "output_type": "pyout",
       "prompt_number": 130,
       "text": [
        "(matrix([[ 3, 21, 33, 60]], dtype=int64), matrix([[0, 0, 0, 0]], dtype=int64))"
       ]
      }
     ],
     "prompt_number": 130
    },
    {
     "cell_type": "code",
     "collapsed": false,
     "input": [
      "spa[9]"
     ],
     "language": "python",
     "metadata": {},
     "outputs": [
      {
       "output_type": "pyout",
       "prompt_number": 153,
       "text": [
        "u'ano'"
       ]
      }
     ],
     "prompt_number": 153
    },
    {
     "cell_type": "code",
     "collapsed": false,
     "input": [
      "import networkx"
     ],
     "language": "python",
     "metadata": {},
     "outputs": [],
     "prompt_number": 134
    },
    {
     "cell_type": "code",
     "collapsed": false,
     "input": [
      "g = networkx.Graph(spa_similarity)\n",
      "solitary = [ n for n, d in g.degree_iter() if d==2 ]\n",
      "g.remove_nodes_from(solitary)"
     ],
     "language": "python",
     "metadata": {},
     "outputs": [],
     "prompt_number": 176
    },
    {
     "cell_type": "code",
     "collapsed": false,
     "input": [
      "labels = dict(zip(range(len(spa)), spa))\n",
      "#labels = { k: v for k,v in enumerate(spa) if k in g }\n",
      "g2 = networkx.relabel_nodes(g, labels)"
     ],
     "language": "python",
     "metadata": {},
     "outputs": [],
     "prompt_number": 206
    },
    {
     "cell_type": "code",
     "collapsed": false,
     "input": [
      "from networkx.readwrite import json_graph\n",
      "import json\n",
      "bodyparts_json = json_graph.node_link_data(g2)\n",
      "#json.dump(bodyparts_json, codecs.open(\"bodyparts_graph.json\", \"w\", \"utf-8\"))"
     ],
     "language": "python",
     "metadata": {},
     "outputs": [],
     "prompt_number": 226
    },
    {
     "cell_type": "code",
     "collapsed": false,
     "input": [
      "from IPython.display import HTML, Javascript\n",
      "html = \"\"\"\n",
      "<style>\n",
      "\n",
      ".link {\n",
      "  stroke: #999;\n",
      "  stroke-opacity: .6;\n",
      "}\n",
      "\n",
      ".link:hover {\n",
      "  stroke: #000;\n",
      "  stroke-opacity: 1.0;\n",
      "}\n",
      "\n",
      "</style>\n",
      "\n",
      "<script src=\"http://d3js.org/d3.v3.min.js\"></script>\n",
      "\n",
      "<div id=\"nav\"></div>\n",
      "\"\"\"\n",
      "\n",
      "javascript = \"\"\"\n",
      "var color = d3.scale.category20();\n",
      "\n",
      "var width = 1000,\n",
      "    height = 1000;\n",
      "\n",
      "var svg = d3.select(\"#nav\").append(\"svg\")\n",
      "    .attr(\"width\", width)\n",
      "    .attr(\"height\", height);\n",
      "\n",
      "var force = d3.layout.force()\n",
      "    .gravity(.05)\n",
      "    .distance(100)\n",
      "    .charge(-250)\n",
      "    .size([width, height]);\n",
      "\n",
      "var json = \"\"\" + json.dumps(bodyparts_json) + \"\"\";\n",
      "\n",
      "//d3.json(\"bodyparts_graph.json\", function(error, json) {\n",
      "  force\n",
      "      .nodes(json.nodes)\n",
      "      .links(json.links)\n",
      "      .start();\n",
      "\n",
      "  var link = svg.selectAll(\"line.link\")\n",
      "      .data(json.links)\n",
      "    .enter().append(\"line\")\n",
      "      .attr(\"class\", \"link\")\n",
      "      .style(\"stroke-width\", function(d) { return d.weight; });\n",
      "\n",
      "  var node = svg.selectAll(\"circle.node\")\n",
      "      .data(json.nodes)\n",
      "    .enter().append(\"g\")\n",
      "      .attr(\"class\", \"node\")\n",
      "      .call(force.drag);\n",
      "\n",
      "  node.append(\"circle\")\n",
      "      .attr(\"r\", 5);\n",
      "      //.style(\"fill\", function(d) { return color(d.group); })\n",
      "\n",
      "  node.append(\"text\")\n",
      "      .attr(\"dx\", 12)\n",
      "      .attr(\"dy\", \".35em\")\n",
      "      .text(function(d) { return d.id });\n",
      "\n",
      "  force.on(\"tick\", function() {\n",
      "    link.attr(\"x1\", function(d) { return d.source.x; })\n",
      "        .attr(\"y1\", function(d) { return d.source.y; })\n",
      "        .attr(\"x2\", function(d) { return d.target.x; })\n",
      "        .attr(\"y2\", function(d) { return d.target.y; });\n",
      "\n",
      "    node.attr(\"transform\", function(d) { return \"translate(\" + d.x + \",\" + d.y + \")\"; });\n",
      "  });\n",
      "//});\n",
      "\"\"\"\n",
      "display(HTML(html))\n",
      "display(Javascript(javascript))"
     ],
     "language": "python",
     "metadata": {},
     "outputs": [
      {
       "html": [
        "\n",
        "<style>\n",
        "\n",
        ".link {\n",
        "  stroke: #999;\n",
        "  stroke-opacity: .6;\n",
        "}\n",
        "\n",
        ".link:hover {\n",
        "  stroke: #000;\n",
        "  stroke-opacity: 1.0;\n",
        "}\n",
        "\n",
        "</style>\n",
        "\n",
        "<script src=\"http://d3js.org/d3.v3.min.js\"></script>\n",
        "\n",
        "<div id=\"nav\"></div>\n"
       ],
       "output_type": "display_data",
       "text": [
        "<IPython.core.display.HTML at 0x444408d0>"
       ]
      },
      {
       "javascript": [
        "\n",
        "var color = d3.scale.category20();\n",
        "\n",
        "var width = 1000,\n",
        "    height = 1000;\n",
        "\n",
        "var svg = d3.select(\"#nav\").append(\"svg\")\n",
        "    .attr(\"width\", width)\n",
        "    .attr(\"height\", height);\n",
        "\n",
        "var force = d3.layout.force()\n",
        "    .gravity(.05)\n",
        "    .distance(100)\n",
        "    .charge(-250)\n",
        "    .size([width, height]);\n",
        "\n",
        "var json = {\"directed\": false, \"graph\": [[\"name\", \"()\"]], \"nodes\": [{\"id\": \"rodilla\"}, {\"id\": \"nalga\"}, {\"id\": \"codo\"}, {\"id\": \"ojo\"}, {\"id\": \"pensamiento\"}, {\"id\": \"cadera\"}, {\"id\": \"espalda\"}, {\"id\": \"dedo pulgar\"}, {\"id\": \"aliento\"}, {\"id\": \"hueso\"}, {\"id\": \"piel\"}, {\"id\": \"conciencia\"}, {\"id\": \"nuez\"}, {\"id\": \"pie\"}, {\"id\": \"huella\"}, {\"id\": \"dedo\"}, {\"id\": \"planta del pie\"}, {\"id\": \"sangre\"}, {\"id\": \"corva\"}, {\"id\": \"tobillo\"}, {\"id\": \"brazo\"}, {\"id\": \"pecho\"}, {\"id\": \"labio\"}, {\"id\": \"mejilla\"}, {\"id\": \"espinilla\"}, {\"id\": \"canilla\"}, {\"id\": \"cabello\"}, {\"id\": \"ano\"}, {\"id\": \"boca\"}, {\"id\": \"busto\"}, {\"id\": \"espina\"}, {\"id\": \"quijada\"}, {\"id\": \"cuello\"}, {\"id\": \"voz\"}, {\"id\": \"trasero\"}, {\"id\": \"pelo\"}, {\"id\": \"pulgar\"}, {\"id\": \"vejiga\"}, {\"id\": \"lengua\"}, {\"id\": \"frente\"}, {\"id\": \"pantorrilla\"}, {\"id\": \"espina dorsal\"}, {\"id\": \"cuerpo\"}, {\"id\": \"orina\"}, {\"id\": \"costilla\"}, {\"id\": \"bigote\"}, {\"id\": \"extremidades\"}, {\"id\": \"cara\"}, {\"id\": \"hombro\"}, {\"id\": \"barba\"}, {\"id\": \"muslo\"}, {\"id\": \"columna vertebral\"}, {\"id\": \"garganta\"}, {\"id\": \"vientre\"}, {\"id\": \"palma de la mano\"}, {\"id\": \"dedo del pie\"}, {\"id\": \"mano\"}], \"links\": [{\"source\": 22, \"target\": 22, \"weight\": 0.0}, {\"source\": 22, \"target\": 28, \"weight\": 7.0}, {\"source\": 23, \"target\": 23, \"weight\": 0.0}, {\"source\": 23, \"target\": 31, \"weight\": 1.0}, {\"source\": 23, \"target\": 47, \"weight\": 2.0}, {\"source\": 23, \"target\": 13, \"weight\": 1.0}, {\"source\": 0, \"target\": 19, \"weight\": 4.0}, {\"source\": 0, \"target\": 2, \"weight\": 4.0}, {\"source\": 0, \"target\": 0, \"weight\": 0.0}, {\"source\": 1, \"target\": 34, \"weight\": 6.0}, {\"source\": 1, \"target\": 50, \"weight\": 2.0}, {\"source\": 1, \"target\": 1, \"weight\": 0.0}, {\"source\": 1, \"target\": 5, \"weight\": 2.0}, {\"source\": 45, \"target\": 49, \"weight\": 13.0}, {\"source\": 45, \"target\": 45, \"weight\": 0.0}, {\"source\": 24, \"target\": 25, \"weight\": 6.0}, {\"source\": 24, \"target\": 24, \"weight\": 0.0}, {\"source\": 24, \"target\": 40, \"weight\": 1.0}, {\"source\": 25, \"target\": 25, \"weight\": 0.0}, {\"source\": 2, \"target\": 19, \"weight\": 4.0}, {\"source\": 2, \"target\": 2, \"weight\": 0.0}, {\"source\": 2, \"target\": 20, \"weight\": 2.0}, {\"source\": 27, \"target\": 34, \"weight\": 1.0}, {\"source\": 27, \"target\": 27, \"weight\": 0.0}, {\"source\": 28, \"target\": 38, \"weight\": 4.0}, {\"source\": 28, \"target\": 31, \"weight\": 1.0}, {\"source\": 28, \"target\": 28, \"weight\": 0.0}, {\"source\": 29, \"target\": 29, \"weight\": 0.0}, {\"source\": 29, \"target\": 21, \"weight\": 1.0}, {\"source\": 35, \"target\": 26, \"weight\": 24.0}, {\"source\": 35, \"target\": 35, \"weight\": 0.0}, {\"source\": 3, \"target\": 3, \"weight\": 0.0}, {\"source\": 3, \"target\": 47, \"weight\": 3.0}, {\"source\": 31, \"target\": 20, \"weight\": 1.0}, {\"source\": 31, \"target\": 44, \"weight\": 1.0}, {\"source\": 31, \"target\": 31, \"weight\": 0.0}, {\"source\": 31, \"target\": 9, \"weight\": 1.0}, {\"source\": 4, \"target\": 4, \"weight\": 0.0}, {\"source\": 4, \"target\": 11, \"weight\": 1.0}, {\"source\": 33, \"target\": 38, \"weight\": 2.0}, {\"source\": 33, \"target\": 52, \"weight\": 4.0}, {\"source\": 33, \"target\": 33, \"weight\": 0.0}, {\"source\": 33, \"target\": 8, \"weight\": 2.0}, {\"source\": 5, \"target\": 34, \"weight\": 1.0}, {\"source\": 5, \"target\": 50, \"weight\": 2.0}, {\"source\": 5, \"target\": 5, \"weight\": 0.0}, {\"source\": 34, \"target\": 34, \"weight\": 0.0}, {\"source\": 6, \"target\": 6, \"weight\": 0.0}, {\"source\": 6, \"target\": 51, \"weight\": 1.0}, {\"source\": 6, \"target\": 48, \"weight\": 2.0}, {\"source\": 6, \"target\": 41, \"weight\": 1.0}, {\"source\": 6, \"target\": 20, \"weight\": 1.0}, {\"source\": 37, \"target\": 43, \"weight\": 5.0}, {\"source\": 37, \"target\": 53, \"weight\": 2.0}, {\"source\": 37, \"target\": 37, \"weight\": 0.0}, {\"source\": 26, \"target\": 26, \"weight\": 0.0}, {\"source\": 7, \"target\": 7, \"weight\": 0.0}, {\"source\": 7, \"target\": 36, \"weight\": 5.0}, {\"source\": 36, \"target\": 36, \"weight\": 0.0}, {\"source\": 32, \"target\": 52, \"weight\": 7.0}, {\"source\": 32, \"target\": 32, \"weight\": 0.0}, {\"source\": 32, \"target\": 12, \"weight\": 1.0}, {\"source\": 32, \"target\": 46, \"weight\": 1.0}, {\"source\": 8, \"target\": 8, \"weight\": 0.0}, {\"source\": 38, \"target\": 38, \"weight\": 0.0}, {\"source\": 9, \"target\": 44, \"weight\": 1.0}, {\"source\": 9, \"target\": 30, \"weight\": 1.0}, {\"source\": 9, \"target\": 20, \"weight\": 1.0}, {\"source\": 9, \"target\": 9, \"weight\": 0.0}, {\"source\": 10, \"target\": 42, \"weight\": 1.0}, {\"source\": 10, \"target\": 10, \"weight\": 0.0}, {\"source\": 11, \"target\": 11, \"weight\": 0.0}, {\"source\": 12, \"target\": 12, \"weight\": 0.0}, {\"source\": 39, \"target\": 47, \"weight\": 6.0}, {\"source\": 39, \"target\": 39, \"weight\": 0.0}, {\"source\": 55, \"target\": 14, \"weight\": 1.0}, {\"source\": 55, \"target\": 16, \"weight\": 1.0}, {\"source\": 55, \"target\": 13, \"weight\": 1.0}, {\"source\": 55, \"target\": 55, \"weight\": 0.0}, {\"source\": 41, \"target\": 30, \"weight\": 1.0}, {\"source\": 41, \"target\": 41, \"weight\": 0.0}, {\"source\": 41, \"target\": 51, \"weight\": 5.0}, {\"source\": 13, \"target\": 16, \"weight\": 1.0}, {\"source\": 13, \"target\": 13, \"weight\": 0.0}, {\"source\": 13, \"target\": 14, \"weight\": 2.0}, {\"source\": 13, \"target\": 46, \"weight\": 1.0}, {\"source\": 42, \"target\": 42, \"weight\": 0.0}, {\"source\": 42, \"target\": 17, \"weight\": 1.0}, {\"source\": 14, \"target\": 14, \"weight\": 0.0}, {\"source\": 14, \"target\": 16, \"weight\": 1.0}, {\"source\": 43, \"target\": 43, \"weight\": 0.0}, {\"source\": 16, \"target\": 54, \"weight\": 1.0}, {\"source\": 16, \"target\": 16, \"weight\": 0.0}, {\"source\": 44, \"target\": 44, \"weight\": 0.0}, {\"source\": 44, \"target\": 20, \"weight\": 1.0}, {\"source\": 15, \"target\": 15, \"weight\": 0.0}, {\"source\": 15, \"target\": 56, \"weight\": 1.0}, {\"source\": 46, \"target\": 46, \"weight\": 0.0}, {\"source\": 47, \"target\": 47, \"weight\": 0.0}, {\"source\": 48, \"target\": 48, \"weight\": 0.0}, {\"source\": 48, \"target\": 20, \"weight\": 2.0}, {\"source\": 30, \"target\": 30, \"weight\": 0.0}, {\"source\": 30, \"target\": 51, \"weight\": 5.0}, {\"source\": 49, \"target\": 49, \"weight\": 0.0}, {\"source\": 50, \"target\": 50, \"weight\": 0.0}, {\"source\": 17, \"target\": 17, \"weight\": 0.0}, {\"source\": 18, \"target\": 18, \"weight\": 0.0}, {\"source\": 18, \"target\": 40, \"weight\": 2.0}, {\"source\": 51, \"target\": 51, \"weight\": 0.0}, {\"source\": 19, \"target\": 19, \"weight\": 0.0}, {\"source\": 52, \"target\": 52, \"weight\": 0.0}, {\"source\": 20, \"target\": 20, \"weight\": 0.0}, {\"source\": 20, \"target\": 56, \"weight\": 2.0}, {\"source\": 53, \"target\": 53, \"weight\": 0.0}, {\"source\": 54, \"target\": 54, \"weight\": 0.0}, {\"source\": 40, \"target\": 40, \"weight\": 0.0}, {\"source\": 21, \"target\": 21, \"weight\": 0.0}, {\"source\": 56, \"target\": 56, \"weight\": 0.0}], \"multigraph\": false};\n",
        "\n",
        "//d3.json(\"bodyparts_graph.json\", function(error, json) {\n",
        "  force\n",
        "      .nodes(json.nodes)\n",
        "      .links(json.links)\n",
        "      .start();\n",
        "\n",
        "  var link = svg.selectAll(\"line.link\")\n",
        "      .data(json.links)\n",
        "    .enter().append(\"line\")\n",
        "      .attr(\"class\", \"link\")\n",
        "      .style(\"stroke-width\", function(d) { return d.weight; });\n",
        "\n",
        "  var node = svg.selectAll(\"circle.node\")\n",
        "      .data(json.nodes)\n",
        "    .enter().append(\"g\")\n",
        "      .attr(\"class\", \"node\")\n",
        "      .call(force.drag);\n",
        "\n",
        "  node.append(\"circle\")\n",
        "      .attr(\"r\", 5);\n",
        "      //.style(\"fill\", function(d) { return color(d.group); })\n",
        "\n",
        "  node.append(\"text\")\n",
        "      .attr(\"dx\", 12)\n",
        "      .attr(\"dy\", \".35em\")\n",
        "      .text(function(d) { return d.id });\n",
        "\n",
        "  force.on(\"tick\", function() {\n",
        "    link.attr(\"x1\", function(d) { return d.source.x; })\n",
        "        .attr(\"y1\", function(d) { return d.source.y; })\n",
        "        .attr(\"x2\", function(d) { return d.target.x; })\n",
        "        .attr(\"y2\", function(d) { return d.target.y; });\n",
        "\n",
        "    node.attr(\"transform\", function(d) { return \"translate(\" + d.x + \",\" + d.y + \")\"; });\n",
        "  });\n",
        "//});\n"
       ],
       "output_type": "display_data",
       "text": [
        "<IPython.core.display.Javascript at 0x44440128>"
       ]
      }
     ],
     "prompt_number": 234
    },
    {
     "cell_type": "code",
     "collapsed": false,
     "input": [],
     "language": "python",
     "metadata": {},
     "outputs": []
    }
   ],
   "metadata": {}
  }
 ]
}